{
  "nbformat": 4,
  "nbformat_minor": 0,
  "metadata": {
    "colab": {
      "provenance": [],
      "include_colab_link": true
    },
    "kernelspec": {
      "name": "python3",
      "display_name": "Python 3"
    },
    "language_info": {
      "name": "python"
    },
    "widgets": {
      "application/vnd.jupyter.widget-state+json": {
        "27b9651804894ea9befc2c242f352b9a": {
          "model_module": "@jupyter-widgets/controls",
          "model_name": "VBoxModel",
          "model_module_version": "1.5.0",
          "state": {
            "_dom_classes": [],
            "_model_module": "@jupyter-widgets/controls",
            "_model_module_version": "1.5.0",
            "_model_name": "VBoxModel",
            "_view_count": null,
            "_view_module": "@jupyter-widgets/controls",
            "_view_module_version": "1.5.0",
            "_view_name": "VBoxView",
            "box_style": "",
            "children": [
              "IPY_MODEL_2efbb9b5f4d747fb9f8cc58c36991ba0",
              "IPY_MODEL_1e782b959ab84c7d9531073eaf2d2ee3",
              "IPY_MODEL_34e8a3832311483a943fa0cff1234bb2"
            ],
            "layout": "IPY_MODEL_9066e1518f194cf3bd5c4bca05f0126d"
          }
        },
        "2efbb9b5f4d747fb9f8cc58c36991ba0": {
          "model_module": "@jupyter-widgets/controls",
          "model_name": "FloatSliderModel",
          "model_module_version": "1.5.0",
          "state": {
            "_dom_classes": [],
            "_model_module": "@jupyter-widgets/controls",
            "_model_module_version": "1.5.0",
            "_model_name": "FloatSliderModel",
            "_view_count": null,
            "_view_module": "@jupyter-widgets/controls",
            "_view_module_version": "1.5.0",
            "_view_name": "FloatSliderView",
            "continuous_update": true,
            "description": "Logit 1:",
            "description_tooltip": null,
            "disabled": false,
            "layout": "IPY_MODEL_5aa98924bb5d4f72844347790a41eaff",
            "max": 10,
            "min": -10,
            "orientation": "horizontal",
            "readout": true,
            "readout_format": ".2f",
            "step": 0.1,
            "style": "IPY_MODEL_42387fb839db401eb125a6ec4f117b92",
            "value": 0
          }
        },
        "1e782b959ab84c7d9531073eaf2d2ee3": {
          "model_module": "@jupyter-widgets/controls",
          "model_name": "FloatSliderModel",
          "model_module_version": "1.5.0",
          "state": {
            "_dom_classes": [],
            "_model_module": "@jupyter-widgets/controls",
            "_model_module_version": "1.5.0",
            "_model_name": "FloatSliderModel",
            "_view_count": null,
            "_view_module": "@jupyter-widgets/controls",
            "_view_module_version": "1.5.0",
            "_view_name": "FloatSliderView",
            "continuous_update": true,
            "description": "Logit 2:",
            "description_tooltip": null,
            "disabled": false,
            "layout": "IPY_MODEL_9b33a588c1c74e2482107fe2375d4f64",
            "max": 10,
            "min": -10,
            "orientation": "horizontal",
            "readout": true,
            "readout_format": ".2f",
            "step": 0.1,
            "style": "IPY_MODEL_fda72ead939d4a5eb32faa9f9e325180",
            "value": 0
          }
        },
        "34e8a3832311483a943fa0cff1234bb2": {
          "model_module": "@jupyter-widgets/controls",
          "model_name": "FloatSliderModel",
          "model_module_version": "1.5.0",
          "state": {
            "_dom_classes": [],
            "_model_module": "@jupyter-widgets/controls",
            "_model_module_version": "1.5.0",
            "_model_name": "FloatSliderModel",
            "_view_count": null,
            "_view_module": "@jupyter-widgets/controls",
            "_view_module_version": "1.5.0",
            "_view_name": "FloatSliderView",
            "continuous_update": true,
            "description": "Logit 3:",
            "description_tooltip": null,
            "disabled": false,
            "layout": "IPY_MODEL_fa96f323c22c4940b94a2500f89900e8",
            "max": 10,
            "min": -10,
            "orientation": "horizontal",
            "readout": true,
            "readout_format": ".2f",
            "step": 0.1,
            "style": "IPY_MODEL_e7ba8fd0783142d3bf0f6b15756d376f",
            "value": 0
          }
        },
        "9066e1518f194cf3bd5c4bca05f0126d": {
          "model_module": "@jupyter-widgets/base",
          "model_name": "LayoutModel",
          "model_module_version": "1.2.0",
          "state": {
            "_model_module": "@jupyter-widgets/base",
            "_model_module_version": "1.2.0",
            "_model_name": "LayoutModel",
            "_view_count": null,
            "_view_module": "@jupyter-widgets/base",
            "_view_module_version": "1.2.0",
            "_view_name": "LayoutView",
            "align_content": null,
            "align_items": null,
            "align_self": null,
            "border": null,
            "bottom": null,
            "display": null,
            "flex": null,
            "flex_flow": null,
            "grid_area": null,
            "grid_auto_columns": null,
            "grid_auto_flow": null,
            "grid_auto_rows": null,
            "grid_column": null,
            "grid_gap": null,
            "grid_row": null,
            "grid_template_areas": null,
            "grid_template_columns": null,
            "grid_template_rows": null,
            "height": null,
            "justify_content": null,
            "justify_items": null,
            "left": null,
            "margin": null,
            "max_height": null,
            "max_width": null,
            "min_height": null,
            "min_width": null,
            "object_fit": null,
            "object_position": null,
            "order": null,
            "overflow": null,
            "overflow_x": null,
            "overflow_y": null,
            "padding": null,
            "right": null,
            "top": null,
            "visibility": null,
            "width": null
          }
        },
        "5aa98924bb5d4f72844347790a41eaff": {
          "model_module": "@jupyter-widgets/base",
          "model_name": "LayoutModel",
          "model_module_version": "1.2.0",
          "state": {
            "_model_module": "@jupyter-widgets/base",
            "_model_module_version": "1.2.0",
            "_model_name": "LayoutModel",
            "_view_count": null,
            "_view_module": "@jupyter-widgets/base",
            "_view_module_version": "1.2.0",
            "_view_name": "LayoutView",
            "align_content": null,
            "align_items": null,
            "align_self": null,
            "border": null,
            "bottom": null,
            "display": null,
            "flex": null,
            "flex_flow": null,
            "grid_area": null,
            "grid_auto_columns": null,
            "grid_auto_flow": null,
            "grid_auto_rows": null,
            "grid_column": null,
            "grid_gap": null,
            "grid_row": null,
            "grid_template_areas": null,
            "grid_template_columns": null,
            "grid_template_rows": null,
            "height": null,
            "justify_content": null,
            "justify_items": null,
            "left": null,
            "margin": null,
            "max_height": null,
            "max_width": null,
            "min_height": null,
            "min_width": null,
            "object_fit": null,
            "object_position": null,
            "order": null,
            "overflow": null,
            "overflow_x": null,
            "overflow_y": null,
            "padding": null,
            "right": null,
            "top": null,
            "visibility": null,
            "width": null
          }
        },
        "42387fb839db401eb125a6ec4f117b92": {
          "model_module": "@jupyter-widgets/controls",
          "model_name": "SliderStyleModel",
          "model_module_version": "1.5.0",
          "state": {
            "_model_module": "@jupyter-widgets/controls",
            "_model_module_version": "1.5.0",
            "_model_name": "SliderStyleModel",
            "_view_count": null,
            "_view_module": "@jupyter-widgets/base",
            "_view_module_version": "1.2.0",
            "_view_name": "StyleView",
            "description_width": "",
            "handle_color": null
          }
        },
        "9b33a588c1c74e2482107fe2375d4f64": {
          "model_module": "@jupyter-widgets/base",
          "model_name": "LayoutModel",
          "model_module_version": "1.2.0",
          "state": {
            "_model_module": "@jupyter-widgets/base",
            "_model_module_version": "1.2.0",
            "_model_name": "LayoutModel",
            "_view_count": null,
            "_view_module": "@jupyter-widgets/base",
            "_view_module_version": "1.2.0",
            "_view_name": "LayoutView",
            "align_content": null,
            "align_items": null,
            "align_self": null,
            "border": null,
            "bottom": null,
            "display": null,
            "flex": null,
            "flex_flow": null,
            "grid_area": null,
            "grid_auto_columns": null,
            "grid_auto_flow": null,
            "grid_auto_rows": null,
            "grid_column": null,
            "grid_gap": null,
            "grid_row": null,
            "grid_template_areas": null,
            "grid_template_columns": null,
            "grid_template_rows": null,
            "height": null,
            "justify_content": null,
            "justify_items": null,
            "left": null,
            "margin": null,
            "max_height": null,
            "max_width": null,
            "min_height": null,
            "min_width": null,
            "object_fit": null,
            "object_position": null,
            "order": null,
            "overflow": null,
            "overflow_x": null,
            "overflow_y": null,
            "padding": null,
            "right": null,
            "top": null,
            "visibility": null,
            "width": null
          }
        },
        "fda72ead939d4a5eb32faa9f9e325180": {
          "model_module": "@jupyter-widgets/controls",
          "model_name": "SliderStyleModel",
          "model_module_version": "1.5.0",
          "state": {
            "_model_module": "@jupyter-widgets/controls",
            "_model_module_version": "1.5.0",
            "_model_name": "SliderStyleModel",
            "_view_count": null,
            "_view_module": "@jupyter-widgets/base",
            "_view_module_version": "1.2.0",
            "_view_name": "StyleView",
            "description_width": "",
            "handle_color": null
          }
        },
        "fa96f323c22c4940b94a2500f89900e8": {
          "model_module": "@jupyter-widgets/base",
          "model_name": "LayoutModel",
          "model_module_version": "1.2.0",
          "state": {
            "_model_module": "@jupyter-widgets/base",
            "_model_module_version": "1.2.0",
            "_model_name": "LayoutModel",
            "_view_count": null,
            "_view_module": "@jupyter-widgets/base",
            "_view_module_version": "1.2.0",
            "_view_name": "LayoutView",
            "align_content": null,
            "align_items": null,
            "align_self": null,
            "border": null,
            "bottom": null,
            "display": null,
            "flex": null,
            "flex_flow": null,
            "grid_area": null,
            "grid_auto_columns": null,
            "grid_auto_flow": null,
            "grid_auto_rows": null,
            "grid_column": null,
            "grid_gap": null,
            "grid_row": null,
            "grid_template_areas": null,
            "grid_template_columns": null,
            "grid_template_rows": null,
            "height": null,
            "justify_content": null,
            "justify_items": null,
            "left": null,
            "margin": null,
            "max_height": null,
            "max_width": null,
            "min_height": null,
            "min_width": null,
            "object_fit": null,
            "object_position": null,
            "order": null,
            "overflow": null,
            "overflow_x": null,
            "overflow_y": null,
            "padding": null,
            "right": null,
            "top": null,
            "visibility": null,
            "width": null
          }
        },
        "e7ba8fd0783142d3bf0f6b15756d376f": {
          "model_module": "@jupyter-widgets/controls",
          "model_name": "SliderStyleModel",
          "model_module_version": "1.5.0",
          "state": {
            "_model_module": "@jupyter-widgets/controls",
            "_model_module_version": "1.5.0",
            "_model_name": "SliderStyleModel",
            "_view_count": null,
            "_view_module": "@jupyter-widgets/base",
            "_view_module_version": "1.2.0",
            "_view_name": "StyleView",
            "description_width": "",
            "handle_color": null
          }
        },
        "0a4ecc6f09ee4c3d89bc08f8ec4d8fdd": {
          "model_module": "@jupyter-widgets/output",
          "model_name": "OutputModel",
          "model_module_version": "1.0.0",
          "state": {
            "_dom_classes": [],
            "_model_module": "@jupyter-widgets/output",
            "_model_module_version": "1.0.0",
            "_model_name": "OutputModel",
            "_view_count": null,
            "_view_module": "@jupyter-widgets/output",
            "_view_module_version": "1.0.0",
            "_view_name": "OutputView",
            "layout": "IPY_MODEL_14f787b66e8d4d82b4862fa1bdac3de4",
            "msg_id": "",
            "outputs": [
              {
                "output_type": "stream",
                "name": "stdout",
                "text": [
                  "Logits: [[0. 0. 0.]]\n",
                  "Probabilities: [[0.33333333 0.33333333 0.33333333]]\n",
                  "Cross-entropy loss: 1.0986122886681098\n"
                ]
              }
            ]
          }
        },
        "14f787b66e8d4d82b4862fa1bdac3de4": {
          "model_module": "@jupyter-widgets/base",
          "model_name": "LayoutModel",
          "model_module_version": "1.2.0",
          "state": {
            "_model_module": "@jupyter-widgets/base",
            "_model_module_version": "1.2.0",
            "_model_name": "LayoutModel",
            "_view_count": null,
            "_view_module": "@jupyter-widgets/base",
            "_view_module_version": "1.2.0",
            "_view_name": "LayoutView",
            "align_content": null,
            "align_items": null,
            "align_self": null,
            "border": null,
            "bottom": null,
            "display": null,
            "flex": null,
            "flex_flow": null,
            "grid_area": null,
            "grid_auto_columns": null,
            "grid_auto_flow": null,
            "grid_auto_rows": null,
            "grid_column": null,
            "grid_gap": null,
            "grid_row": null,
            "grid_template_areas": null,
            "grid_template_columns": null,
            "grid_template_rows": null,
            "height": null,
            "justify_content": null,
            "justify_items": null,
            "left": null,
            "margin": null,
            "max_height": null,
            "max_width": null,
            "min_height": null,
            "min_width": null,
            "object_fit": null,
            "object_position": null,
            "order": null,
            "overflow": null,
            "overflow_x": null,
            "overflow_y": null,
            "padding": null,
            "right": null,
            "top": null,
            "visibility": null,
            "width": null
          }
        }
      }
    }
  },
  "cells": [
    {
      "cell_type": "markdown",
      "metadata": {
        "id": "view-in-github",
        "colab_type": "text"
      },
      "source": [
        "<a href=\"https://colab.research.google.com/github/elhamod/BA865-2024/blob/main/hands-on/Math_of_Deep_Learning.ipynb\" target=\"_parent\"><img src=\"https://colab.research.google.com/assets/colab-badge.svg\" alt=\"Open In Colab\"/></a>"
      ]
    },
    {
      "cell_type": "markdown",
      "source": [
        "#**Matrix operations**"
      ],
      "metadata": {
        "id": "6133HyozNZtL"
      }
    },
    {
      "cell_type": "markdown",
      "source": [
        "**Creating tensors and adding them**"
      ],
      "metadata": {
        "id": "PVBOwKL5OctX"
      }
    },
    {
      "cell_type": "code",
      "source": [
        "import numpy as np\n",
        "\n",
        "A = np.array([[1,2],[3,4]])\n",
        "B = np.array([[1,3],[3,5]])"
      ],
      "metadata": {
        "id": "NzbbruNuebOZ"
      },
      "execution_count": null,
      "outputs": []
    },
    {
      "cell_type": "code",
      "source": [
        "B"
      ],
      "metadata": {
        "colab": {
          "base_uri": "https://localhost:8080/"
        },
        "id": "WRE1sMDtu3gK",
        "outputId": "4aa7ce85-e70e-4755-8467-693a7b4666ce"
      },
      "execution_count": null,
      "outputs": [
        {
          "output_type": "execute_result",
          "data": {
            "text/plain": [
              "array([[1, 3],\n",
              "       [3, 5]])"
            ]
          },
          "metadata": {},
          "execution_count": 89
        }
      ]
    },
    {
      "cell_type": "code",
      "source": [
        "B.shape"
      ],
      "metadata": {
        "colab": {
          "base_uri": "https://localhost:8080/"
        },
        "id": "HufteGI_u_jj",
        "outputId": "17ecd54b-4c10-4d8c-dcc6-9cc56d2098ca"
      },
      "execution_count": null,
      "outputs": [
        {
          "output_type": "execute_result",
          "data": {
            "text/plain": [
              "(2, 2)"
            ]
          },
          "metadata": {},
          "execution_count": 90
        }
      ]
    },
    {
      "cell_type": "code",
      "source": [
        "A"
      ],
      "metadata": {
        "colab": {
          "base_uri": "https://localhost:8080/"
        },
        "id": "X4I7Um8Mu7AO",
        "outputId": "664c34af-8f7e-4655-8bb9-564bdde12ee1"
      },
      "execution_count": null,
      "outputs": [
        {
          "output_type": "execute_result",
          "data": {
            "text/plain": [
              "array([[1, 2],\n",
              "       [3, 4]])"
            ]
          },
          "metadata": {},
          "execution_count": 91
        }
      ]
    },
    {
      "cell_type": "code",
      "source": [
        "A.shape"
      ],
      "metadata": {
        "colab": {
          "base_uri": "https://localhost:8080/"
        },
        "id": "KO4izKV9vIDq",
        "outputId": "b1bb5bc7-b883-46ef-917d-6e16b189d0fb"
      },
      "execution_count": null,
      "outputs": [
        {
          "output_type": "execute_result",
          "data": {
            "text/plain": [
              "(2, 2)"
            ]
          },
          "metadata": {},
          "execution_count": 92
        }
      ]
    },
    {
      "cell_type": "code",
      "source": [
        "A+B"
      ],
      "metadata": {
        "colab": {
          "base_uri": "https://localhost:8080/"
        },
        "id": "xlDiKk22MuWc",
        "outputId": "88c16543-c0d2-445d-c6b6-96a49d9166b4"
      },
      "execution_count": null,
      "outputs": [
        {
          "output_type": "execute_result",
          "data": {
            "text/plain": [
              "array([[2, 5],\n",
              "       [6, 9]])"
            ]
          },
          "metadata": {},
          "execution_count": 93
        }
      ]
    },
    {
      "cell_type": "markdown",
      "source": [
        "We can also \"broadcast\"."
      ],
      "metadata": {
        "id": "DnZbBsJZM4nQ"
      }
    },
    {
      "cell_type": "code",
      "source": [
        "C = np.array([3,5])"
      ],
      "metadata": {
        "id": "fcWlzBKCM8nQ"
      },
      "execution_count": null,
      "outputs": []
    },
    {
      "cell_type": "code",
      "source": [
        "A+C"
      ],
      "metadata": {
        "colab": {
          "base_uri": "https://localhost:8080/"
        },
        "id": "2uXbCUrHNLom",
        "outputId": "c911df83-75b0-45eb-c7da-ed391ad2eddc"
      },
      "execution_count": null,
      "outputs": [
        {
          "output_type": "execute_result",
          "data": {
            "text/plain": [
              "array([[4, 7],\n",
              "       [6, 9]])"
            ]
          },
          "metadata": {},
          "execution_count": 95
        }
      ]
    },
    {
      "cell_type": "markdown",
      "source": [
        "**Matrix Dot Product**"
      ],
      "metadata": {
        "id": "Uc_WorZoef_B"
      }
    },
    {
      "cell_type": "code",
      "source": [
        "A = np.array([[[1, 2, 3, 4], [3, 4, 1 , 3]],[[1, 2, 3, 4], [3, 4, 1 , 3]]])\n",
        "B = np.array([[3, 4,1], [1 , 3, 1], [1,2, 1], [3,4, 1]])"
      ],
      "metadata": {
        "id": "x6c-bLxKQTrx"
      },
      "execution_count": null,
      "outputs": []
    },
    {
      "cell_type": "code",
      "source": [
        "A.shape"
      ],
      "metadata": {
        "colab": {
          "base_uri": "https://localhost:8080/"
        },
        "id": "LBJkusyexu6r",
        "outputId": "0aaa8554-4190-4809-92e8-bd974c076ebc"
      },
      "execution_count": null,
      "outputs": [
        {
          "output_type": "execute_result",
          "data": {
            "text/plain": [
              "(2, 2, 4)"
            ]
          },
          "metadata": {},
          "execution_count": 103
        }
      ]
    },
    {
      "cell_type": "code",
      "source": [
        "B.shape"
      ],
      "metadata": {
        "colab": {
          "base_uri": "https://localhost:8080/"
        },
        "id": "JP4T0qkv2pSF",
        "outputId": "d7fc9a07-11d0-4f60-d422-b1df377c6ac9"
      },
      "execution_count": null,
      "outputs": [
        {
          "output_type": "execute_result",
          "data": {
            "text/plain": [
              "(4, 3)"
            ]
          },
          "metadata": {},
          "execution_count": 104
        }
      ]
    },
    {
      "cell_type": "code",
      "source": [
        "C = A@B"
      ],
      "metadata": {
        "id": "aXcPosn0yP0M"
      },
      "execution_count": null,
      "outputs": []
    },
    {
      "cell_type": "code",
      "source": [
        "C"
      ],
      "metadata": {
        "colab": {
          "base_uri": "https://localhost:8080/"
        },
        "id": "sTeqcbn0NW7t",
        "outputId": "7e20df13-a0e1-444a-97f3-9ed6400b0fc6"
      },
      "execution_count": null,
      "outputs": [
        {
          "output_type": "execute_result",
          "data": {
            "text/plain": [
              "array([[[20, 32, 10],\n",
              "        [23, 38, 11]],\n",
              "\n",
              "       [[20, 32, 10],\n",
              "        [23, 38, 11]]])"
            ]
          },
          "metadata": {},
          "execution_count": 106
        }
      ]
    },
    {
      "cell_type": "code",
      "source": [
        "B@A"
      ],
      "metadata": {
        "colab": {
          "base_uri": "https://localhost:8080/",
          "height": 141
        },
        "id": "8JXvkvT03V68",
        "outputId": "807e3588-245e-456f-b828-a9ae2b9b9c80"
      },
      "execution_count": null,
      "outputs": [
        {
          "output_type": "error",
          "ename": "ValueError",
          "evalue": "matmul: Input operand 1 has a mismatch in its core dimension 0, with gufunc signature (n?,k),(k,m?)->(n?,m?) (size 2 is different from 3)",
          "traceback": [
            "\u001b[0;31m---------------------------------------------------------------------------\u001b[0m",
            "\u001b[0;31mValueError\u001b[0m                                Traceback (most recent call last)",
            "\u001b[0;32m<ipython-input-107-2b961c7386ac>\u001b[0m in \u001b[0;36m<cell line: 1>\u001b[0;34m()\u001b[0m\n\u001b[0;32m----> 1\u001b[0;31m \u001b[0mB\u001b[0m\u001b[0;34m@\u001b[0m\u001b[0mA\u001b[0m\u001b[0;34m\u001b[0m\u001b[0;34m\u001b[0m\u001b[0m\n\u001b[0m",
            "\u001b[0;31mValueError\u001b[0m: matmul: Input operand 1 has a mismatch in its core dimension 0, with gufunc signature (n?,k),(k,m?)->(n?,m?) (size 2 is different from 3)"
          ]
        }
      ]
    },
    {
      "cell_type": "markdown",
      "source": [
        "A neat way to test tensor operations is to create random tensors with specific dimensionalities."
      ],
      "metadata": {
        "id": "EBMvhFj9NlBL"
      }
    },
    {
      "cell_type": "code",
      "source": [
        "A = np.random.rand(3,4,5, 5, 6, 3)\n",
        "B = np.random.rand(3, 2)\n",
        "(A@B).shape"
      ],
      "metadata": {
        "colab": {
          "base_uri": "https://localhost:8080/"
        },
        "id": "nhPa2nAozG1e",
        "outputId": "7d770d4a-fc26-4adb-fe83-8b52b43864d9"
      },
      "execution_count": null,
      "outputs": [
        {
          "output_type": "execute_result",
          "data": {
            "text/plain": [
              "(3, 4, 5, 5, 6, 2)"
            ]
          },
          "metadata": {},
          "execution_count": 108
        }
      ]
    },
    {
      "cell_type": "markdown",
      "source": [
        "**Element-wise Multiplication**"
      ],
      "metadata": {
        "id": "BSDN6zQGOi7r"
      }
    },
    {
      "cell_type": "code",
      "source": [
        "A = np.array([[1,2],[3,4]])\n",
        "B = np.array([[1,3],[4,5]])\n",
        "\n",
        "A*B"
      ],
      "metadata": {
        "id": "dYV1jV6MOjBN",
        "colab": {
          "base_uri": "https://localhost:8080/"
        },
        "outputId": "0eda00c8-1ea1-4697-d230-e46f977a2ffd"
      },
      "execution_count": null,
      "outputs": [
        {
          "output_type": "execute_result",
          "data": {
            "text/plain": [
              "array([[ 1,  6],\n",
              "       [12, 20]])"
            ]
          },
          "metadata": {},
          "execution_count": 109
        }
      ]
    },
    {
      "cell_type": "code",
      "source": [
        "C = np.array([1,3])\n",
        "\n",
        "A*C"
      ],
      "metadata": {
        "colab": {
          "base_uri": "https://localhost:8080/"
        },
        "id": "-O3uX30rN89H",
        "outputId": "66231cfd-6975-483a-8d34-7e769bd3f785"
      },
      "execution_count": null,
      "outputs": [
        {
          "output_type": "execute_result",
          "data": {
            "text/plain": [
              "array([[ 1,  6],\n",
              "       [ 3, 12]])"
            ]
          },
          "metadata": {},
          "execution_count": 110
        }
      ]
    },
    {
      "cell_type": "code",
      "source": [
        "D = np.array([1,3, 5])\n",
        "\n",
        "A*D"
      ],
      "metadata": {
        "colab": {
          "base_uri": "https://localhost:8080/",
          "height": 176
        },
        "id": "EzUz3nWuOBU1",
        "outputId": "d5f3978c-132d-4276-d434-178f58de604e"
      },
      "execution_count": null,
      "outputs": [
        {
          "output_type": "error",
          "ename": "ValueError",
          "evalue": "operands could not be broadcast together with shapes (2,2) (3,) ",
          "traceback": [
            "\u001b[0;31m---------------------------------------------------------------------------\u001b[0m",
            "\u001b[0;31mValueError\u001b[0m                                Traceback (most recent call last)",
            "\u001b[0;32m<ipython-input-112-cf40337239b1>\u001b[0m in \u001b[0;36m<cell line: 3>\u001b[0;34m()\u001b[0m\n\u001b[1;32m      1\u001b[0m \u001b[0mD\u001b[0m \u001b[0;34m=\u001b[0m \u001b[0mnp\u001b[0m\u001b[0;34m.\u001b[0m\u001b[0marray\u001b[0m\u001b[0;34m(\u001b[0m\u001b[0;34m[\u001b[0m\u001b[0;36m1\u001b[0m\u001b[0;34m,\u001b[0m\u001b[0;36m3\u001b[0m\u001b[0;34m,\u001b[0m \u001b[0;36m5\u001b[0m\u001b[0;34m]\u001b[0m\u001b[0;34m)\u001b[0m\u001b[0;34m\u001b[0m\u001b[0;34m\u001b[0m\u001b[0m\n\u001b[1;32m      2\u001b[0m \u001b[0;34m\u001b[0m\u001b[0m\n\u001b[0;32m----> 3\u001b[0;31m \u001b[0mA\u001b[0m\u001b[0;34m*\u001b[0m\u001b[0mD\u001b[0m\u001b[0;34m\u001b[0m\u001b[0;34m\u001b[0m\u001b[0m\n\u001b[0m",
            "\u001b[0;31mValueError\u001b[0m: operands could not be broadcast together with shapes (2,2) (3,) "
          ]
        }
      ]
    },
    {
      "cell_type": "markdown",
      "source": [
        "**Slicing**"
      ],
      "metadata": {
        "id": "cXGWTpMzPM0d"
      }
    },
    {
      "cell_type": "code",
      "source": [
        "A = np.array([[1,2],[3,4]])\n",
        "\n",
        "A[:, 1]"
      ],
      "metadata": {
        "id": "W5NeERxEPNFL",
        "colab": {
          "base_uri": "https://localhost:8080/"
        },
        "outputId": "96bace58-c093-4494-823b-311e394f042e"
      },
      "execution_count": null,
      "outputs": [
        {
          "output_type": "execute_result",
          "data": {
            "text/plain": [
              "array([2, 4])"
            ]
          },
          "metadata": {},
          "execution_count": 114
        }
      ]
    },
    {
      "cell_type": "code",
      "source": [
        "B = np.array([[[1,2, 1],[3,4, 2]], [[1,2, 2],[3,4, 1]]])\n",
        "\n",
        "B.shape"
      ],
      "metadata": {
        "colab": {
          "base_uri": "https://localhost:8080/"
        },
        "id": "Kyn1uVGAOZmi",
        "outputId": "61908419-25ff-498d-ba85-6189f69e2a3e"
      },
      "execution_count": null,
      "outputs": [
        {
          "output_type": "execute_result",
          "data": {
            "text/plain": [
              "(2, 2, 3)"
            ]
          },
          "metadata": {},
          "execution_count": 116
        }
      ]
    },
    {
      "cell_type": "code",
      "source": [
        "B[:, 1, :].shape"
      ],
      "metadata": {
        "colab": {
          "base_uri": "https://localhost:8080/"
        },
        "id": "BMLPrY5zOdPH",
        "outputId": "51417d85-b35c-480f-c4c4-b88a376aaa7a"
      },
      "execution_count": null,
      "outputs": [
        {
          "output_type": "execute_result",
          "data": {
            "text/plain": [
              "(2, 3)"
            ]
          },
          "metadata": {},
          "execution_count": 118
        }
      ]
    },
    {
      "cell_type": "code",
      "source": [
        "B[:, :, 1].shape"
      ],
      "metadata": {
        "colab": {
          "base_uri": "https://localhost:8080/"
        },
        "id": "bsMJi2cmOsPY",
        "outputId": "e525d4c7-893a-40a3-b361-0e56d74ffa46"
      },
      "execution_count": null,
      "outputs": [
        {
          "output_type": "execute_result",
          "data": {
            "text/plain": [
              "(2, 2)"
            ]
          },
          "metadata": {},
          "execution_count": 119
        }
      ]
    },
    {
      "cell_type": "code",
      "source": [
        "B[:, :, 0:2].shape"
      ],
      "metadata": {
        "colab": {
          "base_uri": "https://localhost:8080/"
        },
        "id": "4eBIYlRUOvWo",
        "outputId": "07805c51-60da-4c09-a625-3f75d63dea90"
      },
      "execution_count": null,
      "outputs": [
        {
          "output_type": "execute_result",
          "data": {
            "text/plain": [
              "(2, 2, 2)"
            ]
          },
          "metadata": {},
          "execution_count": 120
        }
      ]
    },
    {
      "cell_type": "markdown",
      "source": [
        "##What does a linear transformation look like?"
      ],
      "metadata": {
        "id": "7xMcMlyQQEOj"
      }
    },
    {
      "cell_type": "markdown",
      "source": [
        "Let's draw a line"
      ],
      "metadata": {
        "id": "eeBOlFuNO5Ir"
      }
    },
    {
      "cell_type": "code",
      "source": [
        "import numpy as np\n",
        "import matplotlib.pyplot as plt\n",
        "\n",
        "# Define the start and end points\n",
        "start_point = np.array([-1, -2])\n",
        "end_point = np.array([5, 8])\n",
        "\n",
        "# Number of points (including the start and end points)\n",
        "num_points = 10\n",
        "\n",
        "# Create an array of equally spaced points\n",
        "line = np.linspace(start_point, end_point, num_points)"
      ],
      "metadata": {
        "id": "-fJYQZcyQLNF"
      },
      "execution_count": null,
      "outputs": []
    },
    {
      "cell_type": "code",
      "source": [
        "# Plot a set of points and their transformation\n",
        "def plot_transformation(points, transformed_points):\n",
        "  # Plotting\n",
        "  plt.figure(figsize=(8, 8))\n",
        "  plt.plot(points[:, 0], points[:, 1], 'b-', label='Original Points')\n",
        "  plt.plot(transformed_points[:, 0], transformed_points[:, 1], 'r-', label='Transformed Points')\n",
        "\n",
        "  plt.scatter(points[:, 0], points[:, 1], marker='o', color='b')\n",
        "  plt.scatter(transformed_points[:, 0], transformed_points[:, 1], marker='o', color='r')\n",
        "\n",
        "  plt.xlabel('X-axis')\n",
        "  plt.ylabel('Y-axis')\n",
        "  plt.title('Transformation of Points')\n",
        "  plt.legend()\n",
        "  plt.grid(True)\n",
        "  plt.axis('equal')\n",
        "  plt.show()"
      ],
      "metadata": {
        "id": "3KqFowSXQXb_"
      },
      "execution_count": null,
      "outputs": []
    },
    {
      "cell_type": "markdown",
      "source": [
        "Transform and plot!"
      ],
      "metadata": {
        "id": "y_5KQNotPRaa"
      }
    },
    {
      "cell_type": "code",
      "source": [],
      "metadata": {
        "id": "-Adp0A3pPK0v"
      },
      "execution_count": null,
      "outputs": []
    },
    {
      "cell_type": "code",
      "source": [],
      "metadata": {
        "id": "o0Zi58ikR0BQ"
      },
      "execution_count": null,
      "outputs": []
    },
    {
      "cell_type": "markdown",
      "source": [
        "**How About Non-linearities?**"
      ],
      "metadata": {
        "id": "7Js2xw02QGzH"
      }
    },
    {
      "cell_type": "code",
      "source": [],
      "metadata": {
        "id": "ega7vkJcTz_v"
      },
      "execution_count": null,
      "outputs": []
    },
    {
      "cell_type": "code",
      "source": [],
      "metadata": {
        "id": "cYReGbalSsDr"
      },
      "execution_count": null,
      "outputs": []
    },
    {
      "cell_type": "markdown",
      "source": [
        "**Gradients**"
      ],
      "metadata": {
        "id": "8zWMxrdCWYbq"
      }
    },
    {
      "cell_type": "code",
      "source": [
        "def func(x, y):\n",
        "  return (np.sin(x) * np.sin(y))"
      ],
      "metadata": {
        "id": "0q104DrwSu_q"
      },
      "execution_count": null,
      "outputs": []
    },
    {
      "cell_type": "code",
      "source": [
        "# Create a 2D array of equally spaced points\n",
        "x = np.linspace(0, 5, 60)\n",
        "y = np.linspace(0, 5, 60)\n",
        "X, Y = np.meshgrid(x, y)\n",
        "\n",
        "# Define a function of X and Y (e.g., a quadratic function)\n",
        "# f_xy = X**2 + Y**2\n",
        "f_xy = func(X, Y)\n",
        "\n",
        "# Compute the gradient of f(X, Y) with respect to X and Y\n",
        "gradient_X, gradient_Y = np.gradient(f_xy, x, y)"
      ],
      "metadata": {
        "id": "eqfMJwDrWYfp"
      },
      "execution_count": null,
      "outputs": []
    },
    {
      "cell_type": "markdown",
      "source": [
        "Let's do gradient descent."
      ],
      "metadata": {
        "id": "ImuDYoADXxH-"
      }
    },
    {
      "cell_type": "code",
      "source": [
        "starting_point = np.array([1.6, 1.7])\n",
        "alpha = 0.1\n",
        "\n",
        "\n",
        "\n",
        "\n",
        "\n"
      ],
      "metadata": {
        "id": "vziOdaq9XwyB"
      },
      "execution_count": null,
      "outputs": []
    },
    {
      "cell_type": "code",
      "source": [],
      "metadata": {
        "id": "vJRTE00ISPSm"
      },
      "execution_count": null,
      "outputs": []
    },
    {
      "cell_type": "markdown",
      "source": [
        "Let's plot"
      ],
      "metadata": {
        "id": "G0FxLxwvXzqX"
      }
    },
    {
      "cell_type": "code",
      "source": [
        "import plotly.graph_objects as go\n",
        "\n",
        "# Create a surface plot using Plotly\n",
        "fig = go.Figure(data=[go.Surface(z=f_xy, x=X, y=Y)])\n",
        "\n",
        "# Update layout and axis labels\n",
        "fig.update_layout(title='Surface Plot',\n",
        "                  scene=dict(xaxis_title='X',\n",
        "                             yaxis_title='Y',\n",
        "                             zaxis_title='f(X, Y)'))\n",
        "\n",
        "# Add a scatter plot (set of points) to the figure\n",
        "fig.add_trace(go.Scatter3d(x=points[:,0], y=points[:,1], z=points[:,2],\n",
        "                           mode='markers', marker=dict(size=5, color='red')))\n",
        "\n",
        "\n",
        "# Show the plot\n",
        "fig.show()"
      ],
      "metadata": {
        "id": "jxGELcNPXgd_"
      },
      "execution_count": null,
      "outputs": []
    },
    {
      "cell_type": "markdown",
      "source": [
        "**MSE and MAE**"
      ],
      "metadata": {
        "id": "whFyiqZyeMDa"
      }
    },
    {
      "cell_type": "code",
      "source": [],
      "metadata": {
        "id": "lqpgVC1ZeMLi"
      },
      "execution_count": null,
      "outputs": []
    },
    {
      "cell_type": "markdown",
      "source": [
        "**Softmax and Cross Entropy**"
      ],
      "metadata": {
        "id": "VAtW_jxKYjdo"
      }
    },
    {
      "cell_type": "code",
      "source": [
        "import torch\n",
        "import torch.nn as nn\n",
        "import torch.nn.functional as F\n"
      ],
      "metadata": {
        "id": "SNC0InPAYjii"
      },
      "execution_count": null,
      "outputs": []
    },
    {
      "cell_type": "markdown",
      "source": [
        "Another way"
      ],
      "metadata": {
        "id": "wOAl7HOOe3rt"
      }
    },
    {
      "cell_type": "code",
      "source": [
        "import torch\n",
        "\n"
      ],
      "metadata": {
        "colab": {
          "base_uri": "https://localhost:8080/"
        },
        "id": "yuOe9m6Tbn7W",
        "outputId": "7a1c795e-f9cf-4ea7-c797-71c6959519fc"
      },
      "execution_count": null,
      "outputs": [
        {
          "output_type": "stream",
          "name": "stdout",
          "text": [
            "Cross-entropy loss: 0.26331570744514465\n"
          ]
        }
      ]
    },
    {
      "cell_type": "markdown",
      "source": [
        "Let's play with this a bit"
      ],
      "metadata": {
        "id": "KVYyNKIOe9Qq"
      }
    },
    {
      "cell_type": "code",
      "source": [
        "import numpy as np\n",
        "from sklearn.metrics import log_loss\n",
        "import ipywidgets as widgets\n",
        "from IPython.display import display\n",
        "\n",
        "\n",
        "\n",
        "\n",
        "\n"
      ],
      "metadata": {
        "colab": {
          "base_uri": "https://localhost:8080/",
          "height": 167,
          "referenced_widgets": [
            "27b9651804894ea9befc2c242f352b9a",
            "2efbb9b5f4d747fb9f8cc58c36991ba0",
            "1e782b959ab84c7d9531073eaf2d2ee3",
            "34e8a3832311483a943fa0cff1234bb2",
            "9066e1518f194cf3bd5c4bca05f0126d",
            "5aa98924bb5d4f72844347790a41eaff",
            "42387fb839db401eb125a6ec4f117b92",
            "9b33a588c1c74e2482107fe2375d4f64",
            "fda72ead939d4a5eb32faa9f9e325180",
            "fa96f323c22c4940b94a2500f89900e8",
            "e7ba8fd0783142d3bf0f6b15756d376f",
            "0a4ecc6f09ee4c3d89bc08f8ec4d8fdd",
            "14f787b66e8d4d82b4862fa1bdac3de4"
          ]
        },
        "id": "DYnvF-hvahaq",
        "outputId": "274c0595-250d-4279-ba69-e524de415e74"
      },
      "execution_count": null,
      "outputs": [
        {
          "output_type": "display_data",
          "data": {
            "text/plain": [
              "VBox(children=(FloatSlider(value=0.0, description='Logit 1:', max=10.0, min=-10.0), FloatSlider(value=0.0, des…"
            ],
            "application/vnd.jupyter.widget-view+json": {
              "version_major": 2,
              "version_minor": 0,
              "model_id": "27b9651804894ea9befc2c242f352b9a"
            }
          },
          "metadata": {}
        },
        {
          "output_type": "display_data",
          "data": {
            "text/plain": [
              "Output()"
            ],
            "application/vnd.jupyter.widget-view+json": {
              "version_major": 2,
              "version_minor": 0,
              "model_id": "0a4ecc6f09ee4c3d89bc08f8ec4d8fdd"
            }
          },
          "metadata": {}
        }
      ]
    },
    {
      "cell_type": "code",
      "source": [
        "\n",
        "\n",
        "# Create sliders for each logit\n",
        "logit1_slider = widgets.FloatSlider(value=0.0, min=-10.0, max=10.0, step=0.1, description='Logit 1:')\n",
        "logit2_slider = widgets.FloatSlider(value=0.0, min=-10.0, max=10.0, step=0.1, description='Logit 2:')\n",
        "logit3_slider = widgets.FloatSlider(value=0.0, min=-10.0, max=10.0, step=0.1, description='Logit 3:')"
      ],
      "metadata": {
        "id": "iVpaVtI6fAQO"
      },
      "execution_count": null,
      "outputs": []
    },
    {
      "cell_type": "code",
      "source": [
        "\n",
        "\n",
        "# Display the sliders and the result\n",
        "ui = widgets.VBox([logit1_slider, logit2_slider, logit3_slider])\n",
        "out = widgets.interactive_output(calculate_loss, {'logit1': logit1_slider, 'logit2': logit2_slider, 'logit3': logit3_slider})\n",
        "display(ui, out)"
      ],
      "metadata": {
        "id": "s4usmtvGfAS4"
      },
      "execution_count": null,
      "outputs": []
    }
  ]
}