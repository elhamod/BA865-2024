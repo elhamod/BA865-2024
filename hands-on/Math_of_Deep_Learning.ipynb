{
  "nbformat": 4,
  "nbformat_minor": 0,
  "metadata": {
    "colab": {
      "provenance": [],
      "include_colab_link": true
    },
    "kernelspec": {
      "name": "python3",
      "display_name": "Python 3"
    },
    "language_info": {
      "name": "python"
    }
  },
  "cells": [
    {
      "cell_type": "markdown",
      "metadata": {
        "id": "view-in-github",
        "colab_type": "text"
      },
      "source": [
        "<a href=\"https://colab.research.google.com/github/elhamod/BA865-2024/blob/main/hands-on/Math_of_Deep_Learning.ipynb\" target=\"_parent\"><img src=\"https://colab.research.google.com/assets/colab-badge.svg\" alt=\"Open In Colab\"/></a>"
      ]
    },
    {
      "cell_type": "markdown",
      "source": [
        "#**Matrix operations**"
      ],
      "metadata": {
        "id": "6133HyozNZtL"
      }
    },
    {
      "cell_type": "markdown",
      "source": [
        "**Creating tensors and adding them**"
      ],
      "metadata": {
        "id": "PVBOwKL5OctX"
      }
    },
    {
      "cell_type": "code",
      "source": [
        "import numpy as np\n",
        "\n",
        "A = np.array([[1,2],[3,4]])\n",
        "B = np.array([[1,3],[3,5]])"
      ],
      "metadata": {
        "id": "NzbbruNuebOZ"
      },
      "execution_count": 1,
      "outputs": []
    },
    {
      "cell_type": "code",
      "source": [
        "B"
      ],
      "metadata": {
        "colab": {
          "base_uri": "https://localhost:8080/"
        },
        "id": "WRE1sMDtu3gK",
        "outputId": "f17846a6-0f4c-45b1-dc43-52da26b9b800"
      },
      "execution_count": 2,
      "outputs": [
        {
          "output_type": "execute_result",
          "data": {
            "text/plain": [
              "array([[1, 3],\n",
              "       [3, 5]])"
            ]
          },
          "metadata": {},
          "execution_count": 2
        }
      ]
    },
    {
      "cell_type": "code",
      "source": [
        "B.shape"
      ],
      "metadata": {
        "colab": {
          "base_uri": "https://localhost:8080/"
        },
        "id": "HufteGI_u_jj",
        "outputId": "5b0b9f18-e5ee-408a-97c1-b563d4885e17"
      },
      "execution_count": 3,
      "outputs": [
        {
          "output_type": "execute_result",
          "data": {
            "text/plain": [
              "(2, 2)"
            ]
          },
          "metadata": {},
          "execution_count": 3
        }
      ]
    },
    {
      "cell_type": "code",
      "source": [
        "A"
      ],
      "metadata": {
        "colab": {
          "base_uri": "https://localhost:8080/"
        },
        "id": "X4I7Um8Mu7AO",
        "outputId": "94e3ee97-d2c8-43a1-fa64-b7f81273001a"
      },
      "execution_count": 4,
      "outputs": [
        {
          "output_type": "execute_result",
          "data": {
            "text/plain": [
              "array([[1, 2],\n",
              "       [3, 4]])"
            ]
          },
          "metadata": {},
          "execution_count": 4
        }
      ]
    },
    {
      "cell_type": "code",
      "source": [
        "A.shape"
      ],
      "metadata": {
        "colab": {
          "base_uri": "https://localhost:8080/"
        },
        "id": "KO4izKV9vIDq",
        "outputId": "d1c6bb33-c503-48df-ac7d-efacf13ac106"
      },
      "execution_count": 5,
      "outputs": [
        {
          "output_type": "execute_result",
          "data": {
            "text/plain": [
              "(2, 2)"
            ]
          },
          "metadata": {},
          "execution_count": 5
        }
      ]
    },
    {
      "cell_type": "code",
      "source": [
        "A+B"
      ],
      "metadata": {
        "colab": {
          "base_uri": "https://localhost:8080/"
        },
        "id": "xlDiKk22MuWc",
        "outputId": "920b8930-6058-4e9f-d732-9af6379209c1"
      },
      "execution_count": 6,
      "outputs": [
        {
          "output_type": "execute_result",
          "data": {
            "text/plain": [
              "array([[2, 5],\n",
              "       [6, 9]])"
            ]
          },
          "metadata": {},
          "execution_count": 6
        }
      ]
    },
    {
      "cell_type": "markdown",
      "source": [
        "We can also \"broadcast\"."
      ],
      "metadata": {
        "id": "DnZbBsJZM4nQ"
      }
    },
    {
      "cell_type": "code",
      "source": [
        "C = np.array([3,5])"
      ],
      "metadata": {
        "id": "fcWlzBKCM8nQ"
      },
      "execution_count": 7,
      "outputs": []
    },
    {
      "cell_type": "code",
      "source": [
        "A+C"
      ],
      "metadata": {
        "colab": {
          "base_uri": "https://localhost:8080/"
        },
        "id": "2uXbCUrHNLom",
        "outputId": "3a83a6b6-12a2-4f6f-c07c-d22975a793c1"
      },
      "execution_count": 8,
      "outputs": [
        {
          "output_type": "execute_result",
          "data": {
            "text/plain": [
              "array([[4, 7],\n",
              "       [6, 9]])"
            ]
          },
          "metadata": {},
          "execution_count": 8
        }
      ]
    },
    {
      "cell_type": "markdown",
      "source": [
        "**Matrix Dot Product**"
      ],
      "metadata": {
        "id": "Uc_WorZoef_B"
      }
    },
    {
      "cell_type": "code",
      "source": [
        "A = np.array([[[1, 2, 3, 4], [3, 4, 1 , 3]],[[1, 2, 3, 4], [3, 4, 1 , 3]]])\n",
        "B = np.array([[3, 4,1], [1 , 3, 1], [1,2, 1], [3,4, 1]])"
      ],
      "metadata": {
        "id": "x6c-bLxKQTrx"
      },
      "execution_count": 9,
      "outputs": []
    },
    {
      "cell_type": "code",
      "source": [
        "A.shape"
      ],
      "metadata": {
        "colab": {
          "base_uri": "https://localhost:8080/"
        },
        "id": "LBJkusyexu6r",
        "outputId": "23505e92-025f-4932-cb4a-e3677d74c6d9"
      },
      "execution_count": 10,
      "outputs": [
        {
          "output_type": "execute_result",
          "data": {
            "text/plain": [
              "(2, 2, 4)"
            ]
          },
          "metadata": {},
          "execution_count": 10
        }
      ]
    },
    {
      "cell_type": "code",
      "source": [
        "B.shape"
      ],
      "metadata": {
        "colab": {
          "base_uri": "https://localhost:8080/"
        },
        "id": "JP4T0qkv2pSF",
        "outputId": "7d855702-e41e-41e7-c39c-de820687ce54"
      },
      "execution_count": 11,
      "outputs": [
        {
          "output_type": "execute_result",
          "data": {
            "text/plain": [
              "(4, 3)"
            ]
          },
          "metadata": {},
          "execution_count": 11
        }
      ]
    },
    {
      "cell_type": "code",
      "source": [
        "C = A@B"
      ],
      "metadata": {
        "id": "aXcPosn0yP0M"
      },
      "execution_count": 12,
      "outputs": []
    },
    {
      "cell_type": "code",
      "source": [
        "C"
      ],
      "metadata": {
        "colab": {
          "base_uri": "https://localhost:8080/"
        },
        "id": "sTeqcbn0NW7t",
        "outputId": "91b73c14-0ac7-4ecc-b94c-30f178b80540"
      },
      "execution_count": 13,
      "outputs": [
        {
          "output_type": "execute_result",
          "data": {
            "text/plain": [
              "array([[[20, 32, 10],\n",
              "        [23, 38, 11]],\n",
              "\n",
              "       [[20, 32, 10],\n",
              "        [23, 38, 11]]])"
            ]
          },
          "metadata": {},
          "execution_count": 13
        }
      ]
    },
    {
      "cell_type": "code",
      "source": [
        "B@A"
      ],
      "metadata": {
        "colab": {
          "base_uri": "https://localhost:8080/",
          "height": 141
        },
        "id": "8JXvkvT03V68",
        "outputId": "1a8180ca-880d-44e8-bcea-4d709b48cb7b"
      },
      "execution_count": 14,
      "outputs": [
        {
          "output_type": "error",
          "ename": "ValueError",
          "evalue": "matmul: Input operand 1 has a mismatch in its core dimension 0, with gufunc signature (n?,k),(k,m?)->(n?,m?) (size 2 is different from 3)",
          "traceback": [
            "\u001b[0;31m---------------------------------------------------------------------------\u001b[0m",
            "\u001b[0;31mValueError\u001b[0m                                Traceback (most recent call last)",
            "\u001b[0;32m<ipython-input-14-2b961c7386ac>\u001b[0m in \u001b[0;36m<cell line: 1>\u001b[0;34m()\u001b[0m\n\u001b[0;32m----> 1\u001b[0;31m \u001b[0mB\u001b[0m\u001b[0;34m@\u001b[0m\u001b[0mA\u001b[0m\u001b[0;34m\u001b[0m\u001b[0;34m\u001b[0m\u001b[0m\n\u001b[0m",
            "\u001b[0;31mValueError\u001b[0m: matmul: Input operand 1 has a mismatch in its core dimension 0, with gufunc signature (n?,k),(k,m?)->(n?,m?) (size 2 is different from 3)"
          ]
        }
      ]
    },
    {
      "cell_type": "markdown",
      "source": [
        "A neat way to test tensor operations is to create random tensors with specific dimensionalities."
      ],
      "metadata": {
        "id": "EBMvhFj9NlBL"
      }
    },
    {
      "cell_type": "code",
      "source": [
        "A = np.random.rand(3,4,5, 5, 6, 3)\n",
        "B = np.random.rand(3, 2)\n",
        "(A@B).shape"
      ],
      "metadata": {
        "id": "nhPa2nAozG1e",
        "colab": {
          "base_uri": "https://localhost:8080/"
        },
        "outputId": "66cffe24-6127-4538-ebb2-970f25417351"
      },
      "execution_count": 15,
      "outputs": [
        {
          "output_type": "execute_result",
          "data": {
            "text/plain": [
              "(3, 4, 5, 5, 6, 2)"
            ]
          },
          "metadata": {},
          "execution_count": 15
        }
      ]
    },
    {
      "cell_type": "markdown",
      "source": [
        "**Element-wise Multiplication**"
      ],
      "metadata": {
        "id": "BSDN6zQGOi7r"
      }
    },
    {
      "cell_type": "code",
      "source": [
        "A = np.array([[1,2],[3,4]])\n",
        "B = np.array([[1,3],[4,5]])\n",
        "\n",
        "A*B"
      ],
      "metadata": {
        "id": "dYV1jV6MOjBN"
      },
      "execution_count": null,
      "outputs": []
    },
    {
      "cell_type": "code",
      "source": [
        "C = np.array([1,3])\n",
        "\n",
        "A*C"
      ],
      "metadata": {
        "id": "-O3uX30rN89H",
        "colab": {
          "base_uri": "https://localhost:8080/"
        },
        "outputId": "c2fea300-4fb6-47c7-e8c9-f69719d25bae"
      },
      "execution_count": 17,
      "outputs": [
        {
          "output_type": "execute_result",
          "data": {
            "text/plain": [
              "array([[ 1,  6],\n",
              "       [ 3, 12]])"
            ]
          },
          "metadata": {},
          "execution_count": 17
        }
      ]
    },
    {
      "cell_type": "code",
      "source": [
        "D = np.array([1,3, 5])\n",
        "\n",
        "A*D"
      ],
      "metadata": {
        "id": "EzUz3nWuOBU1",
        "colab": {
          "base_uri": "https://localhost:8080/",
          "height": 176
        },
        "outputId": "1048361b-d4cc-4550-8ed0-a755ac955b0a"
      },
      "execution_count": 18,
      "outputs": [
        {
          "output_type": "error",
          "ename": "ValueError",
          "evalue": "operands could not be broadcast together with shapes (2,2) (3,) ",
          "traceback": [
            "\u001b[0;31m---------------------------------------------------------------------------\u001b[0m",
            "\u001b[0;31mValueError\u001b[0m                                Traceback (most recent call last)",
            "\u001b[0;32m<ipython-input-18-cf40337239b1>\u001b[0m in \u001b[0;36m<cell line: 3>\u001b[0;34m()\u001b[0m\n\u001b[1;32m      1\u001b[0m \u001b[0mD\u001b[0m \u001b[0;34m=\u001b[0m \u001b[0mnp\u001b[0m\u001b[0;34m.\u001b[0m\u001b[0marray\u001b[0m\u001b[0;34m(\u001b[0m\u001b[0;34m[\u001b[0m\u001b[0;36m1\u001b[0m\u001b[0;34m,\u001b[0m\u001b[0;36m3\u001b[0m\u001b[0;34m,\u001b[0m \u001b[0;36m5\u001b[0m\u001b[0;34m]\u001b[0m\u001b[0;34m)\u001b[0m\u001b[0;34m\u001b[0m\u001b[0;34m\u001b[0m\u001b[0m\n\u001b[1;32m      2\u001b[0m \u001b[0;34m\u001b[0m\u001b[0m\n\u001b[0;32m----> 3\u001b[0;31m \u001b[0mA\u001b[0m\u001b[0;34m*\u001b[0m\u001b[0mD\u001b[0m\u001b[0;34m\u001b[0m\u001b[0;34m\u001b[0m\u001b[0m\n\u001b[0m",
            "\u001b[0;31mValueError\u001b[0m: operands could not be broadcast together with shapes (2,2) (3,) "
          ]
        }
      ]
    },
    {
      "cell_type": "markdown",
      "source": [
        "**Slicing**"
      ],
      "metadata": {
        "id": "cXGWTpMzPM0d"
      }
    },
    {
      "cell_type": "code",
      "source": [
        "A = np.array([[1,2],[3,4]])\n",
        "\n",
        "A[:, 1]"
      ],
      "metadata": {
        "id": "W5NeERxEPNFL",
        "colab": {
          "base_uri": "https://localhost:8080/"
        },
        "outputId": "ea1b2e8b-f54c-4e39-c8e2-36ea5ede10ac"
      },
      "execution_count": 19,
      "outputs": [
        {
          "output_type": "execute_result",
          "data": {
            "text/plain": [
              "array([2, 4])"
            ]
          },
          "metadata": {},
          "execution_count": 19
        }
      ]
    },
    {
      "cell_type": "code",
      "source": [
        "B = np.array([[[1,2, 1],[3,4, 2]], [[1,2, 2],[3,4, 1]]])\n",
        "\n",
        "B.shape"
      ],
      "metadata": {
        "id": "Kyn1uVGAOZmi",
        "colab": {
          "base_uri": "https://localhost:8080/"
        },
        "outputId": "52726eca-8987-4651-e6f1-c5b97db83955"
      },
      "execution_count": 20,
      "outputs": [
        {
          "output_type": "execute_result",
          "data": {
            "text/plain": [
              "(2, 2, 3)"
            ]
          },
          "metadata": {},
          "execution_count": 20
        }
      ]
    },
    {
      "cell_type": "code",
      "source": [
        "B[:, 1, :].shape"
      ],
      "metadata": {
        "id": "BMLPrY5zOdPH",
        "colab": {
          "base_uri": "https://localhost:8080/"
        },
        "outputId": "eaea444f-188c-455d-ad4a-091d97fe3146"
      },
      "execution_count": 21,
      "outputs": [
        {
          "output_type": "execute_result",
          "data": {
            "text/plain": [
              "(2, 3)"
            ]
          },
          "metadata": {},
          "execution_count": 21
        }
      ]
    },
    {
      "cell_type": "code",
      "source": [
        "B[:, :, 1].shape"
      ],
      "metadata": {
        "id": "bsMJi2cmOsPY",
        "colab": {
          "base_uri": "https://localhost:8080/"
        },
        "outputId": "7cbb0c3a-c3a4-450c-9f66-424e8bf4278f"
      },
      "execution_count": 22,
      "outputs": [
        {
          "output_type": "execute_result",
          "data": {
            "text/plain": [
              "(2, 2)"
            ]
          },
          "metadata": {},
          "execution_count": 22
        }
      ]
    },
    {
      "cell_type": "code",
      "source": [
        "B[:, :, 0:2].shape"
      ],
      "metadata": {
        "id": "4eBIYlRUOvWo",
        "colab": {
          "base_uri": "https://localhost:8080/"
        },
        "outputId": "9f85058a-77ec-402d-de74-5ba49b30ef59"
      },
      "execution_count": 23,
      "outputs": [
        {
          "output_type": "execute_result",
          "data": {
            "text/plain": [
              "(2, 2, 2)"
            ]
          },
          "metadata": {},
          "execution_count": 23
        }
      ]
    },
    {
      "cell_type": "markdown",
      "source": [
        "##What does a linear transformation look like?"
      ],
      "metadata": {
        "id": "7xMcMlyQQEOj"
      }
    },
    {
      "cell_type": "markdown",
      "source": [
        "Let's draw a line"
      ],
      "metadata": {
        "id": "eeBOlFuNO5Ir"
      }
    },
    {
      "cell_type": "code",
      "source": [
        "import numpy as np\n",
        "import matplotlib.pyplot as plt\n",
        "\n",
        "# Define the start and end points\n",
        "start_point = np.array([-1, -2])\n",
        "end_point = np.array([5, 8])\n",
        "\n",
        "# Number of points (including the start and end points)\n",
        "num_points = 10\n",
        "\n",
        "# Create an array of equally spaced points\n",
        "line = np.linspace(start_point, end_point, num_points)"
      ],
      "metadata": {
        "id": "-fJYQZcyQLNF"
      },
      "execution_count": 24,
      "outputs": []
    },
    {
      "cell_type": "code",
      "source": [
        "# Plot a set of points and their transformation\n",
        "def plot_transformation(points, transformed_points):\n",
        "  # Plotting\n",
        "  plt.figure(figsize=(8, 8))\n",
        "  plt.plot(points[:, 0], points[:, 1], 'b-', label='Original Points')\n",
        "  plt.plot(transformed_points[:, 0], transformed_points[:, 1], 'r-', label='Transformed Points')\n",
        "\n",
        "  plt.scatter(points[:, 0], points[:, 1], marker='o', color='b')\n",
        "  plt.scatter(transformed_points[:, 0], transformed_points[:, 1], marker='o', color='r')\n",
        "\n",
        "  plt.xlabel('X-axis')\n",
        "  plt.ylabel('Y-axis')\n",
        "  plt.title('Transformation of Points')\n",
        "  plt.legend()\n",
        "  plt.grid(True)\n",
        "  plt.axis('equal')\n",
        "  plt.show()"
      ],
      "metadata": {
        "id": "3KqFowSXQXb_"
      },
      "execution_count": 25,
      "outputs": []
    },
    {
      "cell_type": "markdown",
      "source": [
        "Transform and plot!"
      ],
      "metadata": {
        "id": "y_5KQNotPRaa"
      }
    },
    {
      "cell_type": "code",
      "source": [],
      "metadata": {
        "id": "-Adp0A3pPK0v"
      },
      "execution_count": 26,
      "outputs": []
    },
    {
      "cell_type": "code",
      "source": [],
      "metadata": {
        "id": "o0Zi58ikR0BQ"
      },
      "execution_count": null,
      "outputs": []
    },
    {
      "cell_type": "markdown",
      "source": [
        "**How About Non-linearities?**"
      ],
      "metadata": {
        "id": "7Js2xw02QGzH"
      }
    },
    {
      "cell_type": "code",
      "source": [],
      "metadata": {
        "id": "ega7vkJcTz_v"
      },
      "execution_count": 28,
      "outputs": []
    },
    {
      "cell_type": "code",
      "source": [],
      "metadata": {
        "id": "cYReGbalSsDr"
      },
      "execution_count": null,
      "outputs": []
    },
    {
      "cell_type": "markdown",
      "source": [
        "##Gradients\n"
      ],
      "metadata": {
        "id": "8zWMxrdCWYbq"
      }
    },
    {
      "cell_type": "markdown",
      "source": [
        "Let's pick a function and explore its gradient"
      ],
      "metadata": {
        "id": "sC2pLvMES0Ex"
      }
    },
    {
      "cell_type": "code",
      "source": [
        "import torch\n",
        "\n",
        "def func_torch(x, y):\n",
        "  return (torch.sin(x) * torch.sin(y))\n",
        "\n",
        "# Create a 2D array of equally spaced points\n",
        "x = np.linspace(0, 5, 500)\n",
        "y = np.linspace(0, 5, 500)\n",
        "X, Y = np.meshgrid(x, y)\n",
        "f_xy = func_torch(torch.from_numpy(X), torch.from_numpy(Y))"
      ],
      "metadata": {
        "id": "MGn5uKUu_u7X"
      },
      "execution_count": 59,
      "outputs": []
    },
    {
      "cell_type": "markdown",
      "source": [
        "Let's do gradient descent with the help of **autodiff** from  *pytorch*."
      ],
      "metadata": {
        "id": "ImuDYoADXxH-"
      }
    },
    {
      "cell_type": "code",
      "source": [
        "starting_point = np.array([1.6, 1.6])\n",
        "alpha = 0.1\n",
        "num_of_epochs = 60"
      ],
      "metadata": {
        "id": "_J23cTaQTkd1"
      },
      "execution_count": 54,
      "outputs": []
    },
    {
      "cell_type": "code",
      "source": [],
      "metadata": {
        "id": "yXHsFdn8_zgN"
      },
      "execution_count": null,
      "outputs": []
    },
    {
      "cell_type": "code",
      "source": [],
      "metadata": {
        "id": "x_l7qwac_9y8"
      },
      "execution_count": 56,
      "outputs": []
    },
    {
      "cell_type": "markdown",
      "source": [
        "Let's plot"
      ],
      "metadata": {
        "id": "G0FxLxwvXzqX"
      }
    },
    {
      "cell_type": "code",
      "source": [
        "import plotly.graph_objects as go\n",
        "\n",
        "def plot_gradient_descent(points):\n",
        "  # Create a surface plot using Plotly\n",
        "  fig = go.Figure(data=[go.Surface(z=f_xy, x=X, y=Y)])\n",
        "\n",
        "  # Update layout and axis labels\n",
        "  fig.update_layout(title='Surface Plot',\n",
        "                    scene=dict(xaxis_title='X',\n",
        "                              yaxis_title='Y',\n",
        "                              zaxis_title='f(X, Y)'))\n",
        "\n",
        "  # Add a scatter plot (set of points) to the figure\n",
        "  fig.add_trace(go.Scatter3d(x=points[:,0], y=points[:,1], z=points[:,2],\n",
        "                            mode='markers', marker=dict(size=5, color='red')))\n",
        "\n",
        "\n",
        "  # Show the plot\n",
        "  fig.show()"
      ],
      "metadata": {
        "id": "jxGELcNPXgd_"
      },
      "execution_count": 57,
      "outputs": []
    },
    {
      "cell_type": "code",
      "source": [
        "plot_gradient_descent(points.detach().numpy())"
      ],
      "metadata": {
        "id": "tGvlHdnPTKPe"
      },
      "execution_count": null,
      "outputs": []
    },
    {
      "cell_type": "markdown",
      "source": [
        "**MSE and MAE**"
      ],
      "metadata": {
        "id": "whFyiqZyeMDa"
      }
    },
    {
      "cell_type": "code",
      "source": [
        "import torch\n",
        "import torch.nn.functional as F\n",
        "\n"
      ],
      "metadata": {
        "id": "lqpgVC1ZeMLi"
      },
      "execution_count": null,
      "outputs": []
    },
    {
      "cell_type": "markdown",
      "source": [
        "**Softmax and Cross Entropy**"
      ],
      "metadata": {
        "id": "VAtW_jxKYjdo"
      }
    },
    {
      "cell_type": "code",
      "source": [
        "import torch\n",
        "import torch.nn as nn\n",
        "\n"
      ],
      "metadata": {
        "id": "SNC0InPAYjii"
      },
      "execution_count": null,
      "outputs": []
    },
    {
      "cell_type": "markdown",
      "source": [
        "Another way"
      ],
      "metadata": {
        "id": "wOAl7HOOe3rt"
      }
    },
    {
      "cell_type": "code",
      "source": [
        "import torch\n",
        "import torch.nn.functional as F\n",
        "\n"
      ],
      "metadata": {
        "id": "yuOe9m6Tbn7W"
      },
      "execution_count": null,
      "outputs": []
    },
    {
      "cell_type": "markdown",
      "source": [
        "Let's play with this a bit"
      ],
      "metadata": {
        "id": "KVYyNKIOe9Qq"
      }
    },
    {
      "cell_type": "code",
      "source": [
        "import numpy as np\n",
        "# from sklearn.metrics import log_loss\n",
        "import ipywidgets as widgets\n",
        "from IPython.display import display\n",
        "\n"
      ],
      "metadata": {
        "id": "DYnvF-hvahaq"
      },
      "execution_count": 44,
      "outputs": []
    },
    {
      "cell_type": "code",
      "source": [
        "# Create sliders for each logit\n",
        "logit1_slider = widgets.FloatSlider(value=0.0, min=-10.0, max=10.0, step=0.1, description='Logit 1:')\n",
        "logit2_slider = widgets.FloatSlider(value=0.0, min=-10.0, max=10.0, step=0.1, description='Logit 2:')\n",
        "logit3_slider = widgets.FloatSlider(value=0.0, min=-10.0, max=10.0, step=0.1, description='Logit 3:')"
      ],
      "metadata": {
        "id": "iVpaVtI6fAQO"
      },
      "execution_count": 45,
      "outputs": []
    },
    {
      "cell_type": "code",
      "source": [
        "# Display the sliders and the result\n",
        "ui = widgets.VBox([logit1_slider, logit2_slider, logit3_slider])\n",
        "out = widgets.interactive_output(calculate_loss, {'logit1': logit1_slider, 'logit2': logit2_slider, 'logit3': logit3_slider})\n",
        "display(ui, out)"
      ],
      "metadata": {
        "id": "s4usmtvGfAS4"
      },
      "execution_count": null,
      "outputs": []
    }
  ]
}