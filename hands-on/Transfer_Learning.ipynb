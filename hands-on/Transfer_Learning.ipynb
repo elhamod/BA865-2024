{
  "nbformat": 4,
  "nbformat_minor": 0,
  "metadata": {
    "colab": {
      "provenance": [],
      "gpuType": "T4",
      "machine_shape": "hm",
      "include_colab_link": true
    },
    "kernelspec": {
      "name": "python3",
      "display_name": "Python 3"
    },
    "language_info": {
      "name": "python"
    },
    "accelerator": "GPU",
    "widgets": {
      "application/vnd.jupyter.widget-state+json": {
        "2ab287a819d6427c8638740d93009d8f": {
          "model_module": "@jupyter-widgets/controls",
          "model_name": "VBoxModel",
          "model_module_version": "1.5.0",
          "state": {
            "_dom_classes": [],
            "_model_module": "@jupyter-widgets/controls",
            "_model_module_version": "1.5.0",
            "_model_name": "VBoxModel",
            "_view_count": null,
            "_view_module": "@jupyter-widgets/controls",
            "_view_module_version": "1.5.0",
            "_view_name": "VBoxView",
            "box_style": "",
            "children": [
              "IPY_MODEL_2d3520358e084a60991c858687847083",
              "IPY_MODEL_d2fbefc827b14dfca630058fc9793600"
            ],
            "layout": "IPY_MODEL_d674b74b0c3145d5b574390acac44986"
          }
        },
        "2d3520358e084a60991c858687847083": {
          "model_module": "@jupyter-widgets/controls",
          "model_name": "LabelModel",
          "model_module_version": "1.5.0",
          "state": {
            "_dom_classes": [],
            "_model_module": "@jupyter-widgets/controls",
            "_model_module_version": "1.5.0",
            "_model_name": "LabelModel",
            "_view_count": null,
            "_view_module": "@jupyter-widgets/controls",
            "_view_module_version": "1.5.0",
            "_view_name": "LabelView",
            "description": "",
            "description_tooltip": null,
            "layout": "IPY_MODEL_fe91b0f213bf44749aa2570dce13c6c8",
            "placeholder": "​",
            "style": "IPY_MODEL_e2e953b20d29432fb478baaedcd5a193",
            "value": "0.014 MB of 0.014 MB uploaded\r"
          }
        },
        "d2fbefc827b14dfca630058fc9793600": {
          "model_module": "@jupyter-widgets/controls",
          "model_name": "FloatProgressModel",
          "model_module_version": "1.5.0",
          "state": {
            "_dom_classes": [],
            "_model_module": "@jupyter-widgets/controls",
            "_model_module_version": "1.5.0",
            "_model_name": "FloatProgressModel",
            "_view_count": null,
            "_view_module": "@jupyter-widgets/controls",
            "_view_module_version": "1.5.0",
            "_view_name": "ProgressView",
            "bar_style": "",
            "description": "",
            "description_tooltip": null,
            "layout": "IPY_MODEL_64abc088db7f4b3abfb6aad5f08f57b9",
            "max": 1,
            "min": 0,
            "orientation": "horizontal",
            "style": "IPY_MODEL_2ae2638e53d248ac9cdeded8cd7408e6",
            "value": 1
          }
        },
        "d674b74b0c3145d5b574390acac44986": {
          "model_module": "@jupyter-widgets/base",
          "model_name": "LayoutModel",
          "model_module_version": "1.2.0",
          "state": {
            "_model_module": "@jupyter-widgets/base",
            "_model_module_version": "1.2.0",
            "_model_name": "LayoutModel",
            "_view_count": null,
            "_view_module": "@jupyter-widgets/base",
            "_view_module_version": "1.2.0",
            "_view_name": "LayoutView",
            "align_content": null,
            "align_items": null,
            "align_self": null,
            "border": null,
            "bottom": null,
            "display": null,
            "flex": null,
            "flex_flow": null,
            "grid_area": null,
            "grid_auto_columns": null,
            "grid_auto_flow": null,
            "grid_auto_rows": null,
            "grid_column": null,
            "grid_gap": null,
            "grid_row": null,
            "grid_template_areas": null,
            "grid_template_columns": null,
            "grid_template_rows": null,
            "height": null,
            "justify_content": null,
            "justify_items": null,
            "left": null,
            "margin": null,
            "max_height": null,
            "max_width": null,
            "min_height": null,
            "min_width": null,
            "object_fit": null,
            "object_position": null,
            "order": null,
            "overflow": null,
            "overflow_x": null,
            "overflow_y": null,
            "padding": null,
            "right": null,
            "top": null,
            "visibility": null,
            "width": null
          }
        },
        "fe91b0f213bf44749aa2570dce13c6c8": {
          "model_module": "@jupyter-widgets/base",
          "model_name": "LayoutModel",
          "model_module_version": "1.2.0",
          "state": {
            "_model_module": "@jupyter-widgets/base",
            "_model_module_version": "1.2.0",
            "_model_name": "LayoutModel",
            "_view_count": null,
            "_view_module": "@jupyter-widgets/base",
            "_view_module_version": "1.2.0",
            "_view_name": "LayoutView",
            "align_content": null,
            "align_items": null,
            "align_self": null,
            "border": null,
            "bottom": null,
            "display": null,
            "flex": null,
            "flex_flow": null,
            "grid_area": null,
            "grid_auto_columns": null,
            "grid_auto_flow": null,
            "grid_auto_rows": null,
            "grid_column": null,
            "grid_gap": null,
            "grid_row": null,
            "grid_template_areas": null,
            "grid_template_columns": null,
            "grid_template_rows": null,
            "height": null,
            "justify_content": null,
            "justify_items": null,
            "left": null,
            "margin": null,
            "max_height": null,
            "max_width": null,
            "min_height": null,
            "min_width": null,
            "object_fit": null,
            "object_position": null,
            "order": null,
            "overflow": null,
            "overflow_x": null,
            "overflow_y": null,
            "padding": null,
            "right": null,
            "top": null,
            "visibility": null,
            "width": null
          }
        },
        "e2e953b20d29432fb478baaedcd5a193": {
          "model_module": "@jupyter-widgets/controls",
          "model_name": "DescriptionStyleModel",
          "model_module_version": "1.5.0",
          "state": {
            "_model_module": "@jupyter-widgets/controls",
            "_model_module_version": "1.5.0",
            "_model_name": "DescriptionStyleModel",
            "_view_count": null,
            "_view_module": "@jupyter-widgets/base",
            "_view_module_version": "1.2.0",
            "_view_name": "StyleView",
            "description_width": ""
          }
        },
        "64abc088db7f4b3abfb6aad5f08f57b9": {
          "model_module": "@jupyter-widgets/base",
          "model_name": "LayoutModel",
          "model_module_version": "1.2.0",
          "state": {
            "_model_module": "@jupyter-widgets/base",
            "_model_module_version": "1.2.0",
            "_model_name": "LayoutModel",
            "_view_count": null,
            "_view_module": "@jupyter-widgets/base",
            "_view_module_version": "1.2.0",
            "_view_name": "LayoutView",
            "align_content": null,
            "align_items": null,
            "align_self": null,
            "border": null,
            "bottom": null,
            "display": null,
            "flex": null,
            "flex_flow": null,
            "grid_area": null,
            "grid_auto_columns": null,
            "grid_auto_flow": null,
            "grid_auto_rows": null,
            "grid_column": null,
            "grid_gap": null,
            "grid_row": null,
            "grid_template_areas": null,
            "grid_template_columns": null,
            "grid_template_rows": null,
            "height": null,
            "justify_content": null,
            "justify_items": null,
            "left": null,
            "margin": null,
            "max_height": null,
            "max_width": null,
            "min_height": null,
            "min_width": null,
            "object_fit": null,
            "object_position": null,
            "order": null,
            "overflow": null,
            "overflow_x": null,
            "overflow_y": null,
            "padding": null,
            "right": null,
            "top": null,
            "visibility": null,
            "width": null
          }
        },
        "2ae2638e53d248ac9cdeded8cd7408e6": {
          "model_module": "@jupyter-widgets/controls",
          "model_name": "ProgressStyleModel",
          "model_module_version": "1.5.0",
          "state": {
            "_model_module": "@jupyter-widgets/controls",
            "_model_module_version": "1.5.0",
            "_model_name": "ProgressStyleModel",
            "_view_count": null,
            "_view_module": "@jupyter-widgets/base",
            "_view_module_version": "1.2.0",
            "_view_name": "StyleView",
            "bar_color": null,
            "description_width": ""
          }
        },
        "7d4733e626194db6b125d2e596b47d6e": {
          "model_module": "@jupyter-widgets/controls",
          "model_name": "VBoxModel",
          "model_module_version": "1.5.0",
          "state": {
            "_dom_classes": [],
            "_model_module": "@jupyter-widgets/controls",
            "_model_module_version": "1.5.0",
            "_model_name": "VBoxModel",
            "_view_count": null,
            "_view_module": "@jupyter-widgets/controls",
            "_view_module_version": "1.5.0",
            "_view_name": "VBoxView",
            "box_style": "",
            "children": [
              "IPY_MODEL_e2fb2d7e54264e15ac31fb981177e83f",
              "IPY_MODEL_32fc8098c8a94427ab036cf6ef23109f"
            ],
            "layout": "IPY_MODEL_d3f340698412410984ebdc84c17ff6f8"
          }
        },
        "e2fb2d7e54264e15ac31fb981177e83f": {
          "model_module": "@jupyter-widgets/controls",
          "model_name": "LabelModel",
          "model_module_version": "1.5.0",
          "state": {
            "_dom_classes": [],
            "_model_module": "@jupyter-widgets/controls",
            "_model_module_version": "1.5.0",
            "_model_name": "LabelModel",
            "_view_count": null,
            "_view_module": "@jupyter-widgets/controls",
            "_view_module_version": "1.5.0",
            "_view_name": "LabelView",
            "description": "",
            "description_tooltip": null,
            "layout": "IPY_MODEL_b79b702049b44dde9c768f9c5e6b1eff",
            "placeholder": "​",
            "style": "IPY_MODEL_39e371002c834e0093d0d6fa357bb135",
            "value": "0.014 MB of 0.014 MB uploaded\r"
          }
        },
        "32fc8098c8a94427ab036cf6ef23109f": {
          "model_module": "@jupyter-widgets/controls",
          "model_name": "FloatProgressModel",
          "model_module_version": "1.5.0",
          "state": {
            "_dom_classes": [],
            "_model_module": "@jupyter-widgets/controls",
            "_model_module_version": "1.5.0",
            "_model_name": "FloatProgressModel",
            "_view_count": null,
            "_view_module": "@jupyter-widgets/controls",
            "_view_module_version": "1.5.0",
            "_view_name": "ProgressView",
            "bar_style": "",
            "description": "",
            "description_tooltip": null,
            "layout": "IPY_MODEL_23063af873b94cdd9904673fac9c340b",
            "max": 1,
            "min": 0,
            "orientation": "horizontal",
            "style": "IPY_MODEL_0e86a4f245f4424cb23360c72306e223",
            "value": 1
          }
        },
        "d3f340698412410984ebdc84c17ff6f8": {
          "model_module": "@jupyter-widgets/base",
          "model_name": "LayoutModel",
          "model_module_version": "1.2.0",
          "state": {
            "_model_module": "@jupyter-widgets/base",
            "_model_module_version": "1.2.0",
            "_model_name": "LayoutModel",
            "_view_count": null,
            "_view_module": "@jupyter-widgets/base",
            "_view_module_version": "1.2.0",
            "_view_name": "LayoutView",
            "align_content": null,
            "align_items": null,
            "align_self": null,
            "border": null,
            "bottom": null,
            "display": null,
            "flex": null,
            "flex_flow": null,
            "grid_area": null,
            "grid_auto_columns": null,
            "grid_auto_flow": null,
            "grid_auto_rows": null,
            "grid_column": null,
            "grid_gap": null,
            "grid_row": null,
            "grid_template_areas": null,
            "grid_template_columns": null,
            "grid_template_rows": null,
            "height": null,
            "justify_content": null,
            "justify_items": null,
            "left": null,
            "margin": null,
            "max_height": null,
            "max_width": null,
            "min_height": null,
            "min_width": null,
            "object_fit": null,
            "object_position": null,
            "order": null,
            "overflow": null,
            "overflow_x": null,
            "overflow_y": null,
            "padding": null,
            "right": null,
            "top": null,
            "visibility": null,
            "width": null
          }
        },
        "b79b702049b44dde9c768f9c5e6b1eff": {
          "model_module": "@jupyter-widgets/base",
          "model_name": "LayoutModel",
          "model_module_version": "1.2.0",
          "state": {
            "_model_module": "@jupyter-widgets/base",
            "_model_module_version": "1.2.0",
            "_model_name": "LayoutModel",
            "_view_count": null,
            "_view_module": "@jupyter-widgets/base",
            "_view_module_version": "1.2.0",
            "_view_name": "LayoutView",
            "align_content": null,
            "align_items": null,
            "align_self": null,
            "border": null,
            "bottom": null,
            "display": null,
            "flex": null,
            "flex_flow": null,
            "grid_area": null,
            "grid_auto_columns": null,
            "grid_auto_flow": null,
            "grid_auto_rows": null,
            "grid_column": null,
            "grid_gap": null,
            "grid_row": null,
            "grid_template_areas": null,
            "grid_template_columns": null,
            "grid_template_rows": null,
            "height": null,
            "justify_content": null,
            "justify_items": null,
            "left": null,
            "margin": null,
            "max_height": null,
            "max_width": null,
            "min_height": null,
            "min_width": null,
            "object_fit": null,
            "object_position": null,
            "order": null,
            "overflow": null,
            "overflow_x": null,
            "overflow_y": null,
            "padding": null,
            "right": null,
            "top": null,
            "visibility": null,
            "width": null
          }
        },
        "39e371002c834e0093d0d6fa357bb135": {
          "model_module": "@jupyter-widgets/controls",
          "model_name": "DescriptionStyleModel",
          "model_module_version": "1.5.0",
          "state": {
            "_model_module": "@jupyter-widgets/controls",
            "_model_module_version": "1.5.0",
            "_model_name": "DescriptionStyleModel",
            "_view_count": null,
            "_view_module": "@jupyter-widgets/base",
            "_view_module_version": "1.2.0",
            "_view_name": "StyleView",
            "description_width": ""
          }
        },
        "23063af873b94cdd9904673fac9c340b": {
          "model_module": "@jupyter-widgets/base",
          "model_name": "LayoutModel",
          "model_module_version": "1.2.0",
          "state": {
            "_model_module": "@jupyter-widgets/base",
            "_model_module_version": "1.2.0",
            "_model_name": "LayoutModel",
            "_view_count": null,
            "_view_module": "@jupyter-widgets/base",
            "_view_module_version": "1.2.0",
            "_view_name": "LayoutView",
            "align_content": null,
            "align_items": null,
            "align_self": null,
            "border": null,
            "bottom": null,
            "display": null,
            "flex": null,
            "flex_flow": null,
            "grid_area": null,
            "grid_auto_columns": null,
            "grid_auto_flow": null,
            "grid_auto_rows": null,
            "grid_column": null,
            "grid_gap": null,
            "grid_row": null,
            "grid_template_areas": null,
            "grid_template_columns": null,
            "grid_template_rows": null,
            "height": null,
            "justify_content": null,
            "justify_items": null,
            "left": null,
            "margin": null,
            "max_height": null,
            "max_width": null,
            "min_height": null,
            "min_width": null,
            "object_fit": null,
            "object_position": null,
            "order": null,
            "overflow": null,
            "overflow_x": null,
            "overflow_y": null,
            "padding": null,
            "right": null,
            "top": null,
            "visibility": null,
            "width": null
          }
        },
        "0e86a4f245f4424cb23360c72306e223": {
          "model_module": "@jupyter-widgets/controls",
          "model_name": "ProgressStyleModel",
          "model_module_version": "1.5.0",
          "state": {
            "_model_module": "@jupyter-widgets/controls",
            "_model_module_version": "1.5.0",
            "_model_name": "ProgressStyleModel",
            "_view_count": null,
            "_view_module": "@jupyter-widgets/base",
            "_view_module_version": "1.2.0",
            "_view_name": "StyleView",
            "bar_color": null,
            "description_width": ""
          }
        }
      }
    }
  },
  "cells": [
    {
      "cell_type": "markdown",
      "metadata": {
        "id": "view-in-github",
        "colab_type": "text"
      },
      "source": [
        "<a href=\"https://colab.research.google.com/github/elhamod/BA865-2024/blob/main/hands-on/Transfer_Learning.ipynb\" target=\"_parent\"><img src=\"https://colab.research.google.com/assets/colab-badge.svg\" alt=\"Open In Colab\"/></a>"
      ]
    },
    {
      "cell_type": "markdown",
      "source": [
        "Now, that you know how to train an MLP, let's make minor changes to train a"
      ],
      "metadata": {
        "id": "W8H546tNarSj"
      }
    },
    {
      "cell_type": "markdown",
      "source": [
        "##Things we will investigate:\n",
        "\n",
        "\n",
        "- How to fine-tune a pre-trained model.\n",
        "  - How to freeze layers.\n",
        "  - How to train the model or a part of it.\n",
        "- How to load data from disk.\n",
        "- How to do image transformations.\n",
        "- How to use LR scheduler\n"
      ],
      "metadata": {
        "id": "Gt1GCe9Kuzee"
      }
    },
    {
      "cell_type": "markdown",
      "source": [
        "Here are some flags that you can turn on and off"
      ],
      "metadata": {
        "id": "fURxa8CNTnp8"
      }
    },
    {
      "cell_type": "code",
      "source": [
        "enable_wandb = True\n",
        "use_gpu = True\n"
      ],
      "metadata": {
        "id": "QnfvDHZOTk8N"
      },
      "execution_count": 1,
      "outputs": []
    },
    {
      "cell_type": "markdown",
      "source": [
        "##Import some packages"
      ],
      "metadata": {
        "id": "frEXdeTWNXqt"
      }
    },
    {
      "cell_type": "code",
      "execution_count": 2,
      "metadata": {
        "id": "B-8PrSb5Idis"
      },
      "outputs": [],
      "source": [
        "import torch\n",
        "import torch.nn as nn\n",
        "import torch.optim as optim\n",
        "from torchvision import datasets, transforms\n",
        "from torch.utils.data import DataLoader, random_split"
      ]
    },
    {
      "cell_type": "markdown",
      "source": [
        "This helps you check if GPU is available"
      ],
      "metadata": {
        "id": "0BNuG94i373o"
      }
    },
    {
      "cell_type": "code",
      "source": [
        "gpu_available = torch.cuda.is_available()\n",
        "gpu_available"
      ],
      "metadata": {
        "id": "Zd7mgN-abpJB",
        "colab": {
          "base_uri": "https://localhost:8080/"
        },
        "outputId": "22be763b-0aa0-4627-eb7a-adf95bd50657"
      },
      "execution_count": 3,
      "outputs": [
        {
          "output_type": "execute_result",
          "data": {
            "text/plain": [
              "True"
            ]
          },
          "metadata": {},
          "execution_count": 3
        }
      ]
    },
    {
      "cell_type": "markdown",
      "source": [
        "Some extra fancy but optional packages:\n",
        "\n",
        "- `torchmetrics` for calculating accuracy\n",
        "- `wandb` for logging"
      ],
      "metadata": {
        "id": "9nYYpgwD3_-J"
      }
    },
    {
      "cell_type": "code",
      "source": [
        "if enable_wandb:\n",
        "  !pip install wandb -qU\n",
        "  import wandb\n",
        "  wandb.login()"
      ],
      "metadata": {
        "id": "e8unrZajZigs",
        "colab": {
          "base_uri": "https://localhost:8080/",
          "height": 173
        },
        "outputId": "86b83127-bece-4e27-a1b8-df448d9a5614"
      },
      "execution_count": 4,
      "outputs": [
        {
          "output_type": "stream",
          "name": "stdout",
          "text": [
            "\u001b[2K     \u001b[90m━━━━━━━━━━━━━━━━━━━━━━━━━━━━━━━━━━━━━━━━\u001b[0m \u001b[32m2.2/2.2 MB\u001b[0m \u001b[31m13.6 MB/s\u001b[0m eta \u001b[36m0:00:00\u001b[0m\n",
            "\u001b[2K     \u001b[90m━━━━━━━━━━━━━━━━━━━━━━━━━━━━━━━━━━━━━━━━\u001b[0m \u001b[32m207.3/207.3 kB\u001b[0m \u001b[31m11.2 MB/s\u001b[0m eta \u001b[36m0:00:00\u001b[0m\n",
            "\u001b[2K     \u001b[90m━━━━━━━━━━━━━━━━━━━━━━━━━━━━━━━━━━━━━━━━\u001b[0m \u001b[32m267.1/267.1 kB\u001b[0m \u001b[31m17.1 MB/s\u001b[0m eta \u001b[36m0:00:00\u001b[0m\n",
            "\u001b[2K     \u001b[90m━━━━━━━━━━━━━━━━━━━━━━━━━━━━━━━━━━━━━━━━\u001b[0m \u001b[32m62.7/62.7 kB\u001b[0m \u001b[31m6.4 MB/s\u001b[0m eta \u001b[36m0:00:00\u001b[0m\n",
            "\u001b[?25h"
          ]
        },
        {
          "output_type": "display_data",
          "data": {
            "text/plain": [
              "<IPython.core.display.Javascript object>"
            ],
            "application/javascript": [
              "\n",
              "        window._wandbApiKey = new Promise((resolve, reject) => {\n",
              "            function loadScript(url) {\n",
              "            return new Promise(function(resolve, reject) {\n",
              "                let newScript = document.createElement(\"script\");\n",
              "                newScript.onerror = reject;\n",
              "                newScript.onload = resolve;\n",
              "                document.body.appendChild(newScript);\n",
              "                newScript.src = url;\n",
              "            });\n",
              "            }\n",
              "            loadScript(\"https://cdn.jsdelivr.net/npm/postmate/build/postmate.min.js\").then(() => {\n",
              "            const iframe = document.createElement('iframe')\n",
              "            iframe.style.cssText = \"width:0;height:0;border:none\"\n",
              "            document.body.appendChild(iframe)\n",
              "            const handshake = new Postmate({\n",
              "                container: iframe,\n",
              "                url: 'https://wandb.ai/authorize'\n",
              "            });\n",
              "            const timeout = setTimeout(() => reject(\"Couldn't auto authenticate\"), 5000)\n",
              "            handshake.then(function(child) {\n",
              "                child.on('authorize', data => {\n",
              "                    clearTimeout(timeout)\n",
              "                    resolve(data)\n",
              "                });\n",
              "            });\n",
              "            })\n",
              "        });\n",
              "    "
            ]
          },
          "metadata": {}
        },
        {
          "output_type": "stream",
          "name": "stderr",
          "text": [
            "\u001b[34m\u001b[1mwandb\u001b[0m: Logging into wandb.ai. (Learn how to deploy a W&B server locally: https://wandb.me/wandb-server)\n",
            "\u001b[34m\u001b[1mwandb\u001b[0m: You can find your API key in your browser here: https://wandb.ai/authorize\n",
            "wandb: Paste an API key from your profile and hit enter, or press ctrl+c to quit:"
          ]
        },
        {
          "name": "stdout",
          "output_type": "stream",
          "text": [
            " ··········\n"
          ]
        },
        {
          "output_type": "stream",
          "name": "stderr",
          "text": [
            "\u001b[34m\u001b[1mwandb\u001b[0m: Appending key for api.wandb.ai to your netrc file: /root/.netrc\n"
          ]
        }
      ]
    },
    {
      "cell_type": "markdown",
      "source": [
        "## Hyper-parameters\n",
        "\n",
        "Define your hyper-parameters here."
      ],
      "metadata": {
        "id": "dJUP7ISFNbHd"
      }
    },
    {
      "cell_type": "code",
      "source": [
        "# Hyperparameters\n",
        "\n",
        "configs = {\n",
        "    \"experiment_name\": \"not pretrained\",\n",
        "    \"freeze_feature_extraction_layers\": False,\n",
        "    \"pretrained\":False,\n",
        "    \"efficientnet\":False, # off-> Resnet18\n",
        "    \"data_augmentation\":True,\n",
        "    \"transferlearning\": True,\n",
        "\n",
        "    # Data\n",
        "    \"img_dimensions\" : (3,224,224),\n",
        "    \"batch_size\" : 32,\n",
        "    \"num_classes\" : 14,\n",
        "\n",
        "    # CNN\n",
        "    \"filter_sizes\" : [4,8],\n",
        "    \"kernel_size\" : 5,\n",
        "    \"stride\": 2,\n",
        "    \"padding\":1,\n",
        "\n",
        "    #Optimzation\n",
        "    \"learning_rate\" : 0.01,\n",
        "    \"epochs\" : 70,\n",
        "    \"weight_decay\" : 0.00001\n",
        "}\n",
        "\n",
        "\n",
        "\n"
      ],
      "metadata": {
        "id": "7euepcWJX1Uu"
      },
      "execution_count": 36,
      "outputs": []
    },
    {
      "cell_type": "markdown",
      "source": [
        "## Data\n",
        "\n",
        "Load your dataset and create `DataLoaders` that handle the batching and shuffling.\n",
        "\n",
        "Let's use this dataset: https://www.kaggle.com/datasets/danupnelson/14-celebrity-faces-dataset?resource=download"
      ],
      "metadata": {
        "id": "VWFOwqDtNeG9"
      }
    },
    {
      "cell_type": "code",
      "source": [
        "!unzip \"/content/archive (10).zip\""
      ],
      "metadata": {
        "id": "uy-u4xOmkM_u",
        "colab": {
          "base_uri": "https://localhost:8080/"
        },
        "outputId": "3b9bad13-e027-4269-9ccf-c791a0b89252"
      },
      "execution_count": 8,
      "outputs": [
        {
          "output_type": "stream",
          "name": "stdout",
          "text": [
            "Archive:  /content/archive (10).zip\n",
            "  inflating: 14-celebrity-faces-dataset/data/train/anne_hathaway/316px-Anne_Hathaway_@_2018.09.15_Human_Rights_Campaign_National_Dinner,_Washington,_DC_USA_06194_(43805104245)_(cropped).jpg  \n",
            "  inflating: 14-celebrity-faces-dataset/data/train/anne_hathaway/353px-Anne_Hathaway_2019_(cropped).jpg  \n",
            "  inflating: 14-celebrity-faces-dataset/data/train/anne_hathaway/393px-Denzel_Washington_og_Anne_Hathaway_IMG_6550b_Harry_Wad.jpg  \n",
            "  inflating: 14-celebrity-faces-dataset/data/train/anne_hathaway/398px-Anne_Hathaway_in_2017.png  \n",
            "  inflating: 14-celebrity-faces-dataset/data/train/anne_hathaway/417px-Anne_Hathaway_in_2016.jpg  \n",
            "  inflating: 14-celebrity-faces-dataset/data/train/anne_hathaway/428px-Anne_Hathaway_TIFF_2008.jpg  \n",
            "  inflating: 14-celebrity-faces-dataset/data/train/anne_hathaway/443px-Anne_Hathaway_2013.jpg  \n",
            "  inflating: 14-celebrity-faces-dataset/data/train/anne_hathaway/476px-Anne_Hathaway_(cropped)_(cropped).png  \n",
            "  inflating: 14-celebrity-faces-dataset/data/train/anne_hathaway/498px-Anne_Hathaway_for_AHC.png  \n",
            "  inflating: 14-celebrity-faces-dataset/data/train/anne_hathaway/505px-Anne_Hathaway_2011.jpg  \n",
            "  inflating: 14-celebrity-faces-dataset/data/train/anne_hathaway/696px-Anne_Hathaway_AHC.png  \n",
            "  inflating: 14-celebrity-faces-dataset/data/train/anne_hathaway/800px-Anne_Hathaway_2014.jpg  \n",
            "  inflating: 14-celebrity-faces-dataset/data/train/anne_hathaway/800px-Anne_Hathaway_83rd_Academy_Awards.jpg  \n",
            "  inflating: 14-celebrity-faces-dataset/data/train/anne_hathaway/800px-Anne_Hathaway_at_Madame_Tussauds_(29827873443).jpg  \n",
            "  inflating: 14-celebrity-faces-dataset/data/train/anne_hathaway/800px-Anne_Hathaway_at_Madame_Tussauds_(30460455685).jpg  \n",
            "  inflating: 14-celebrity-faces-dataset/data/train/arnold_schwarzenegger/2002197_Arnold_Schwarzenegger_visited_the_Camp_Pendleton_Base_Theater_2015.jpg  \n",
            "  inflating: 14-celebrity-faces-dataset/data/train/arnold_schwarzenegger/400px-Arnold_Schwarzenegger_(9048849809).jpg  \n",
            "  inflating: 14-celebrity-faces-dataset/data/train/arnold_schwarzenegger/400px-Arnold_Schwarzenegger_(9048849945).jpg  \n",
            "  inflating: 14-celebrity-faces-dataset/data/train/arnold_schwarzenegger/442px-Arnold_Schwarzenegger_2,_2012.jpg  \n",
            "  inflating: 14-celebrity-faces-dataset/data/train/arnold_schwarzenegger/471px-Schwarzenegger_Dec_2015.jpg  \n",
            "  inflating: 14-celebrity-faces-dataset/data/train/arnold_schwarzenegger/483px-Arnold_Schwarzenegger_speech.jpg  \n",
            "  inflating: 14-celebrity-faces-dataset/data/train/arnold_schwarzenegger/490px-Arnold_Schwarzenegger.jpg  \n",
            "  inflating: 14-celebrity-faces-dataset/data/train/arnold_schwarzenegger/505px-Arnold_Schwarzenegger_September_2017.jpg  \n",
            "  inflating: 14-celebrity-faces-dataset/data/train/arnold_schwarzenegger/603px-Arnold_Schwarzenegger_and_Karyn_Marshall.jpg  \n",
            "  inflating: 14-celebrity-faces-dataset/data/train/arnold_schwarzenegger/800px-Arnold_Schwarzenegger_speaks_at_New_Way_California_Press_event_in_Los_Angeles_(27088445338).jpg  \n",
            "  inflating: 14-celebrity-faces-dataset/data/train/arnold_schwarzenegger/800px-Sylvester_Stallone_&_Arnold_Schwarzenegger_(7588432876).jpg  \n",
            "  inflating: 14-celebrity-faces-dataset/data/train/arnold_schwarzenegger/A._Schwarzenegger.jpg  \n",
            "  inflating: 14-celebrity-faces-dataset/data/train/arnold_schwarzenegger/Arnold_Schwarzenegger.jpg  \n",
            "  inflating: 14-celebrity-faces-dataset/data/train/arnold_schwarzenegger/Arnold_Schwarzenegger_2.jpg  \n",
            "  inflating: 14-celebrity-faces-dataset/data/train/arnold_schwarzenegger/Arnold_Schwarzenegger_2004-01-30.jpg  \n",
            "  inflating: 14-celebrity-faces-dataset/data/train/arnold_schwarzenegger/Arnold_Schwarzenegger_from_acrofan.jpg  \n",
            "  inflating: 14-celebrity-faces-dataset/data/train/arnold_schwarzenegger/Arnoldandsonbutwithoutson.jpg  \n",
            "  inflating: 14-celebrity-faces-dataset/data/train/arnold_schwarzenegger/Christopher_Cox_and_Arnold_Schwarzenegger.jpg  \n",
            "  inflating: 14-celebrity-faces-dataset/data/train/ben_afflek/httpcsvkmeuaeccjpg.jpg  \n",
            "  inflating: 14-celebrity-faces-dataset/data/train/ben_afflek/httpimagesfandangocomrImageRendererredesignstaticimgnoxportraitjpgpcpcpcimagesmasterrepositoryperformerimagespjpg.jpg  \n",
            "  inflating: 14-celebrity-faces-dataset/data/train/ben_afflek/httpssmediacacheakpinimgcomxdbbdbbbececacdecdcdfjpg.jpg  \n",
            "  inflating: 14-celebrity-faces-dataset/data/train/ben_afflek/httpssmediacacheakpinimgcomxdfdfadcfeabjpg.jpg  \n",
            "  inflating: 14-celebrity-faces-dataset/data/train/ben_afflek/httpssmediacacheakpinimgcomxedaedabcbefbcbabbjpg.jpg  \n",
            "  inflating: 14-celebrity-faces-dataset/data/train/ben_afflek/httpssmediacacheakpinimgcomxeebdfdbaaajpg.jpg  \n",
            "  inflating: 14-celebrity-faces-dataset/data/train/ben_afflek/httpssmediacacheakpinimgcomxeeedcacddeccccacfjpg.jpg  \n",
            "  inflating: 14-celebrity-faces-dataset/data/train/ben_afflek/httpsuploadwikimediaorgwikipediacommonsthumbddBenAffleckbyGageSkidmorejpgpxBenAffleckbyGageSkidmorejpg.jpg  \n",
            "  inflating: 14-celebrity-faces-dataset/data/train/ben_afflek/httptrwebimgacstanetcxbdddmediasnmediajpg.jpg  \n",
            "  inflating: 14-celebrity-faces-dataset/data/train/ben_afflek/httpwwwaceshowbizcomimagesphotobenaffleckjpg.jpg  \n",
            "  inflating: 14-celebrity-faces-dataset/data/train/ben_afflek/httpwwwallposterscomimagesPostersPFjpg.jpg  \n",
            "  inflating: 14-celebrity-faces-dataset/data/train/ben_afflek/httpwwwfilmscoopitcgibinattoriBENAFFLECKBENAFFLECKjpg.jpg  \n",
            "  inflating: 14-celebrity-faces-dataset/data/train/ben_afflek/httpwwwhillsindcomstorebenjpg.jpg  \n",
            "  inflating: 14-celebrity-faces-dataset/data/train/ben_afflek/httpwwwrumenewscomwpcontentuploadsbenafflekxpng.jpg  \n",
            "  inflating: 14-celebrity-faces-dataset/data/train/dwayne_johnson/307px-Dwayne_'The_Rock'_Johnson_2016.jpg  \n",
            "  inflating: 14-celebrity-faces-dataset/data/train/dwayne_johnson/390px-Intercontinental_Champion_THE_ROCK.jpg  \n",
            "  inflating: 14-celebrity-faces-dataset/data/train/dwayne_johnson/400px-Dwayne_Johnson,_Steve_Peacocke_2014.jpg  \n",
            "  inflating: 14-celebrity-faces-dataset/data/train/dwayne_johnson/400px-Dwayne_Johnson_(8557374996).jpg  \n",
            "  inflating: 14-celebrity-faces-dataset/data/train/dwayne_johnson/400px-Dwayne_The_Rock_Johnson_trees_portrait_2009.jpg  \n",
            "  inflating: 14-celebrity-faces-dataset/data/train/dwayne_johnson/401px-DwyaneJohnson.jpg  \n",
            "  inflating: 14-celebrity-faces-dataset/data/train/dwayne_johnson/404px-Dwayne_Johnson_(8556239847).jpg  \n",
            "  inflating: 14-celebrity-faces-dataset/data/train/dwayne_johnson/434px-Dwayne_The_Rock_Johnson_street_Tribeca_2009_portrait.jpg  \n",
            "  inflating: 14-celebrity-faces-dataset/data/train/dwayne_johnson/449px-Dwayne_Johnson_at_the_2009_Tribeca_Film_Festival.jpg  \n",
            "  inflating: 14-celebrity-faces-dataset/data/train/dwayne_johnson/450px-The_Rock_Axxess_2002.jpg  \n",
            "  inflating: 14-celebrity-faces-dataset/data/train/dwayne_johnson/461px-WWE_-_Sheffield_020499_(49).jpg  \n",
            "  inflating: 14-celebrity-faces-dataset/data/train/dwayne_johnson/800px-Evan_Mathis_and_Dwayne_Johnson.jpg  \n",
            "  inflating: 14-celebrity-faces-dataset/data/train/dwayne_johnson/Dwayne_Johnson.jpg  \n",
            "  inflating: 14-celebrity-faces-dataset/data/train/dwayne_johnson/Dwayne_Johnson_2,_2013.jpg  \n",
            "  inflating: 14-celebrity-faces-dataset/data/train/dwayne_johnson/Dwayne_Johnson_2014(Cropped).jpg  \n",
            "  inflating: 14-celebrity-faces-dataset/data/train/elton_john/httpftqncomymusicLxZeltonjohnjpg.jpg  \n",
            "  inflating: 14-celebrity-faces-dataset/data/train/elton_john/httpiamediaimdbcomimagesMMVBMTAxNDUMzUwOTdeQTJeQWpwZBbWUMDUOTAyNTIVUXCRALjpg.jpg  \n",
            "  inflating: 14-celebrity-faces-dataset/data/train/elton_john/httpimagesmtvcomurimgidfiledocrootvhcomsitewideflipbooksimgdailyjpgenlargefalsemattetruematteColorblackquality.jpg  \n",
            "  inflating: 14-celebrity-faces-dataset/data/train/elton_john/httpimggalpmdstaticnetfithttpAFFwwwEgalaEfrFvarFgalFstorageFimagesFmediaFmultiuploaddufevrierFeltonjohnFfreFRFeltonjohnEjpgxqualityeltonjohnjpg.jpg  \n",
            "  inflating: 14-celebrity-faces-dataset/data/train/elton_john/httpmediacacheecpinimgcomxffeffbcefjpg.jpg  \n",
            "  inflating: 14-celebrity-faces-dataset/data/train/elton_john/httpmediapopsugarassetscomfilescbffewltonjpg.jpg  \n",
            "  inflating: 14-celebrity-faces-dataset/data/train/elton_john/httpsdfrpwlycscloudfrontnetdeltonjohnjpg.jpg  \n",
            "  inflating: 14-celebrity-faces-dataset/data/train/elton_john/httpspmctvlinefileswordpresscomeltonjohnjpg.jpg  \n",
            "  inflating: 14-celebrity-faces-dataset/data/train/elton_john/httpssmediacacheakpinimgcomxfcfcbaeaeddabbjpg.jpg  \n",
            "  inflating: 14-celebrity-faces-dataset/data/train/elton_john/httpssmediacacheakpinimgcomxfecfecaefaadfebejpg.jpg  \n",
            "  inflating: 14-celebrity-faces-dataset/data/train/elton_john/httpssmediacacheakpinimgcomxfefdacfbfdeadajpg.jpg  \n",
            "  inflating: 14-celebrity-faces-dataset/data/train/elton_john/httpsticketmnettmenusdamabbacdaebeafdbbCUSTOMjpg.jpg  \n",
            "  inflating: 14-celebrity-faces-dataset/data/train/elton_john/httpsuploadwikimediaorgwikipediacommonsthumbEltonJohninsjpgpxEltonJohninsjpg.jpg  \n",
            "  inflating: 14-celebrity-faces-dataset/data/train/elton_john/httpwwwdeadlinecomvimgnetwpcontentuploadseltonjpg.jpg  \n",
            "  inflating: 14-celebrity-faces-dataset/data/train/elton_john/httpwwweonlinecomresizewwweonlinecomeolimagesEntireSitersxEltonJohnJRjpg.jpg  \n",
            "  inflating: 14-celebrity-faces-dataset/data/train/elton_john/httpwwwjohnpauljonesarenacomeventimagesEltonCalendarVjpg.jpg  \n",
            "  inflating: 14-celebrity-faces-dataset/data/train/elton_john/httpwwwlautdeEltonJohneltonjohnjpg.jpg  \n",
            "  inflating: 14-celebrity-faces-dataset/data/train/jerry_seinfeld/httpgraphicsnytimescomimagessectionmoviesfilmographyWireImagejpg.jpg  \n",
            "  inflating: 14-celebrity-faces-dataset/data/train/jerry_seinfeld/httpikinjaimgcomgawkermediaimageuploadsWmIuhdsrcedidjpgjpg.jpg  \n",
            "  inflating: 14-celebrity-faces-dataset/data/train/jerry_seinfeld/httpimagescontactmusiccomnewsimagesjerryseinfeldjpg.jpg  \n",
            "  inflating: 14-celebrity-faces-dataset/data/train/jerry_seinfeld/httpimagesrottentomatoescomimagesspotlightsnewsjerryseinfeldjpg.jpg  \n",
            "  inflating: 14-celebrity-faces-dataset/data/train/jerry_seinfeld/httpimgthedrumcomsfspublicnewstmpjerryseinfeldjpg.jpg  \n",
            "  inflating: 14-celebrity-faces-dataset/data/train/jerry_seinfeld/httpimgtimeincnetpeopleinewsjerryseinfeldjpg.jpg  \n",
            "  inflating: 14-celebrity-faces-dataset/data/train/jerry_seinfeld/httpmediapopsugarassetscomfilesusersxlargejpg.jpg  \n",
            "  inflating: 14-celebrity-faces-dataset/data/train/jerry_seinfeld/httppfodcompchannelslegacyprofilejerryseinfeldpodcastjpg.jpg  \n",
            "  inflating: 14-celebrity-faces-dataset/data/train/jerry_seinfeld/httpsmedialivenationcomartiststapjpg.jpg  \n",
            "  inflating: 14-celebrity-faces-dataset/data/train/jerry_seinfeld/httpsrobertaccetturacomwpcontentuploadsjerryseinfeldheadshotjpg.jpg  \n",
            "  inflating: 14-celebrity-faces-dataset/data/train/jerry_seinfeld/httpstatictherichestimagescomcdncwpcontentuploadsJerrySeinfeldjpg.jpg  \n",
            "  inflating: 14-celebrity-faces-dataset/data/train/jerry_seinfeld/httpsticketmnettmenusdbimagesajpg.jpg  \n",
            "  inflating: 14-celebrity-faces-dataset/data/train/jerry_seinfeld/httpsuploadwikimediaorgwikipediacommonsthumbbJerrySeinfeldjpgpxJerrySeinfeldjpg.jpg  \n",
            "  inflating: 14-celebrity-faces-dataset/data/train/jerry_seinfeld/httpsuswestamazonawscomblogsprodmediausuploadsJerrySeinfeldkidsxjpg.jpg  \n",
            "  inflating: 14-celebrity-faces-dataset/data/train/jerry_seinfeld/httpswwwticketscomuploadsartistsjerryseinfeldbilletsjpg.jpg  \n",
            "  inflating: 14-celebrity-faces-dataset/data/train/jerry_seinfeld/httpwwweonlinecomresizewwweonlinecomeolimagesEntireSitersxjerryseinfeldjulialouisdreyfusjwjpg.jpg  \n",
            "  inflating: 14-celebrity-faces-dataset/data/train/jerry_seinfeld/httpwwwnndbcompeoplejerryseinfeldaujpg.jpg  \n",
            "  inflating: 14-celebrity-faces-dataset/data/train/jerry_seinfeld/httpwwwpictureszimbiocomgpJerrySeinfeldJessicaSeinfeldmarriedBczSipMdNMQljpg.jpg  \n",
            "  inflating: 14-celebrity-faces-dataset/data/train/jerry_seinfeld/httpwwwpsychiatrictimescomsitesdefaultfilesimagesmediaPTMofficSeinfeldjpg.jpg  \n",
            "  inflating: 14-celebrity-faces-dataset/data/train/jerry_seinfeld/httpwwwslatecomcontentdamslateblogsbrowbeatseinfeldjpgCROParticlemediumjpg.jpg  \n",
            "  inflating: 14-celebrity-faces-dataset/data/train/jerry_seinfeld/httpwwwwatchidcomsitesdefaultfilesuploadsightingBreitlingwatchJerrySeinfeldjpg.jpg  \n",
            "  inflating: 14-celebrity-faces-dataset/data/train/kate_beckinsale/321px-Kate_Beckinsale_2006.jpg  \n",
            "  inflating: 14-celebrity-faces-dataset/data/train/kate_beckinsale/381px-Kate_Beckinsale_(29907748884)_(cropped).jpg  \n",
            "  inflating: 14-celebrity-faces-dataset/data/train/kate_beckinsale/398px-Kate_Beckinsale_Cannes_2010.jpg  \n",
            "  inflating: 14-celebrity-faces-dataset/data/train/kate_beckinsale/405px-Kate_Beckinsale_TIFF,_2008.jpg  \n",
            "  inflating: 14-celebrity-faces-dataset/data/train/kate_beckinsale/405px-Kate_Beckinsale_TIFF_2008.jpg  \n",
            "  inflating: 14-celebrity-faces-dataset/data/train/kate_beckinsale/417px-Kate_Beckinsale_TIFF_2003.jpg  \n",
            "  inflating: 14-celebrity-faces-dataset/data/train/kate_beckinsale/423px-Kate_Beckinsale_2011_Comic-Con_(truer_color).jpg  \n",
            "  inflating: 14-celebrity-faces-dataset/data/train/kate_beckinsale/428px-Face_of_an_Angel_01_(15126781050).jpg  \n",
            "  inflating: 14-celebrity-faces-dataset/data/train/kate_beckinsale/428px-Nothing_But_the_Truth34_(7066628855).jpg  \n",
            "  inflating: 14-celebrity-faces-dataset/data/train/kate_beckinsale/446px-KateBeckinsaleJune07.jpg  \n",
            "  inflating: 14-celebrity-faces-dataset/data/train/kate_beckinsale/692px-Kate_Beckinsale_at_2008_TIFF_cropped.jpg  \n",
            "  inflating: 14-celebrity-faces-dataset/data/train/keanu_reeves/357px-Keanu_Reeves_(Berlin_Film_Festival_2009).jpg  \n",
            "  inflating: 14-celebrity-faces-dataset/data/train/keanu_reeves/387px-KeanuReevesLakehouse.jpg  \n",
            "  inflating: 14-celebrity-faces-dataset/data/train/keanu_reeves/400px-Keanu_Reeves,_John_Wick_Red_Carpet,_Fantastic_Fest_2014_Austin,_Texas_2014--11_(21131325711).jpg  \n",
            "  inflating: 14-celebrity-faces-dataset/data/train/keanu_reeves/400px-Keanu_Reeves_2013_TIFF_(cropped).jpg  \n",
            "  inflating: 14-celebrity-faces-dataset/data/train/keanu_reeves/421px-Keanu_Reeves_2014.jpg  \n",
            "  inflating: 14-celebrity-faces-dataset/data/train/keanu_reeves/800px-Flickr_-_Bucajack_-_Keanu_Reeves_-_TIFF_09_(1).jpg  \n",
            "  inflating: 14-celebrity-faces-dataset/data/train/keanu_reeves/FoS20162016_0625_114657AA_(27289969643).jpg  \n",
            "  inflating: 14-celebrity-faces-dataset/data/train/keanu_reeves/FoS20162016_0625_114700AA_(27624285860).jpg  \n",
            "  inflating: 14-celebrity-faces-dataset/data/train/keanu_reeves/Keanu.jpg  \n",
            "  inflating: 14-celebrity-faces-dataset/data/train/keanu_reeves/Keanu_Reeves_(25448963336)_(2).jpg  \n",
            "  inflating: 14-celebrity-faces-dataset/data/train/keanu_reeves/Keanu_china_15.2.2012..jpg  \n",
            "  inflating: 14-celebrity-faces-dataset/data/train/lauren_cohan/337px-Lauren_Cohan_(5809510417).jpg  \n",
            "  inflating: 14-celebrity-faces-dataset/data/train/lauren_cohan/427px-Lauren_Cohan_01_(15131252521).jpg  \n",
            "  inflating: 14-celebrity-faces-dataset/data/train/lauren_cohan/428px-Lauren_Cohan_10_(15111246086).jpg  \n",
            "  inflating: 14-celebrity-faces-dataset/data/train/lauren_cohan/432px-Lauren_Cohan_by_Gage_Skidmore_2.jpg  \n",
            "  inflating: 14-celebrity-faces-dataset/data/train/lauren_cohan/438px-Lauren_Cohan_2014.jpg  \n",
            "  inflating: 14-celebrity-faces-dataset/data/train/lauren_cohan/476px-Lauren_Cohan_by_Gage_Skidmore.jpg  \n",
            "  inflating: 14-celebrity-faces-dataset/data/train/lauren_cohan/800px-Jeffrey_Dean_Morgan_&_Lauren_Cohan_(35756770490).jpg  \n",
            "  inflating: 14-celebrity-faces-dataset/data/train/lauren_cohan/800px-Lauren_Cohan_(5809258847).jpg  \n",
            "  inflating: 14-celebrity-faces-dataset/data/train/lauren_cohan/800px-Lauren_Cohan_(5809590629).jpg  \n",
            "  inflating: 14-celebrity-faces-dataset/data/train/lauren_cohan/800px-Lauren_Cohan_2013_Comic-Con.jpg  \n",
            "  inflating: 14-celebrity-faces-dataset/data/train/madonna/httpiamediaimdbcomimagesMMVBMTANDQNTAxNDVeQTJeQWpwZBbWUMDIMjQOTYVUXCRALjpg.jpg  \n",
            "  inflating: 14-celebrity-faces-dataset/data/train/madonna/httpimagegaladevcmseamadonnaprivatdetektivsquaretopsquarejpgv.jpg  \n",
            "  inflating: 14-celebrity-faces-dataset/data/train/madonna/httpimgclosermagfrvarclosermagstorageimagesactupeoplebiodestarsmadonnamadonnafreFRmadonnaexactxljpg.jpg  \n",
            "  inflating: 14-celebrity-faces-dataset/data/train/madonna/httpmediavoguecomrwblondesdarkbrowsmadonnajpg.jpg  \n",
            "  inflating: 14-celebrity-faces-dataset/data/train/madonna/httpresizeparismatchladmediafrrffffffcentermiddleimgvarnewsstorageimagesparismatchpeopleazmadonnafreFRMadonnajpg.jpg  \n",
            "  inflating: 14-celebrity-faces-dataset/data/train/madonna/httpssmediacacheakpinimgcomxaaeaaeecccaedfebdbjpg.jpg  \n",
            "  inflating: 14-celebrity-faces-dataset/data/train/madonna/httpssmediacacheakpinimgcomxafafedebcbjpg.jpg  \n",
            "  inflating: 14-celebrity-faces-dataset/data/train/madonna/httpssmediacacheakpinimgcomxdcfdcfedfaedadjpg.jpg  \n",
            "  inflating: 14-celebrity-faces-dataset/data/train/madonna/httpssmediacacheakpinimgcomxfeebfdccajpg.jpg  \n",
            "  inflating: 14-celebrity-faces-dataset/data/train/madonna/httpssmediacacheakpinimgcomxffabffabbbcfbceaedjpg.jpg  \n",
            "  inflating: 14-celebrity-faces-dataset/data/train/madonna/httpssmediacacheakpinimgcomxffeabacaaejpg.jpg  \n",
            "  inflating: 14-celebrity-faces-dataset/data/train/madonna/httpssmediacacheakpinimgcomxffecfafddjpg.jpg  \n",
            "  inflating: 14-celebrity-faces-dataset/data/train/madonna/httpssvagalumecommadonnaimagesmadonnajpg.jpg  \n",
            "  inflating: 14-celebrity-faces-dataset/data/train/madonna/httpsuploadwikimediaorgwikipediacommonsMadonnathAnnualGoldenGlobesAwardscroppedjpg.jpg  \n",
            "  inflating: 14-celebrity-faces-dataset/data/train/madonna/httpsuploadwikimediaorgwikipediacommonsthumbaaMadonnaatthepremiereofIAmBecauseWeArejpgpxMadonnaatthepremiereofIAmBecauseWeArejpg.jpg  \n",
            "  inflating: 14-celebrity-faces-dataset/data/train/madonna/httpuploadwikimediaorgwikipediacommonsthumbaMadonnaRotterdamjpgpxMadonnaRotterdamjpg.jpg  \n",
            "  inflating: 14-celebrity-faces-dataset/data/train/madonna/httpwwwbeastiemaniacomwhoismadonnamadonnajpg.jpg  \n",
            "  inflating: 14-celebrity-faces-dataset/data/train/madonna/httpwwwblackdogfilmscomwordpresswpcontentuploadsmadonnacelebrationxjpg.jpg  \n",
            "  inflating: 14-celebrity-faces-dataset/data/train/madonna/httpwwwetonlinecomphotomadonnabdayjpg.jpg  \n",
            "  inflating: 14-celebrity-faces-dataset/data/train/mindy_kaling/httpgonetworthcomwpcontentuploadsthumbsjpg.jpg  \n",
            "  inflating: 14-celebrity-faces-dataset/data/train/mindy_kaling/httpgraphicsnytimescomimagesmagazinekalingkalingarticleInlinejpg.jpg  \n",
            "  inflating: 14-celebrity-faces-dataset/data/train/mindy_kaling/httpimagesnymagcomimagesdailymindykalingxjpg.jpg  \n",
            "  inflating: 14-celebrity-faces-dataset/data/train/mindy_kaling/httpmediaonsugarcomfilesbabaaaaaMindyInterviewxxxlargejpg.jpg  \n",
            "  inflating: 14-celebrity-faces-dataset/data/train/mindy_kaling/httppixelnymagcomimgsfashiondailymindykalingwhjpg.jpg  \n",
            "  inflating: 14-celebrity-faces-dataset/data/train/mindy_kaling/httpsamazonawscomkidzworldphotoimagesbccdddaaadgallerymindykalinggalleryjpg.jpg  \n",
            "  inflating: 14-celebrity-faces-dataset/data/train/mindy_kaling/httpsimagesnasslimagesamazoncomimagesIAQdwKvFILUXjpg.jpg  \n",
            "  inflating: 14-celebrity-faces-dataset/data/train/mindy_kaling/httpsimgbuzzfeedcombuzzfeedstaticstaticcampaignimageswebdradorableetsyitemsallmindykalingfansneedbigjpg.jpg  \n",
            "  inflating: 14-celebrity-faces-dataset/data/train/mindy_kaling/httpssmediacacheakpinimgcomxafaffbbbbdbcbdddjpg.jpg  \n",
            "  inflating: 14-celebrity-faces-dataset/data/train/mindy_kaling/httpssmediacacheakpinimgcomxbabafeacbaaacabffjpg.jpg  \n",
            "  inflating: 14-celebrity-faces-dataset/data/train/mindy_kaling/httpssmediacacheakpinimgcomxbbfcbdedfbfdbjpg.jpg  \n",
            "  inflating: 14-celebrity-faces-dataset/data/train/mindy_kaling/httpssmediacacheakpinimgcomxcccccddbbfedabjpg.jpg  \n",
            "  inflating: 14-celebrity-faces-dataset/data/train/mindy_kaling/httpssmediacacheakpinimgcomxccccdabeaadjpg.jpg  \n",
            "  inflating: 14-celebrity-faces-dataset/data/train/mindy_kaling/httpssmediacacheakpinimgcomxededbebccdajpg.jpg  \n",
            "  inflating: 14-celebrity-faces-dataset/data/train/mindy_kaling/httpssmediacacheakpinimgcomxeedccadejpg.jpg  \n",
            "  inflating: 14-celebrity-faces-dataset/data/train/mindy_kaling/httpsuploadwikimediaorgwikipediacommonsthumbMindyBKalingBPaleyFestBNewBYorkBBMindyBIqZgUWvbljpgpxMindyBKalingBPaleyFestBNewBYorkBBMindyBIqZgUWvbljpg.jpg  \n",
            "  inflating: 14-celebrity-faces-dataset/data/train/mindy_kaling/httpwwwadweekcomfilesimagecachenodeinlinemindykalingprofilehedjpg.jpg  \n",
            "  inflating: 14-celebrity-faces-dataset/data/train/mindy_kaling/httpwwwbooksforbetterlivingcomwpcontentuploadsMindyKalingAuthorPhotojpg.jpg  \n",
            "  inflating: 14-celebrity-faces-dataset/data/train/mindy_kaling/httpwwweonlinecomeolimagesEntireSiteregKalingCancermhjpg.jpg  \n",
            "  inflating: 14-celebrity-faces-dataset/data/train/mindy_kaling/httpwwwimpropercomimagesuploadsusercontentimagesSoroffMindyjpg.jpg  \n",
            "  inflating: 14-celebrity-faces-dataset/data/train/mindy_kaling/httpwwwpictureszimbiocomfpMindyKalingfBgaONVFDFmjpg.jpg  \n",
            "  inflating: 14-celebrity-faces-dataset/data/train/mindy_kaling/httpwwwpictureszimbiocomgiMindyKalingLkvEhTwDeJmjpg.jpg  \n",
            "  inflating: 14-celebrity-faces-dataset/data/train/simon_pegg/335px-SimonPeggByPaulEwen2005.jpg  \n",
            "  inflating: 14-celebrity-faces-dataset/data/train/simon_pegg/427px-Simon_Pegg_Hector_02.jpg  \n",
            "  inflating: 14-celebrity-faces-dataset/data/train/simon_pegg/454px-Simon_Pegg_SXSW_2011.jpg  \n",
            "  inflating: 14-celebrity-faces-dataset/data/train/simon_pegg/481px-Simon_Pegg_by_Gage_Skidmore.jpg  \n",
            "  inflating: 14-celebrity-faces-dataset/data/train/simon_pegg/800px-Edgar_Wright_&_Simon_Pegg_(9346083309).jpg  \n",
            "  inflating: 14-celebrity-faces-dataset/data/train/simon_pegg/800px-Ken_Foree_and_Simon_Pegg.jpg  \n",
            "  inflating: 14-celebrity-faces-dataset/data/train/simon_pegg/800px-Simon_Pegg_2013_SDCC.jpg  \n",
            "  inflating: 14-celebrity-faces-dataset/data/train/simon_pegg/800px-Simon_Pegg_SDCC_2013_(2).jpg  \n",
            "  inflating: 14-celebrity-faces-dataset/data/train/simon_pegg/SimonPeggApr09_(cropped).jpg  \n",
            "  inflating: 14-celebrity-faces-dataset/data/train/simon_pegg/Simon_Pegg_01.jpg  \n",
            "  inflating: 14-celebrity-faces-dataset/data/train/simon_pegg/Simon_Pegg_02.jpg  \n",
            "  inflating: 14-celebrity-faces-dataset/data/train/simon_pegg/Simon_Pegg_Run.jpg  \n",
            "  inflating: 14-celebrity-faces-dataset/data/train/simon_pegg/Star_Trek_Beyond_Japan_Premiere_Red_Carpet-_Simon_Pegg_(31316515044).jpg  \n",
            "  inflating: 14-celebrity-faces-dataset/data/train/simon_pegg/Star_Trek_Beyond_Japan_Premiere_Red_Carpet-_Simon_Pegg_(32009519272).jpg  \n",
            "  inflating: 14-celebrity-faces-dataset/data/train/sofia_vergara/328px-Sofia_Vergara_@_69th_Annual_Golden_Globes_Awards_(cropped).jpg  \n",
            "  inflating: 14-celebrity-faces-dataset/data/train/sofia_vergara/398px-Sofia_Vergara_2011.jpg  \n",
            "  inflating: 14-celebrity-faces-dataset/data/train/sofia_vergara/399px-Sof├нa_Vergara_and_Nick_Loeb_2014.jpg  \n",
            "  inflating: 14-celebrity-faces-dataset/data/train/sofia_vergara/400px-Sof├нa_Vergara_at_2015_PaleyFest.jpg  \n",
            "  inflating: 14-celebrity-faces-dataset/data/train/sofia_vergara/413px-Sof├нa_Vergara_at_Pre-White_House_Correspondents'_Dinner_Reception_Pre-Party_-_14110653291.jpg  \n",
            "  inflating: 14-celebrity-faces-dataset/data/train/sofia_vergara/449px-Sof├нa_Vergara_2,_2009.jpg  \n",
            "  inflating: 14-celebrity-faces-dataset/data/train/sofia_vergara/450px-Sofia_Vergara_@_69th_Annual_Golden_Globes_Awards.jpg  \n",
            "  inflating: 14-celebrity-faces-dataset/data/train/sofia_vergara/450px-Sof├нa_Vergara_@_2013_Golden_Globes_(8378777621).jpg  \n",
            "  inflating: 14-celebrity-faces-dataset/data/train/sofia_vergara/485px-Sof├нa_Vergara_Oscars_2016.jpg  \n",
            "  inflating: 14-celebrity-faces-dataset/data/train/sofia_vergara/532px-Leonardo_Rocco_and_Sofia_Vergara.jpg  \n",
            "  inflating: 14-celebrity-faces-dataset/data/train/sofia_vergara/792px-Sof├нa_Vergara_Festival_Vi├▒a_del_Mar_1995.png  \n",
            "  inflating: 14-celebrity-faces-dataset/data/train/sofia_vergara/794px-Sof├нa_Vergara_Festival_Vi├▒a_del_Mar_1994.png  \n",
            "  inflating: 14-celebrity-faces-dataset/data/train/sofia_vergara/Maquai015 Vlogs.png  \n",
            "  inflating: 14-celebrity-faces-dataset/data/train/sofia_vergara/Sofia-Vergara-Makeup-2015-Emmys.jpg  \n",
            "  inflating: 14-celebrity-faces-dataset/data/train/sofia_vergara/Sof├нa_Vergara,_Julie_Bowen_and_Jesse_Tyler_Ferguson,_May_2010_(3).jpg  \n",
            "  inflating: 14-celebrity-faces-dataset/data/train/sofia_vergara/Sof├нa_Vergara,_May_2010_(11).jpg  \n",
            "  inflating: 14-celebrity-faces-dataset/data/train/sofia_vergara/Sof├нa_Vergara,_May_2010_(8).jpg  \n",
            "  inflating: 14-celebrity-faces-dataset/data/train/will_smith/398px-Will_Smith_by_Gage_Skidmore.jpg  \n",
            "  inflating: 14-celebrity-faces-dataset/data/train/will_smith/400px-Will_Smith_in_Berlin_(2011).jpg  \n",
            "  inflating: 14-celebrity-faces-dataset/data/train/will_smith/538px-Will_Smith_Cannes_2017_3.jpg  \n",
            "  inflating: 14-celebrity-faces-dataset/data/train/will_smith/543px-Will_Smith_Nobel_Peace_Prize_2009_Harry_Wad1.jpg  \n",
            "  inflating: 14-celebrity-faces-dataset/data/train/will_smith/577px-Will_Smith_2011,_3.jpg  \n",
            "  inflating: 14-celebrity-faces-dataset/data/train/will_smith/636px-Will_Smith_2.jpg  \n",
            "  inflating: 14-celebrity-faces-dataset/data/train/will_smith/800px-Bright_Japan_Premiere_Red_Carpet-_Will_Smith_(38627390265).jpg  \n",
            "  inflating: 14-celebrity-faces-dataset/data/train/will_smith/800px-Gazing_adoringly_at_Will_Smith.jpg  \n",
            "  inflating: 14-celebrity-faces-dataset/data/train/will_smith/800px-Time_100_Will_Smith_title.jpg  \n",
            "  inflating: 14-celebrity-faces-dataset/data/train/will_smith/800px-Will_Smith_(35302305554).jpg  \n",
            "  inflating: 14-celebrity-faces-dataset/data/train/will_smith/David_Ayer_&_Will_Smith_(28316583290).jpg  \n",
            "  inflating: 14-celebrity-faces-dataset/data/train/will_smith/SDCC_2015_-_Margot_Robbie,_Will_Smith_&_David_Ayer_(19682725846).jpg  \n",
            "  inflating: 14-celebrity-faces-dataset/data/train/will_smith/Steve Lyon.jpg  \n",
            "  inflating: 14-celebrity-faces-dataset/data/train/will_smith/Will_Smith_2,_2012.jpg  \n",
            "  inflating: 14-celebrity-faces-dataset/data/train/will_smith/Will_Smith_Cannes_2017_2.jpg  \n",
            "  inflating: 14-celebrity-faces-dataset/data/train/will_smith/Will_Smith_Cannes_2017_4.jpg  \n",
            "  inflating: 14-celebrity-faces-dataset/data/val/anne_hathaway/531px-Anne_Hathaway_@_2018.09.15_Human_Rights_Campaign_National_Dinner,_Washington,_DC_USA_06196_(43805109725).jpg  \n",
            "  inflating: 14-celebrity-faces-dataset/data/val/anne_hathaway/Anne_Hathaway,_Alice_In_Wonderland.jpg  \n",
            "  inflating: 14-celebrity-faces-dataset/data/val/anne_hathaway/Anne_Hathaway.jpg  \n",
            "  inflating: 14-celebrity-faces-dataset/data/val/anne_hathaway/Anne_Hathaway_2008-b.jpg  \n",
            "  inflating: 14-celebrity-faces-dataset/data/val/anne_hathaway/Anne_Hathaway_Face.jpg  \n",
            "  inflating: 14-celebrity-faces-dataset/data/val/anne_hathaway/Anne_Hathaway_at_MIFF.jpg  \n",
            "  inflating: 14-celebrity-faces-dataset/data/val/arnold_schwarzenegger/359px-Arnold_Schwarzenegger_2003.jpg  \n",
            "  inflating: 14-celebrity-faces-dataset/data/val/arnold_schwarzenegger/379px-Arnold_Schwarzenegger_-_2019_(33730956438)_(cropped).jpg  \n",
            "  inflating: 14-celebrity-faces-dataset/data/val/arnold_schwarzenegger/384px-TSM350_2015_-_Arnold_Schwarzenegger_-_Stierch_4.jpg  \n",
            "  inflating: 14-celebrity-faces-dataset/data/val/arnold_schwarzenegger/800px-Arnold_Schwarzenegger_(33730957348).jpg  \n",
            "  inflating: 14-celebrity-faces-dataset/data/val/arnold_schwarzenegger/Terry_Everett_with_Arnold_Schwarzenegger.jpg  \n",
            "  inflating: 14-celebrity-faces-dataset/data/val/ben_afflek/httpabsolumentgratuitfreefrimagesbenaffleckjpg.jpg  \n",
            "  inflating: 14-celebrity-faces-dataset/data/val/ben_afflek/httpafilesbiographycomimageuploadcfillcssrgbdprgfacehqwMTENDgMDUODczNDcNTcjpg.jpg  \n",
            "  inflating: 14-celebrity-faces-dataset/data/val/ben_afflek/httpbpblogspotcomedLMjVpRGkSWexgsXjkNIAAAAAAAADWgFFtAUqBlhAsjpg.jpg  \n",
            "  inflating: 14-celebrity-faces-dataset/data/val/ben_afflek/httpcsvkmeuaafdfjpg.jpg  \n",
            "  inflating: 14-celebrity-faces-dataset/data/val/ben_afflek/httpcsvkmeuadecafjpg.jpg  \n",
            "  inflating: 14-celebrity-faces-dataset/data/val/dwayne_johnson/450px-The_people's_champion..jpg  \n",
            "  inflating: 14-celebrity-faces-dataset/data/val/dwayne_johnson/Dwayne_Johnson_interview_at_HK_Disneyland.jpg  \n",
            "  inflating: 14-celebrity-faces-dataset/data/val/dwayne_johnson/Dwayne_Johnson_with_wife_and_Faleomavaega.jpg  \n",
            "  inflating: 14-celebrity-faces-dataset/data/val/dwayne_johnson/The_Rock_with_Paul_Billets_2.jpg  \n",
            "  inflating: 14-celebrity-faces-dataset/data/val/dwayne_johnson/david shankbone.jpg  \n",
            "  inflating: 14-celebrity-faces-dataset/data/val/elton_john/httpafilesbiographycomimageuploadcfillcssrgbdprgfacehqwMTEODAOTcxNjcMjczMjkzjpg.jpg  \n",
            "  inflating: 14-celebrity-faces-dataset/data/val/elton_john/httpcdncdnjustjaredcomwpcontentuploadsheadlineseltonjohnemmysperformancewatchnowjpg.jpg  \n",
            "  inflating: 14-celebrity-faces-dataset/data/val/elton_john/httpcdncdnjustjaredcomwpcontentuploadsheadlineseltonjohnstillstandingbrooklynnewyearsjpg.jpg  \n",
            "  inflating: 14-celebrity-faces-dataset/data/val/elton_john/httpcdncdnjustjaredcomwpcontentuploadsheadlineseltonjohnsupportsbrucejennerstransitiontowomanjpg.jpg  \n",
            "  inflating: 14-celebrity-faces-dataset/data/val/elton_john/httpcdnlyricssongonlyricsnetwpcontentuploadsEltonJohnDiscographyCDreleasesjpg.jpg  \n",
            "  inflating: 14-celebrity-faces-dataset/data/val/jerry_seinfeld/httpafilesbiographycomimageuploadcfillcssrgbdprgfacehqwMTIwNjANjMMDINzIxNjcjpg.jpg  \n",
            "  inflating: 14-celebrity-faces-dataset/data/val/jerry_seinfeld/httpaurorasblogcomwpcontentuploadsjerryseinfeldpublicityshotjpg.jpg  \n",
            "  inflating: 14-celebrity-faces-dataset/data/val/jerry_seinfeld/httpblognjcomentertainmentimpactcelebritiesmediumjerrybjpg.jpg  \n",
            "  inflating: 14-celebrity-faces-dataset/data/val/jerry_seinfeld/httpcdncdnjustjaredcomwpcontentuploadsheadlinesjerryseinfeldmakesbrianwilliamsjokejpg.jpg  \n",
            "  inflating: 14-celebrity-faces-dataset/data/val/jerry_seinfeld/httpcdnssninsidercomwpcontentuploadsjerryseinfeldxjpg.jpg  \n",
            "  inflating: 14-celebrity-faces-dataset/data/val/kate_beckinsale/800px-Kate_Beckinsale_Comicpalooza_2016_(27763692855).jpg  \n",
            "  inflating: 14-celebrity-faces-dataset/data/val/kate_beckinsale/800px-VanHelsingComicCon2003.jpg  \n",
            "  inflating: 14-celebrity-faces-dataset/data/val/kate_beckinsale/Comicconkate.jpg  \n",
            "  inflating: 14-celebrity-faces-dataset/data/val/kate_beckinsale/Kate_Beckinsale_(square).jpg  \n",
            "  inflating: 14-celebrity-faces-dataset/data/val/keanu_reeves/429px-Man_of_Tai_Chi_05_(9780436676).jpg  \n",
            "  inflating: 14-celebrity-faces-dataset/data/val/keanu_reeves/500px-Keanu68.jpg  \n",
            "  inflating: 14-celebrity-faces-dataset/data/val/keanu_reeves/508px-Gee_Malik_Linton_directing_Keanu_Reeves_on_the_set_of_Exposed_--_2014.jpg  \n",
            "  inflating: 14-celebrity-faces-dataset/data/val/keanu_reeves/509px-Keanu_Reeves_at_S├гo_Paulo,_Brazil_--_2019-04-03_(cropped).jpg  \n",
            "  inflating: 14-celebrity-faces-dataset/data/val/keanu_reeves/549px-Keanu_Reeves_(Berlin_Film_Festival_2009)_2.jpg  \n",
            "  inflating: 14-celebrity-faces-dataset/data/val/lauren_cohan/800px-Lauren_Cohan_(5809366971) (1).jpg  \n",
            "  inflating: 14-celebrity-faces-dataset/data/val/lauren_cohan/800px-Lauren_Cohan_Jeffrey_Dean_Morgan.jpg  \n",
            "  inflating: 14-celebrity-faces-dataset/data/val/lauren_cohan/800px-Lauren_Cohan_True_Blood_Party.jpg  \n",
            "  inflating: 14-celebrity-faces-dataset/data/val/lauren_cohan/Lauren_Cohan_(28576204575).jpg  \n",
            "  inflating: 14-celebrity-faces-dataset/data/val/madonna/httpassetsrollingstonecomassetsarticlemadonnadavidbowiechangedthecourseofmylifeforeversmallsquarexmadonnabowiejpg.jpg  \n",
            "  inflating: 14-celebrity-faces-dataset/data/val/madonna/httpassetsrollingstonecomassetsimagesalbumreviewaffaceabdcccaeedjpg.jpg  \n",
            "  inflating: 14-celebrity-faces-dataset/data/val/madonna/httpcdncdnjustjaredcomwpcontentuploadsheadlinesmadonnatalksparisattackstearsjpg.jpg  \n",
            "  inflating: 14-celebrity-faces-dataset/data/val/madonna/httpcdnfuncheapcomwpcontentuploadsVOGUEjpg.jpg  \n",
            "  inflating: 14-celebrity-faces-dataset/data/val/madonna/httpecximagesamazoncomimagesIfmaBKWLACULSRjpg.jpg  \n",
            "  inflating: 14-celebrity-faces-dataset/data/val/mindy_kaling/httpafilesbiographycomimageuploadcfillcssrgbdprgfacehqwMTIOTcwODQNTUzNjQMzcjpg.jpg  \n",
            "  inflating: 14-celebrity-faces-dataset/data/val/mindy_kaling/httpcdncdnjustjaredcomwpcontentuploadsheadlinesmindykalingcomedypilotjpg.jpg  \n",
            "  inflating: 14-celebrity-faces-dataset/data/val/mindy_kaling/httpcdnpastemagazinecomwwwarticlesmindykalingndbookjpg.jpg  \n",
            "  inflating: 14-celebrity-faces-dataset/data/val/mindy_kaling/httpcdnpastemagazinecomwwwarticlesmindyprojectjpg.jpg  \n",
            "  inflating: 14-celebrity-faces-dataset/data/val/mindy_kaling/httpdbrbzkkbdsdcloudfrontnetwpcontentuploadsMindyKalingjpg.jpg  \n",
            "  inflating: 14-celebrity-faces-dataset/data/val/simon_pegg/491px-Simon_Pegg_SXSW_2,_2011.jpg  \n",
            "  inflating: 14-celebrity-faces-dataset/data/val/simon_pegg/800px-Simon_Pegg_at_Comic-Con_2013.jpg  \n",
            "  inflating: 14-celebrity-faces-dataset/data/val/simon_pegg/Simon_Pegg_Premiere_of_Kill_Me_Three_Times_(cropped).jpg  \n",
            "  inflating: 14-celebrity-faces-dataset/data/val/simon_pegg/Star_Trek_Beyond_Japan_Premiere_Red_Carpet-_Simon_Pegg_(31349033753).jpg  \n",
            "  inflating: 14-celebrity-faces-dataset/data/val/simon_pegg/Star_Trek_Beyond_Japan_Premiere_Red_Carpet-_Simon_Pegg_(32039668721).jpg  \n",
            "  inflating: 14-celebrity-faces-dataset/data/val/sofia_vergara/399px-Sof├нa_Vergara_2_May_2014.jpg  \n",
            "  inflating: 14-celebrity-faces-dataset/data/val/sofia_vergara/450px-Julie_Moran_and_Sof├нa_Vergara_(4127946289).jpg  \n",
            "  inflating: 14-celebrity-faces-dataset/data/val/sofia_vergara/450px-Sof├нa_Vergara_2010_(4853382275).jpg  \n",
            "  inflating: 14-celebrity-faces-dataset/data/val/sofia_vergara/Peabody Awards.jpg  \n",
            "  inflating: 14-celebrity-faces-dataset/data/val/sofia_vergara/Sofia_Vergara_2011_cropped.jpg  \n",
            "  inflating: 14-celebrity-faces-dataset/data/val/sofia_vergara/Sof├нa_Vergara_(cropped).jpg  \n",
            "  inflating: 14-celebrity-faces-dataset/data/val/will_smith/434px-Will_Smith_(32335923807).jpg  \n",
            "  inflating: 14-celebrity-faces-dataset/data/val/will_smith/800px-Bright_Japan_Premiere_Red_Carpet-_Will_Smith,_Noomi_Rapace_&_Joel_Edgerton_(39493128862).jpg  \n",
            "  inflating: 14-celebrity-faces-dataset/data/val/will_smith/800px-Will_Smith_(35974036692).jpg  \n",
            "  inflating: 14-celebrity-faces-dataset/data/val/will_smith/Alan Light.jpg  \n",
            "  inflating: 14-celebrity-faces-dataset/data/val/will_smith/Time_100_Will_Smith_c.jpg  \n",
            "  inflating: 14-celebrity-faces-dataset/photo_credits.txt  \n"
          ]
        }
      ]
    },
    {
      "cell_type": "code",
      "source": [
        "# Transformations\n",
        "# transform = transforms.Compose([transforms.ToTensor(), transforms.Normalize((0.5,), (0.5,))])\n",
        "if configs[\"data_augmentation\"]:\n",
        "  transform = transforms.Compose([\n",
        "      transforms.RandomHorizontalFlip(0.5),\n",
        "      transforms.Resize(224),       # Resize the image to 224x224 pixels while maintaining aspect ratio\n",
        "      transforms.RandomCrop(224),\n",
        "      transforms.RandomRotation(45),\n",
        "      transforms.ColorJitter(),\n",
        "      transforms.ToTensor(),               # Convert the image to a PyTorch tensor\n",
        "      transforms.Normalize(mean=[0.485, 0.456, 0.406],  # Normalize the tensor using the mean and\n",
        "                      std=[0.229, 0.224, 0.225])       # standard deviation of the ImageNet dataset\n",
        "  ])\n",
        "else:\n",
        "  transform = transforms.Compose([\n",
        "      transforms.Resize(224),       # Resize the image to 224x224 pixels while maintaining aspect ratio\n",
        "      transforms.CenterCrop(224),\n",
        "      transforms.ToTensor(),               # Convert the image to a PyTorch tensor\n",
        "      transforms.Normalize(mean=[0.485, 0.456, 0.406],  # Normalize the tensor using the mean and\n",
        "                      std=[0.229, 0.224, 0.225])       # standard deviation of the ImageNet dataset\n",
        "  ])\n",
        "\n",
        "\n",
        "import torchvision\n",
        "train_dataset = torchvision.datasets.ImageFolder(\"/content/14-celebrity-faces-dataset/data/train\", transform=transform)\n",
        "train_dataset, val_dataset = random_split(train_dataset, [0.8, 0.2])\n",
        "\n",
        "test_dataset = torchvision.datasets.ImageFolder(\"/content/14-celebrity-faces-dataset/data/val\", transform=transform)\n",
        "\n",
        "# Data loaders\n",
        "train_loader = DataLoader(dataset=train_dataset, batch_size=configs[\"batch_size\"], shuffle=True)\n",
        "val_loader = DataLoader(dataset=val_dataset, batch_size=configs[\"batch_size\"], shuffle=False)\n",
        "test_loader = DataLoader(dataset=test_dataset, batch_size=configs[\"batch_size\"], shuffle=False)"
      ],
      "metadata": {
        "id": "wTgFHFDMJTe5"
      },
      "execution_count": 9,
      "outputs": []
    },
    {
      "cell_type": "markdown",
      "source": [
        "## Define and create your model"
      ],
      "metadata": {
        "id": "O43tOiHANfHC"
      }
    },
    {
      "cell_type": "code",
      "source": [
        "# MLP model\n",
        "class CNN(nn.Module):\n",
        "    def __init__(self, output_size):\n",
        "        super(CNN, self).__init__()\n",
        "        self.model = nn.Sequential(\n",
        "            torch.nn.Conv2d(configs[\"img_dimensions\"][0], configs[\"filter_sizes\"][0], configs[\"kernel_size\"], stride=configs[\"stride\"], padding=configs[\"padding\"]),\n",
        "            torch.nn.ReLU(),\n",
        "            torch.nn.Conv2d(configs[\"filter_sizes\"][0], configs[\"filter_sizes\"][1], configs[\"kernel_size\"], stride=configs[\"stride\"], padding=configs[\"padding\"]),\n",
        "            torch.nn.MaxPool2d(2),\n",
        "            nn.Flatten(),\n",
        "            nn.Linear(72, output_size) # We can determine the 72 here by doing calculations offline or looking at the error.\n",
        "        )\n",
        "\n",
        "    # Defines the forward pass.\n",
        "    def forward(self, x):\n",
        "        x = x.view(-1, configs[\"img_dimensions\"][0], configs[\"img_dimensions\"][1], configs[\"img_dimensions\"][2])\n",
        "        return self.model(x)\n"
      ],
      "metadata": {
        "id": "dVLVk-DmJVFc"
      },
      "execution_count": 10,
      "outputs": []
    },
    {
      "cell_type": "markdown",
      "source": [
        "Create the model"
      ],
      "metadata": {
        "id": "R9N6B87Y4pO1"
      }
    },
    {
      "cell_type": "code",
      "source": [
        "import torchvision.models as models\n",
        "\n",
        "if configs[\"transferlearning\"]:\n",
        "  # Load a pre-trained ResNet-18 model\n",
        "  if not configs[\"efficientnet\"]:\n",
        "    model = models.resnet18(pretrained=configs[\"pretrained\"])\n",
        "  else:\n",
        "    model = torch.hub.load(\"pytorch/vision\", \"efficientnet_b2\", weights=\"EfficientNet_B2_Weights.IMAGENET1K_V1\")\n",
        "else:\n",
        "  model = CNN(configs[\"num_classes\"])\n",
        "\n",
        "if gpu_available and use_gpu:\n",
        "  model = model.cuda()\n"
      ],
      "metadata": {
        "id": "eRrS3D6gJVHx",
        "colab": {
          "base_uri": "https://localhost:8080/"
        },
        "outputId": "356feb1c-ca59-4803-e83f-5982e30c5dd1"
      },
      "execution_count": 37,
      "outputs": [
        {
          "output_type": "stream",
          "name": "stderr",
          "text": [
            "/usr/local/lib/python3.10/dist-packages/torchvision/models/_utils.py:208: UserWarning: The parameter 'pretrained' is deprecated since 0.13 and may be removed in the future, please use 'weights' instead.\n",
            "  warnings.warn(\n",
            "/usr/local/lib/python3.10/dist-packages/torchvision/models/_utils.py:223: UserWarning: Arguments other than a weight enum or `None` for 'weights' are deprecated since 0.13 and may be removed in the future. The current behavior is equivalent to passing `weights=None`.\n",
            "  warnings.warn(msg)\n"
          ]
        }
      ]
    },
    {
      "cell_type": "code",
      "source": [
        "print(model)"
      ],
      "metadata": {
        "id": "Pc2kqfSdfUaq",
        "colab": {
          "base_uri": "https://localhost:8080/"
        },
        "outputId": "ef369b3a-5d25-48c0-97e3-580ec1dd7a07"
      },
      "execution_count": 27,
      "outputs": [
        {
          "output_type": "stream",
          "name": "stdout",
          "text": [
            "ResNet(\n",
            "  (conv1): Conv2d(3, 64, kernel_size=(7, 7), stride=(2, 2), padding=(3, 3), bias=False)\n",
            "  (bn1): BatchNorm2d(64, eps=1e-05, momentum=0.1, affine=True, track_running_stats=True)\n",
            "  (relu): ReLU(inplace=True)\n",
            "  (maxpool): MaxPool2d(kernel_size=3, stride=2, padding=1, dilation=1, ceil_mode=False)\n",
            "  (layer1): Sequential(\n",
            "    (0): BasicBlock(\n",
            "      (conv1): Conv2d(64, 64, kernel_size=(3, 3), stride=(1, 1), padding=(1, 1), bias=False)\n",
            "      (bn1): BatchNorm2d(64, eps=1e-05, momentum=0.1, affine=True, track_running_stats=True)\n",
            "      (relu): ReLU(inplace=True)\n",
            "      (conv2): Conv2d(64, 64, kernel_size=(3, 3), stride=(1, 1), padding=(1, 1), bias=False)\n",
            "      (bn2): BatchNorm2d(64, eps=1e-05, momentum=0.1, affine=True, track_running_stats=True)\n",
            "    )\n",
            "    (1): BasicBlock(\n",
            "      (conv1): Conv2d(64, 64, kernel_size=(3, 3), stride=(1, 1), padding=(1, 1), bias=False)\n",
            "      (bn1): BatchNorm2d(64, eps=1e-05, momentum=0.1, affine=True, track_running_stats=True)\n",
            "      (relu): ReLU(inplace=True)\n",
            "      (conv2): Conv2d(64, 64, kernel_size=(3, 3), stride=(1, 1), padding=(1, 1), bias=False)\n",
            "      (bn2): BatchNorm2d(64, eps=1e-05, momentum=0.1, affine=True, track_running_stats=True)\n",
            "    )\n",
            "  )\n",
            "  (layer2): Sequential(\n",
            "    (0): BasicBlock(\n",
            "      (conv1): Conv2d(64, 128, kernel_size=(3, 3), stride=(2, 2), padding=(1, 1), bias=False)\n",
            "      (bn1): BatchNorm2d(128, eps=1e-05, momentum=0.1, affine=True, track_running_stats=True)\n",
            "      (relu): ReLU(inplace=True)\n",
            "      (conv2): Conv2d(128, 128, kernel_size=(3, 3), stride=(1, 1), padding=(1, 1), bias=False)\n",
            "      (bn2): BatchNorm2d(128, eps=1e-05, momentum=0.1, affine=True, track_running_stats=True)\n",
            "      (downsample): Sequential(\n",
            "        (0): Conv2d(64, 128, kernel_size=(1, 1), stride=(2, 2), bias=False)\n",
            "        (1): BatchNorm2d(128, eps=1e-05, momentum=0.1, affine=True, track_running_stats=True)\n",
            "      )\n",
            "    )\n",
            "    (1): BasicBlock(\n",
            "      (conv1): Conv2d(128, 128, kernel_size=(3, 3), stride=(1, 1), padding=(1, 1), bias=False)\n",
            "      (bn1): BatchNorm2d(128, eps=1e-05, momentum=0.1, affine=True, track_running_stats=True)\n",
            "      (relu): ReLU(inplace=True)\n",
            "      (conv2): Conv2d(128, 128, kernel_size=(3, 3), stride=(1, 1), padding=(1, 1), bias=False)\n",
            "      (bn2): BatchNorm2d(128, eps=1e-05, momentum=0.1, affine=True, track_running_stats=True)\n",
            "    )\n",
            "  )\n",
            "  (layer3): Sequential(\n",
            "    (0): BasicBlock(\n",
            "      (conv1): Conv2d(128, 256, kernel_size=(3, 3), stride=(2, 2), padding=(1, 1), bias=False)\n",
            "      (bn1): BatchNorm2d(256, eps=1e-05, momentum=0.1, affine=True, track_running_stats=True)\n",
            "      (relu): ReLU(inplace=True)\n",
            "      (conv2): Conv2d(256, 256, kernel_size=(3, 3), stride=(1, 1), padding=(1, 1), bias=False)\n",
            "      (bn2): BatchNorm2d(256, eps=1e-05, momentum=0.1, affine=True, track_running_stats=True)\n",
            "      (downsample): Sequential(\n",
            "        (0): Conv2d(128, 256, kernel_size=(1, 1), stride=(2, 2), bias=False)\n",
            "        (1): BatchNorm2d(256, eps=1e-05, momentum=0.1, affine=True, track_running_stats=True)\n",
            "      )\n",
            "    )\n",
            "    (1): BasicBlock(\n",
            "      (conv1): Conv2d(256, 256, kernel_size=(3, 3), stride=(1, 1), padding=(1, 1), bias=False)\n",
            "      (bn1): BatchNorm2d(256, eps=1e-05, momentum=0.1, affine=True, track_running_stats=True)\n",
            "      (relu): ReLU(inplace=True)\n",
            "      (conv2): Conv2d(256, 256, kernel_size=(3, 3), stride=(1, 1), padding=(1, 1), bias=False)\n",
            "      (bn2): BatchNorm2d(256, eps=1e-05, momentum=0.1, affine=True, track_running_stats=True)\n",
            "    )\n",
            "  )\n",
            "  (layer4): Sequential(\n",
            "    (0): BasicBlock(\n",
            "      (conv1): Conv2d(256, 512, kernel_size=(3, 3), stride=(2, 2), padding=(1, 1), bias=False)\n",
            "      (bn1): BatchNorm2d(512, eps=1e-05, momentum=0.1, affine=True, track_running_stats=True)\n",
            "      (relu): ReLU(inplace=True)\n",
            "      (conv2): Conv2d(512, 512, kernel_size=(3, 3), stride=(1, 1), padding=(1, 1), bias=False)\n",
            "      (bn2): BatchNorm2d(512, eps=1e-05, momentum=0.1, affine=True, track_running_stats=True)\n",
            "      (downsample): Sequential(\n",
            "        (0): Conv2d(256, 512, kernel_size=(1, 1), stride=(2, 2), bias=False)\n",
            "        (1): BatchNorm2d(512, eps=1e-05, momentum=0.1, affine=True, track_running_stats=True)\n",
            "      )\n",
            "    )\n",
            "    (1): BasicBlock(\n",
            "      (conv1): Conv2d(512, 512, kernel_size=(3, 3), stride=(1, 1), padding=(1, 1), bias=False)\n",
            "      (bn1): BatchNorm2d(512, eps=1e-05, momentum=0.1, affine=True, track_running_stats=True)\n",
            "      (relu): ReLU(inplace=True)\n",
            "      (conv2): Conv2d(512, 512, kernel_size=(3, 3), stride=(1, 1), padding=(1, 1), bias=False)\n",
            "      (bn2): BatchNorm2d(512, eps=1e-05, momentum=0.1, affine=True, track_running_stats=True)\n",
            "    )\n",
            "  )\n",
            "  (avgpool): AdaptiveAvgPool2d(output_size=(1, 1))\n",
            "  (fc): Linear(in_features=512, out_features=1000, bias=True)\n",
            ")\n"
          ]
        }
      ]
    },
    {
      "cell_type": "markdown",
      "source": [
        "Replace the last layer(s)"
      ],
      "metadata": {
        "id": "JaGghG3Ozi6t"
      }
    },
    {
      "cell_type": "code",
      "source": [
        "if configs[\"transferlearning\"]:\n",
        "  if configs[\"efficientnet\"]:\n",
        "    model.classifier[1] = torch.nn.Sequential(torch.nn.Linear(1408, 100), torch.nn.ReLU(), torch.nn.Linear(100, configs[\"num_classes\"]))\n",
        "  else:\n",
        "    model.fc = torch.nn.Sequential(torch.nn.Linear(512, 100), torch.nn.ReLU(), torch.nn.Linear(100, configs[\"num_classes\"]))\n",
        "model"
      ],
      "metadata": {
        "id": "Cf7mJ4PCf9bq",
        "colab": {
          "base_uri": "https://localhost:8080/"
        },
        "outputId": "d8b04266-679f-4991-f4cf-d86cf72c5114"
      },
      "execution_count": 38,
      "outputs": [
        {
          "output_type": "execute_result",
          "data": {
            "text/plain": [
              "ResNet(\n",
              "  (conv1): Conv2d(3, 64, kernel_size=(7, 7), stride=(2, 2), padding=(3, 3), bias=False)\n",
              "  (bn1): BatchNorm2d(64, eps=1e-05, momentum=0.1, affine=True, track_running_stats=True)\n",
              "  (relu): ReLU(inplace=True)\n",
              "  (maxpool): MaxPool2d(kernel_size=3, stride=2, padding=1, dilation=1, ceil_mode=False)\n",
              "  (layer1): Sequential(\n",
              "    (0): BasicBlock(\n",
              "      (conv1): Conv2d(64, 64, kernel_size=(3, 3), stride=(1, 1), padding=(1, 1), bias=False)\n",
              "      (bn1): BatchNorm2d(64, eps=1e-05, momentum=0.1, affine=True, track_running_stats=True)\n",
              "      (relu): ReLU(inplace=True)\n",
              "      (conv2): Conv2d(64, 64, kernel_size=(3, 3), stride=(1, 1), padding=(1, 1), bias=False)\n",
              "      (bn2): BatchNorm2d(64, eps=1e-05, momentum=0.1, affine=True, track_running_stats=True)\n",
              "    )\n",
              "    (1): BasicBlock(\n",
              "      (conv1): Conv2d(64, 64, kernel_size=(3, 3), stride=(1, 1), padding=(1, 1), bias=False)\n",
              "      (bn1): BatchNorm2d(64, eps=1e-05, momentum=0.1, affine=True, track_running_stats=True)\n",
              "      (relu): ReLU(inplace=True)\n",
              "      (conv2): Conv2d(64, 64, kernel_size=(3, 3), stride=(1, 1), padding=(1, 1), bias=False)\n",
              "      (bn2): BatchNorm2d(64, eps=1e-05, momentum=0.1, affine=True, track_running_stats=True)\n",
              "    )\n",
              "  )\n",
              "  (layer2): Sequential(\n",
              "    (0): BasicBlock(\n",
              "      (conv1): Conv2d(64, 128, kernel_size=(3, 3), stride=(2, 2), padding=(1, 1), bias=False)\n",
              "      (bn1): BatchNorm2d(128, eps=1e-05, momentum=0.1, affine=True, track_running_stats=True)\n",
              "      (relu): ReLU(inplace=True)\n",
              "      (conv2): Conv2d(128, 128, kernel_size=(3, 3), stride=(1, 1), padding=(1, 1), bias=False)\n",
              "      (bn2): BatchNorm2d(128, eps=1e-05, momentum=0.1, affine=True, track_running_stats=True)\n",
              "      (downsample): Sequential(\n",
              "        (0): Conv2d(64, 128, kernel_size=(1, 1), stride=(2, 2), bias=False)\n",
              "        (1): BatchNorm2d(128, eps=1e-05, momentum=0.1, affine=True, track_running_stats=True)\n",
              "      )\n",
              "    )\n",
              "    (1): BasicBlock(\n",
              "      (conv1): Conv2d(128, 128, kernel_size=(3, 3), stride=(1, 1), padding=(1, 1), bias=False)\n",
              "      (bn1): BatchNorm2d(128, eps=1e-05, momentum=0.1, affine=True, track_running_stats=True)\n",
              "      (relu): ReLU(inplace=True)\n",
              "      (conv2): Conv2d(128, 128, kernel_size=(3, 3), stride=(1, 1), padding=(1, 1), bias=False)\n",
              "      (bn2): BatchNorm2d(128, eps=1e-05, momentum=0.1, affine=True, track_running_stats=True)\n",
              "    )\n",
              "  )\n",
              "  (layer3): Sequential(\n",
              "    (0): BasicBlock(\n",
              "      (conv1): Conv2d(128, 256, kernel_size=(3, 3), stride=(2, 2), padding=(1, 1), bias=False)\n",
              "      (bn1): BatchNorm2d(256, eps=1e-05, momentum=0.1, affine=True, track_running_stats=True)\n",
              "      (relu): ReLU(inplace=True)\n",
              "      (conv2): Conv2d(256, 256, kernel_size=(3, 3), stride=(1, 1), padding=(1, 1), bias=False)\n",
              "      (bn2): BatchNorm2d(256, eps=1e-05, momentum=0.1, affine=True, track_running_stats=True)\n",
              "      (downsample): Sequential(\n",
              "        (0): Conv2d(128, 256, kernel_size=(1, 1), stride=(2, 2), bias=False)\n",
              "        (1): BatchNorm2d(256, eps=1e-05, momentum=0.1, affine=True, track_running_stats=True)\n",
              "      )\n",
              "    )\n",
              "    (1): BasicBlock(\n",
              "      (conv1): Conv2d(256, 256, kernel_size=(3, 3), stride=(1, 1), padding=(1, 1), bias=False)\n",
              "      (bn1): BatchNorm2d(256, eps=1e-05, momentum=0.1, affine=True, track_running_stats=True)\n",
              "      (relu): ReLU(inplace=True)\n",
              "      (conv2): Conv2d(256, 256, kernel_size=(3, 3), stride=(1, 1), padding=(1, 1), bias=False)\n",
              "      (bn2): BatchNorm2d(256, eps=1e-05, momentum=0.1, affine=True, track_running_stats=True)\n",
              "    )\n",
              "  )\n",
              "  (layer4): Sequential(\n",
              "    (0): BasicBlock(\n",
              "      (conv1): Conv2d(256, 512, kernel_size=(3, 3), stride=(2, 2), padding=(1, 1), bias=False)\n",
              "      (bn1): BatchNorm2d(512, eps=1e-05, momentum=0.1, affine=True, track_running_stats=True)\n",
              "      (relu): ReLU(inplace=True)\n",
              "      (conv2): Conv2d(512, 512, kernel_size=(3, 3), stride=(1, 1), padding=(1, 1), bias=False)\n",
              "      (bn2): BatchNorm2d(512, eps=1e-05, momentum=0.1, affine=True, track_running_stats=True)\n",
              "      (downsample): Sequential(\n",
              "        (0): Conv2d(256, 512, kernel_size=(1, 1), stride=(2, 2), bias=False)\n",
              "        (1): BatchNorm2d(512, eps=1e-05, momentum=0.1, affine=True, track_running_stats=True)\n",
              "      )\n",
              "    )\n",
              "    (1): BasicBlock(\n",
              "      (conv1): Conv2d(512, 512, kernel_size=(3, 3), stride=(1, 1), padding=(1, 1), bias=False)\n",
              "      (bn1): BatchNorm2d(512, eps=1e-05, momentum=0.1, affine=True, track_running_stats=True)\n",
              "      (relu): ReLU(inplace=True)\n",
              "      (conv2): Conv2d(512, 512, kernel_size=(3, 3), stride=(1, 1), padding=(1, 1), bias=False)\n",
              "      (bn2): BatchNorm2d(512, eps=1e-05, momentum=0.1, affine=True, track_running_stats=True)\n",
              "    )\n",
              "  )\n",
              "  (avgpool): AdaptiveAvgPool2d(output_size=(1, 1))\n",
              "  (fc): Sequential(\n",
              "    (0): Linear(in_features=512, out_features=100, bias=True)\n",
              "    (1): ReLU()\n",
              "    (2): Linear(in_features=100, out_features=14, bias=True)\n",
              "  )\n",
              ")"
            ]
          },
          "metadata": {},
          "execution_count": 38
        }
      ]
    },
    {
      "cell_type": "markdown",
      "source": [
        "Freeze other layers"
      ],
      "metadata": {
        "id": "k5SHByvJzlUx"
      }
    },
    {
      "cell_type": "code",
      "source": [
        "if configs[\"transferlearning\"]:\n",
        "  if configs[\"freeze_feature_extraction_layers\"]==True:\n",
        "    # Freeze all layers except the last fully connected layer\n",
        "    for param in model.parameters():\n",
        "        param.requires_grad = False\n",
        "\n",
        "    # Unfreeze the last fully connected layer\n",
        "    if configs[\"efficientnet\"]:\n",
        "      for param in model.classifier[1].parameters():\n",
        "          param.requires_grad = True\n",
        "    else:\n",
        "      for param in model.fc.parameters():\n",
        "          param.requires_grad = True"
      ],
      "metadata": {
        "id": "XjhF8ryLg8Ax"
      },
      "execution_count": 39,
      "outputs": []
    },
    {
      "cell_type": "markdown",
      "source": [
        "use `torch-summary` for more info on the model"
      ],
      "metadata": {
        "id": "_73Cq5Cf7-wv"
      }
    },
    {
      "cell_type": "code",
      "source": [
        "!pip install torchinfo"
      ],
      "metadata": {
        "id": "HpDl2R-H8GGX",
        "colab": {
          "base_uri": "https://localhost:8080/"
        },
        "outputId": "5fbff392-945b-4dbb-907d-1513a323281b"
      },
      "execution_count": 15,
      "outputs": [
        {
          "output_type": "stream",
          "name": "stdout",
          "text": [
            "Collecting torchinfo\n",
            "  Downloading torchinfo-1.8.0-py3-none-any.whl (23 kB)\n",
            "Installing collected packages: torchinfo\n",
            "Successfully installed torchinfo-1.8.0\n"
          ]
        }
      ]
    },
    {
      "cell_type": "code",
      "source": [
        "from torchinfo import summary\n",
        "\n",
        "summary(model, (1, 3, 224, 224))"
      ],
      "metadata": {
        "id": "-ZOWbjKT7-4J",
        "colab": {
          "base_uri": "https://localhost:8080/"
        },
        "outputId": "c1193a1c-3a79-44c7-cd5b-613effb3957a"
      },
      "execution_count": 16,
      "outputs": [
        {
          "output_type": "execute_result",
          "data": {
            "text/plain": [
              "==========================================================================================\n",
              "Layer (type:depth-idx)                   Output Shape              Param #\n",
              "==========================================================================================\n",
              "ResNet                                   [1, 14]                   --\n",
              "├─Conv2d: 1-1                            [1, 64, 112, 112]         (9,408)\n",
              "├─BatchNorm2d: 1-2                       [1, 64, 112, 112]         (128)\n",
              "├─ReLU: 1-3                              [1, 64, 112, 112]         --\n",
              "├─MaxPool2d: 1-4                         [1, 64, 56, 56]           --\n",
              "├─Sequential: 1-5                        [1, 64, 56, 56]           --\n",
              "│    └─BasicBlock: 2-1                   [1, 64, 56, 56]           --\n",
              "│    │    └─Conv2d: 3-1                  [1, 64, 56, 56]           (36,864)\n",
              "│    │    └─BatchNorm2d: 3-2             [1, 64, 56, 56]           (128)\n",
              "│    │    └─ReLU: 3-3                    [1, 64, 56, 56]           --\n",
              "│    │    └─Conv2d: 3-4                  [1, 64, 56, 56]           (36,864)\n",
              "│    │    └─BatchNorm2d: 3-5             [1, 64, 56, 56]           (128)\n",
              "│    │    └─ReLU: 3-6                    [1, 64, 56, 56]           --\n",
              "│    └─BasicBlock: 2-2                   [1, 64, 56, 56]           --\n",
              "│    │    └─Conv2d: 3-7                  [1, 64, 56, 56]           (36,864)\n",
              "│    │    └─BatchNorm2d: 3-8             [1, 64, 56, 56]           (128)\n",
              "│    │    └─ReLU: 3-9                    [1, 64, 56, 56]           --\n",
              "│    │    └─Conv2d: 3-10                 [1, 64, 56, 56]           (36,864)\n",
              "│    │    └─BatchNorm2d: 3-11            [1, 64, 56, 56]           (128)\n",
              "│    │    └─ReLU: 3-12                   [1, 64, 56, 56]           --\n",
              "├─Sequential: 1-6                        [1, 128, 28, 28]          --\n",
              "│    └─BasicBlock: 2-3                   [1, 128, 28, 28]          --\n",
              "│    │    └─Conv2d: 3-13                 [1, 128, 28, 28]          (73,728)\n",
              "│    │    └─BatchNorm2d: 3-14            [1, 128, 28, 28]          (256)\n",
              "│    │    └─ReLU: 3-15                   [1, 128, 28, 28]          --\n",
              "│    │    └─Conv2d: 3-16                 [1, 128, 28, 28]          (147,456)\n",
              "│    │    └─BatchNorm2d: 3-17            [1, 128, 28, 28]          (256)\n",
              "│    │    └─Sequential: 3-18             [1, 128, 28, 28]          (8,448)\n",
              "│    │    └─ReLU: 3-19                   [1, 128, 28, 28]          --\n",
              "│    └─BasicBlock: 2-4                   [1, 128, 28, 28]          --\n",
              "│    │    └─Conv2d: 3-20                 [1, 128, 28, 28]          (147,456)\n",
              "│    │    └─BatchNorm2d: 3-21            [1, 128, 28, 28]          (256)\n",
              "│    │    └─ReLU: 3-22                   [1, 128, 28, 28]          --\n",
              "│    │    └─Conv2d: 3-23                 [1, 128, 28, 28]          (147,456)\n",
              "│    │    └─BatchNorm2d: 3-24            [1, 128, 28, 28]          (256)\n",
              "│    │    └─ReLU: 3-25                   [1, 128, 28, 28]          --\n",
              "├─Sequential: 1-7                        [1, 256, 14, 14]          --\n",
              "│    └─BasicBlock: 2-5                   [1, 256, 14, 14]          --\n",
              "│    │    └─Conv2d: 3-26                 [1, 256, 14, 14]          (294,912)\n",
              "│    │    └─BatchNorm2d: 3-27            [1, 256, 14, 14]          (512)\n",
              "│    │    └─ReLU: 3-28                   [1, 256, 14, 14]          --\n",
              "│    │    └─Conv2d: 3-29                 [1, 256, 14, 14]          (589,824)\n",
              "│    │    └─BatchNorm2d: 3-30            [1, 256, 14, 14]          (512)\n",
              "│    │    └─Sequential: 3-31             [1, 256, 14, 14]          (33,280)\n",
              "│    │    └─ReLU: 3-32                   [1, 256, 14, 14]          --\n",
              "│    └─BasicBlock: 2-6                   [1, 256, 14, 14]          --\n",
              "│    │    └─Conv2d: 3-33                 [1, 256, 14, 14]          (589,824)\n",
              "│    │    └─BatchNorm2d: 3-34            [1, 256, 14, 14]          (512)\n",
              "│    │    └─ReLU: 3-35                   [1, 256, 14, 14]          --\n",
              "│    │    └─Conv2d: 3-36                 [1, 256, 14, 14]          (589,824)\n",
              "│    │    └─BatchNorm2d: 3-37            [1, 256, 14, 14]          (512)\n",
              "│    │    └─ReLU: 3-38                   [1, 256, 14, 14]          --\n",
              "├─Sequential: 1-8                        [1, 512, 7, 7]            --\n",
              "│    └─BasicBlock: 2-7                   [1, 512, 7, 7]            --\n",
              "│    │    └─Conv2d: 3-39                 [1, 512, 7, 7]            (1,179,648)\n",
              "│    │    └─BatchNorm2d: 3-40            [1, 512, 7, 7]            (1,024)\n",
              "│    │    └─ReLU: 3-41                   [1, 512, 7, 7]            --\n",
              "│    │    └─Conv2d: 3-42                 [1, 512, 7, 7]            (2,359,296)\n",
              "│    │    └─BatchNorm2d: 3-43            [1, 512, 7, 7]            (1,024)\n",
              "│    │    └─Sequential: 3-44             [1, 512, 7, 7]            (132,096)\n",
              "│    │    └─ReLU: 3-45                   [1, 512, 7, 7]            --\n",
              "│    └─BasicBlock: 2-8                   [1, 512, 7, 7]            --\n",
              "│    │    └─Conv2d: 3-46                 [1, 512, 7, 7]            (2,359,296)\n",
              "│    │    └─BatchNorm2d: 3-47            [1, 512, 7, 7]            (1,024)\n",
              "│    │    └─ReLU: 3-48                   [1, 512, 7, 7]            --\n",
              "│    │    └─Conv2d: 3-49                 [1, 512, 7, 7]            (2,359,296)\n",
              "│    │    └─BatchNorm2d: 3-50            [1, 512, 7, 7]            (1,024)\n",
              "│    │    └─ReLU: 3-51                   [1, 512, 7, 7]            --\n",
              "├─AdaptiveAvgPool2d: 1-9                 [1, 512, 1, 1]            --\n",
              "├─Sequential: 1-10                       [1, 14]                   --\n",
              "│    └─Linear: 2-9                       [1, 100]                  51,300\n",
              "│    └─ReLU: 2-10                        [1, 100]                  --\n",
              "│    └─Linear: 2-11                      [1, 14]                   1,414\n",
              "==========================================================================================\n",
              "Total params: 11,229,226\n",
              "Trainable params: 52,714\n",
              "Non-trainable params: 11,176,512\n",
              "Total mult-adds (G): 1.81\n",
              "==========================================================================================\n",
              "Input size (MB): 0.60\n",
              "Forward/backward pass size (MB): 39.74\n",
              "Params size (MB): 44.92\n",
              "Estimated Total Size (MB): 85.26\n",
              "=========================================================================================="
            ]
          },
          "metadata": {},
          "execution_count": 16
        }
      ]
    },
    {
      "cell_type": "markdown",
      "source": [
        "## Loss\n",
        "\n",
        "For classification, we use cross-entropy."
      ],
      "metadata": {
        "id": "RiPIJNAaNirU"
      }
    },
    {
      "cell_type": "code",
      "source": [
        "criterion = nn.CrossEntropyLoss()"
      ],
      "metadata": {
        "id": "S4LHoaZaJXd1"
      },
      "execution_count": 40,
      "outputs": []
    },
    {
      "cell_type": "markdown",
      "source": [
        "##Optimizer"
      ],
      "metadata": {
        "id": "PtHuHVcSNjrg"
      }
    },
    {
      "cell_type": "code",
      "source": [
        "optimizer = optim.SGD(model.parameters(), momentum=0.9, lr=configs[\"learning_rate\"], weight_decay=configs[\"weight_decay\"])"
      ],
      "metadata": {
        "id": "HYtLekcnJYgt"
      },
      "execution_count": 41,
      "outputs": []
    },
    {
      "cell_type": "markdown",
      "source": [
        "## Training!"
      ],
      "metadata": {
        "id": "slsVWSc_Nk6N"
      }
    },
    {
      "cell_type": "code",
      "source": [
        "if enable_wandb:\n",
        "  wandb.init(\n",
        "    # Set the project where this run will be logged\n",
        "    project=\"Transfer Learning\",\n",
        "    # We pass a run name (otherwise it’ll be randomly assigned, like sunshine-lollypop-10)\n",
        "    name=configs[\"experiment_name\"],\n",
        "    # Track hyperparameters and run metadata\n",
        "    config=configs)"
      ],
      "metadata": {
        "id": "8MrmIuolgDFE",
        "colab": {
          "base_uri": "https://localhost:8080/",
          "height": 412,
          "referenced_widgets": [
            "7d4733e626194db6b125d2e596b47d6e",
            "e2fb2d7e54264e15ac31fb981177e83f",
            "32fc8098c8a94427ab036cf6ef23109f",
            "d3f340698412410984ebdc84c17ff6f8",
            "b79b702049b44dde9c768f9c5e6b1eff",
            "39e371002c834e0093d0d6fa357bb135",
            "23063af873b94cdd9904673fac9c340b",
            "0e86a4f245f4424cb23360c72306e223"
          ]
        },
        "outputId": "78ab2271-afe9-47b6-b0c7-c07775f9dd5e"
      },
      "execution_count": 42,
      "outputs": [
        {
          "output_type": "display_data",
          "data": {
            "text/plain": [
              "<IPython.core.display.HTML object>"
            ],
            "text/html": [
              "Finishing last run (ID:dio6hwuv) before initializing another..."
            ]
          },
          "metadata": {}
        },
        {
          "output_type": "display_data",
          "data": {
            "text/plain": [
              "VBox(children=(Label(value='0.001 MB of 0.011 MB uploaded\\r'), FloatProgress(value=0.10830722330425946, max=1.…"
            ],
            "application/vnd.jupyter.widget-view+json": {
              "version_major": 2,
              "version_minor": 0,
              "model_id": "7d4733e626194db6b125d2e596b47d6e"
            }
          },
          "metadata": {}
        },
        {
          "output_type": "display_data",
          "data": {
            "text/plain": [
              "<IPython.core.display.HTML object>"
            ],
            "text/html": [
              "<style>\n",
              "    table.wandb td:nth-child(1) { padding: 0 10px; text-align: left ; width: auto;} td:nth-child(2) {text-align: left ; width: 100%}\n",
              "    .wandb-row { display: flex; flex-direction: row; flex-wrap: wrap; justify-content: flex-start; width: 100% }\n",
              "    .wandb-col { display: flex; flex-direction: column; flex-basis: 100%; flex: 1; padding: 10px; }\n",
              "    </style>\n",
              "<div class=\"wandb-row\"><div class=\"wandb-col\"><h3>Run history:</h3><br/><table class=\"wandb\"><tr><td>epoch</td><td>▁▁▂▂▃▃▄▄▅▅▅▆▆▇▇██</td></tr><tr><td>loss</td><td>█▇▇▆▅▄▄▂▂▁▁▁▁▁▁▁▁</td></tr><tr><td>train_accuracy</td><td>▁▂▂▅▆▆▆▇█▇███████</td></tr><tr><td>val_accuracy</td><td>▁▃▁▄▄▄▅▅▇▆▇▄▆▅▇▇█</td></tr><tr><td>val_loss</td><td>▇█▇▅▄▂▂▅▂▁▂▄▃▃▃▂▁</td></tr></table><br/></div><div class=\"wandb-col\"><h3>Run summary:</h3><br/><table class=\"wandb\"><tr><td>epoch</td><td>17</td></tr><tr><td>loss</td><td>0.10343</td></tr><tr><td>train_accuracy</td><td>0.99432</td></tr><tr><td>val_accuracy</td><td>0.56818</td></tr><tr><td>val_loss</td><td>1.64308</td></tr></table><br/></div></div>"
            ]
          },
          "metadata": {}
        },
        {
          "output_type": "display_data",
          "data": {
            "text/plain": [
              "<IPython.core.display.HTML object>"
            ],
            "text/html": [
              " View run <strong style=\"color:#cdcd00\">not frozen</strong> at: <a href='https://wandb.ai/phylonn/Transfer%20Learning/runs/dio6hwuv' target=\"_blank\">https://wandb.ai/phylonn/Transfer%20Learning/runs/dio6hwuv</a><br/> View project at: <a href='https://wandb.ai/phylonn/Transfer%20Learning' target=\"_blank\">https://wandb.ai/phylonn/Transfer%20Learning</a><br/>Synced 5 W&B file(s), 0 media file(s), 0 artifact file(s) and 0 other file(s)"
            ]
          },
          "metadata": {}
        },
        {
          "output_type": "display_data",
          "data": {
            "text/plain": [
              "<IPython.core.display.HTML object>"
            ],
            "text/html": [
              "Find logs at: <code>./wandb/run-20240411_225500-dio6hwuv/logs</code>"
            ]
          },
          "metadata": {}
        },
        {
          "output_type": "display_data",
          "data": {
            "text/plain": [
              "<IPython.core.display.HTML object>"
            ],
            "text/html": [
              "Successfully finished last run (ID:dio6hwuv). Initializing new run:<br/>"
            ]
          },
          "metadata": {}
        },
        {
          "output_type": "display_data",
          "data": {
            "text/plain": [
              "<IPython.core.display.HTML object>"
            ],
            "text/html": [
              "Tracking run with wandb version 0.16.6"
            ]
          },
          "metadata": {}
        },
        {
          "output_type": "display_data",
          "data": {
            "text/plain": [
              "<IPython.core.display.HTML object>"
            ],
            "text/html": [
              "Run data is saved locally in <code>/content/wandb/run-20240411_225915-anxyr41z</code>"
            ]
          },
          "metadata": {}
        },
        {
          "output_type": "display_data",
          "data": {
            "text/plain": [
              "<IPython.core.display.HTML object>"
            ],
            "text/html": [
              "Syncing run <strong><a href='https://wandb.ai/phylonn/Transfer%20Learning/runs/anxyr41z' target=\"_blank\">not pretrained</a></strong> to <a href='https://wandb.ai/phylonn/Transfer%20Learning' target=\"_blank\">Weights & Biases</a> (<a href='https://wandb.me/run' target=\"_blank\">docs</a>)<br/>"
            ]
          },
          "metadata": {}
        },
        {
          "output_type": "display_data",
          "data": {
            "text/plain": [
              "<IPython.core.display.HTML object>"
            ],
            "text/html": [
              " View project at <a href='https://wandb.ai/phylonn/Transfer%20Learning' target=\"_blank\">https://wandb.ai/phylonn/Transfer%20Learning</a>"
            ]
          },
          "metadata": {}
        },
        {
          "output_type": "display_data",
          "data": {
            "text/plain": [
              "<IPython.core.display.HTML object>"
            ],
            "text/html": [
              " View run at <a href='https://wandb.ai/phylonn/Transfer%20Learning/runs/anxyr41z' target=\"_blank\">https://wandb.ai/phylonn/Transfer%20Learning/runs/anxyr41z</a>"
            ]
          },
          "metadata": {}
        }
      ]
    },
    {
      "cell_type": "markdown",
      "source": [
        "Define some functions to calculate training and test accuracies"
      ],
      "metadata": {
        "id": "hvVft-hIuObz"
      }
    },
    {
      "cell_type": "code",
      "source": [
        "## There is a package called torchmetrics that makes calculating accuracy easier.\n",
        "## Feel free to use it. However, here, I show the logic behind such calculations\n",
        "# !pip install -U torchmetrics\n",
        "# import torchmetrics\n",
        "\n",
        "def get_accuracy(dataloader, model):\n",
        "  acc = 0\n",
        "  # <OR>\n",
        "  # acc = torchmetrics.Accuracy()\n",
        "\n",
        "  with torch.no_grad():\n",
        "      for images, labels in dataloader:\n",
        "          if gpu_available and use_gpu:\n",
        "            images = images.cuda()\n",
        "            labels = labels.cuda()\n",
        "\n",
        "          outputs = model(images) # get predictions\n",
        "\n",
        "          # Update accuracy for this batch\n",
        "          acc = acc + torch.sum(torch.argmax(outputs, axis=1) == labels)\n",
        "          # <OR>\n",
        "          # acc.update(outputs, labels)\n",
        "\n",
        "\n",
        "      # Compute the accuracy\n",
        "      acc = acc/len(dataloader.dataset) # normalizes\n",
        "      # <OR>\n",
        "      # acc = acc.compute()\n",
        "\n",
        "      return acc\n",
        "\n"
      ],
      "metadata": {
        "id": "N-RG6HEnuOga"
      },
      "execution_count": 33,
      "outputs": []
    },
    {
      "cell_type": "code",
      "source": [
        "def get_loss(loader):\n",
        "  with torch.no_grad(): # Anything under torch.no_grad will be calculated with no gradients. Can only be used for testing, not training!\n",
        "\n",
        "    loss = 0\n",
        "    for i, (images, labels) in enumerate(loader): # The batches.\n",
        "          # step1: Move data to cuda. Make sure the model is on cuda too!\n",
        "          if gpu_available and use_gpu:\n",
        "            images = images.cuda()\n",
        "            labels = labels.cuda()\n",
        "\n",
        "          # step2: Forward pass\n",
        "          outputs = model(images)\n",
        "\n",
        "          # step 3: calculate the loss.\n",
        "          loss = loss + criterion(outputs, labels)\n",
        "    return loss/ len(loader)"
      ],
      "metadata": {
        "id": "EyMtSliNzyrJ"
      },
      "execution_count": 21,
      "outputs": []
    },
    {
      "cell_type": "markdown",
      "source": [
        "Early-stopping class"
      ],
      "metadata": {
        "id": "maJvkRGjy7Qi"
      }
    },
    {
      "cell_type": "code",
      "source": [
        "class EarlyStopper:\n",
        "    def __init__(self, patience=1):\n",
        "        self.patience = patience\n",
        "        self.counter = 0\n",
        "        self.min_validation_loss = float('inf')\n",
        "\n",
        "    def early_stop(self, validation_loss):\n",
        "        # If the new loss is lower than the old loss, reset the counter!\n",
        "        if validation_loss < self.min_validation_loss:\n",
        "            self.min_validation_loss = validation_loss\n",
        "            self.counter = 0\n",
        "            # Keep track of the best model by saving it on the hard drive.\n",
        "            torch.save(model.state_dict(), \"./best_model.pt\")\n",
        "        # otherwise, increment the counter.\n",
        "        elif validation_loss > self.min_validation_loss:\n",
        "            self.counter += 1\n",
        "            # If there has been too many epochs with the loss being high, terminate.\n",
        "            if self.counter >= self.patience:\n",
        "                return True\n",
        "        return False\n"
      ],
      "metadata": {
        "id": "ObOAcccny7Vk"
      },
      "execution_count": 22,
      "outputs": []
    },
    {
      "cell_type": "markdown",
      "source": [
        "Train!"
      ],
      "metadata": {
        "id": "pOwDP6qQuUMg"
      }
    },
    {
      "cell_type": "code",
      "source": [
        "if gpu_available and use_gpu:\n",
        "  model = model.cuda()"
      ],
      "metadata": {
        "id": "cD1LuMCxtCf-"
      },
      "execution_count": 43,
      "outputs": []
    },
    {
      "cell_type": "code",
      "source": [
        "early_stopper = EarlyStopper(patience=7)\n",
        "scheduler = torch.optim.lr_scheduler.ReduceLROnPlateau(optimizer, factor=0.3, patience=3)\n",
        "\n",
        "# Training loop\n",
        "for epoch in range(configs[\"epochs\"]): # The epochs.\n",
        "    for i, (images, labels) in enumerate(train_loader): # The batches.\n",
        "        # step 1: Zero out the gradients.\n",
        "        optimizer.zero_grad()\n",
        "\n",
        "        # step 1.1 move data to cuda. Make sure the model is on cuda too!\n",
        "        if gpu_available and use_gpu:\n",
        "          images = images.cuda()\n",
        "          labels = labels.cuda()\n",
        "\n",
        "        # step2: Forward pass\n",
        "        outputs = model(images)\n",
        "\n",
        "        # step 3: calculate the loss.\n",
        "        loss = criterion(outputs, labels)\n",
        "\n",
        "        # step 4: Backward pass\n",
        "        loss.backward()\n",
        "        optimizer.step()\n",
        "\n",
        "        # Print the loss\n",
        "        if i %100 == 0:\n",
        "          print(\"Epoch\", epoch+ 1, \" batch\", i+1, \". Training Loss: \", loss.item())\n",
        "          if enable_wandb:\n",
        "            wandb.log({\"loss\": loss})\n",
        "\n",
        "    # Compute total train accuracy\n",
        "    train_acc = get_accuracy(train_loader, model)\n",
        "    test_acc = get_accuracy(val_loader, model)\n",
        "\n",
        "    validation_loss = get_loss(val_loader)\n",
        "    wandb.log({\"val_loss\": validation_loss})\n",
        "\n",
        "    print(f'Epoch [{epoch + 1}/{configs[\"epochs\"]}], LR: {optimizer.param_groups[0][\"lr\"]}, Validation Loss: {validation_loss.item():.4f}, Train Accuracy: {train_acc.item():.4f}, Validation Accuracy: {test_acc.item():.4f}')\n",
        "    if enable_wandb:\n",
        "      wandb.log({\"epoch\": epoch + 1, \"LR\": {optimizer.param_groups[0]['lr']}, \"train_accuracy\": train_acc.item(), \"val_accuracy\": test_acc.item()})\n",
        "\n",
        "    scheduler.step(validation_loss)\n",
        "\n",
        "    if early_stopper.early_stop(validation_loss):\n",
        "        print(\"Validation loss hasn't dropped. Early stopping!\")\n",
        "        break\n",
        "\n"
      ],
      "metadata": {
        "id": "wNhVx_muJcfy",
        "colab": {
          "base_uri": "https://localhost:8080/"
        },
        "outputId": "5002b225-f9bc-4421-f668-ad21b1c5c312"
      },
      "execution_count": 44,
      "outputs": [
        {
          "output_type": "stream",
          "name": "stdout",
          "text": [
            "Epoch 1  batch 1 . Training Loss:  2.6304824352264404\n",
            "Epoch [1/70], LR: 0.01, Validation Loss: 2.6922, Train Accuracy: 0.1364, Validation Accuracy: 0.0909\n",
            "Epoch 2  batch 1 . Training Loss:  2.501993179321289\n",
            "Epoch [2/70], LR: 0.01, Validation Loss: 2.7652, Train Accuracy: 0.1136, Validation Accuracy: 0.0227\n",
            "Epoch 3  batch 1 . Training Loss:  2.552568197250366\n",
            "Epoch [3/70], LR: 0.01, Validation Loss: 2.8761, Train Accuracy: 0.1875, Validation Accuracy: 0.0455\n",
            "Epoch 4  batch 1 . Training Loss:  2.5104830265045166\n",
            "Epoch [4/70], LR: 0.01, Validation Loss: 2.8530, Train Accuracy: 0.1818, Validation Accuracy: 0.0909\n",
            "Epoch 5  batch 1 . Training Loss:  2.4537508487701416\n",
            "Epoch [5/70], LR: 0.01, Validation Loss: 2.8724, Train Accuracy: 0.1705, Validation Accuracy: 0.0455\n",
            "Epoch 6  batch 1 . Training Loss:  2.333998203277588\n",
            "Epoch [6/70], LR: 0.003, Validation Loss: 2.9025, Train Accuracy: 0.2045, Validation Accuracy: 0.0909\n",
            "Epoch 7  batch 1 . Training Loss:  2.4275131225585938\n",
            "Epoch [7/70], LR: 0.003, Validation Loss: 2.9320, Train Accuracy: 0.1705, Validation Accuracy: 0.0682\n",
            "Epoch 8  batch 1 . Training Loss:  2.2713398933410645\n",
            "Epoch [8/70], LR: 0.003, Validation Loss: 2.9283, Train Accuracy: 0.1932, Validation Accuracy: 0.0455\n",
            "Validation loss hasn't dropped. Early stopping!\n"
          ]
        }
      ]
    },
    {
      "cell_type": "markdown",
      "source": [
        "Test"
      ],
      "metadata": {
        "id": "7WOyv2ABY_30"
      }
    },
    {
      "cell_type": "code",
      "source": [
        "print(\"last model performance on Test set:\", get_accuracy(test_loader, model))\n",
        "\n",
        "# Once training is done, load the best model (might not be the last model due to early stopping)\n",
        "model.load_state_dict(torch.load(\"./best_model.pt\"))\n",
        "acc = get_accuracy(test_loader, model)\n",
        "print(\"best model performance Test set:\", acc)\n",
        "\n",
        "if enable_wandb:\n",
        "  wandb.summary['Test Accuracy'] = acc.item()"
      ],
      "metadata": {
        "id": "SZcL-YL-YcRO",
        "colab": {
          "base_uri": "https://localhost:8080/"
        },
        "outputId": "b3ea89f3-9d3e-4d44-f672-02cb6eaa6628"
      },
      "execution_count": null,
      "outputs": [
        {
          "output_type": "stream",
          "name": "stdout",
          "text": [
            "last model performance on Test set: tensor(0.5000, device='cuda:0')\n",
            "best model performance Test set: tensor(0.4429, device='cuda:0')\n"
          ]
        }
      ]
    },
    {
      "cell_type": "markdown",
      "source": [
        "Test"
      ],
      "metadata": {
        "id": "TLhvpPZ2Nmep"
      }
    },
    {
      "cell_type": "code",
      "source": [
        "if enable_wandb:\n",
        "  wandb.finish()"
      ],
      "metadata": {
        "id": "eWlDbw_cacL6",
        "colab": {
          "base_uri": "https://localhost:8080/",
          "height": 312,
          "referenced_widgets": [
            "2ab287a819d6427c8638740d93009d8f",
            "2d3520358e084a60991c858687847083",
            "d2fbefc827b14dfca630058fc9793600",
            "d674b74b0c3145d5b574390acac44986",
            "fe91b0f213bf44749aa2570dce13c6c8",
            "e2e953b20d29432fb478baaedcd5a193",
            "64abc088db7f4b3abfb6aad5f08f57b9",
            "2ae2638e53d248ac9cdeded8cd7408e6"
          ]
        },
        "outputId": "8173246d-62f9-4109-8f8a-55c16d970c87"
      },
      "execution_count": null,
      "outputs": [
        {
          "output_type": "display_data",
          "data": {
            "text/plain": [
              "VBox(children=(Label(value='0.001 MB of 0.001 MB uploaded\\r'), FloatProgress(value=1.0, max=1.0)))"
            ],
            "application/vnd.jupyter.widget-view+json": {
              "version_major": 2,
              "version_minor": 0,
              "model_id": "2ab287a819d6427c8638740d93009d8f"
            }
          },
          "metadata": {}
        },
        {
          "output_type": "display_data",
          "data": {
            "text/plain": [
              "<IPython.core.display.HTML object>"
            ],
            "text/html": [
              "<style>\n",
              "    table.wandb td:nth-child(1) { padding: 0 10px; text-align: left ; width: auto;} td:nth-child(2) {text-align: left ; width: 100%}\n",
              "    .wandb-row { display: flex; flex-direction: row; flex-wrap: wrap; justify-content: flex-start; width: 100% }\n",
              "    .wandb-col { display: flex; flex-direction: column; flex-basis: 100%; flex: 1; padding: 10px; }\n",
              "    </style>\n",
              "<div class=\"wandb-row\"><div class=\"wandb-col\"><h3>Run history:</h3><br/><table class=\"wandb\"><tr><td>epoch</td><td>▁▁▂▂▂▃▃▄▄▄▅▅▅▆▆▇▇▇██</td></tr><tr><td>loss</td><td>█▇▇▇▆▅▄▄▃▂▂▂▂▂▁▁▁▁▁▁</td></tr><tr><td>train_accuracy</td><td>▁▂▄▅▅▆▆▆▇▇▇█████████</td></tr><tr><td>val_accuracy</td><td>▂▁▄▅▂▆▅▄▇▅█▆▇█▇█▇▆▇▇</td></tr><tr><td>val_loss</td><td>██▇▅▆▄▃▃▂▂▂▂▁▁▂▁▂▂▁▁</td></tr></table><br/></div><div class=\"wandb-col\"><h3>Run summary:</h3><br/><table class=\"wandb\"><tr><td>Test Accuracy</td><td>0.44286</td></tr><tr><td>epoch</td><td>20</td></tr><tr><td>loss</td><td>0.12318</td></tr><tr><td>train_accuracy</td><td>1.0</td></tr><tr><td>val_accuracy</td><td>0.45455</td></tr><tr><td>val_loss</td><td>1.66896</td></tr></table><br/></div></div>"
            ]
          },
          "metadata": {}
        },
        {
          "output_type": "display_data",
          "data": {
            "text/plain": [
              "<IPython.core.display.HTML object>"
            ],
            "text/html": [
              " View run <strong style=\"color:#cdcd00\">no data augmentation</strong> at: <a href='https://wandb.ai/phylonn/Transfer%20Learning/runs/7co431pl' target=\"_blank\">https://wandb.ai/phylonn/Transfer%20Learning/runs/7co431pl</a><br/> View project at: <a href='https://wandb.ai/phylonn/Transfer%20Learning' target=\"_blank\">https://wandb.ai/phylonn/Transfer%20Learning</a><br/>Synced 5 W&B file(s), 0 media file(s), 0 artifact file(s) and 0 other file(s)"
            ]
          },
          "metadata": {}
        },
        {
          "output_type": "display_data",
          "data": {
            "text/plain": [
              "<IPython.core.display.HTML object>"
            ],
            "text/html": [
              "Find logs at: <code>./wandb/run-20240411_195625-7co431pl/logs</code>"
            ]
          },
          "metadata": {}
        }
      ]
    },
    {
      "cell_type": "markdown",
      "source": [
        "The resulting WandB dashboard: https://api.wandb.ai/links/phylonn/vnlv5oak"
      ],
      "metadata": {
        "id": "VgLh638oIssQ"
      }
    },
    {
      "cell_type": "code",
      "source": [
        "from sklearn.metrics import confusion_matrix\n",
        "import seaborn as sn\n",
        "import pandas as pd\n",
        "import numpy as np\n",
        "\n",
        "y_pred = []\n",
        "y_true = []\n",
        "\n",
        "# iterate over test data\n",
        "for inputs, labels in test_loader:\n",
        "        output = model(inputs.cuda()) # Feed Network\n",
        "\n",
        "        output = (torch.max(torch.exp(output), 1)[1]).data.cpu().numpy()\n",
        "        y_pred.extend(output) # Save Prediction\n",
        "\n",
        "        labels = labels.data.cpu().numpy()\n",
        "        y_true.extend(labels) # Save Truth\n",
        "\n",
        "# constant for classes\n",
        "classes = test_dataset.class_to_idx.keys()\n",
        "\n",
        "# Build confusion matrix\n",
        "cf_matrix = confusion_matrix(y_true, y_pred)\n",
        "df_cm = pd.DataFrame(cf_matrix / np.sum(cf_matrix, axis=1)[:, None], index = [i for i in classes],\n",
        "                     columns = [i for i in classes])\n",
        "import matplotlib.pyplot as plt\n",
        "plt.figure(figsize = (12,7))\n",
        "sn.heatmap(df_cm, annot=True)\n",
        "plt.savefig('output.png')"
      ],
      "metadata": {
        "id": "yrSodcyVeDwb",
        "colab": {
          "base_uri": "https://localhost:8080/",
          "height": 756
        },
        "outputId": "c0dfa3a5-de9a-4ccf-ee82-923e6464afe1"
      },
      "execution_count": null,
      "outputs": [
        {
          "output_type": "display_data",
          "data": {
            "text/plain": [
              "<Figure size 1200x700 with 2 Axes>"
            ],
            "image/png": "[encoded data removed]"
          },
          "metadata": {}
        }
      ]
    }
  ]
}