{
  "nbformat": 4,
  "nbformat_minor": 0,
  "metadata": {
    "colab": {
      "provenance": [],
      "gpuType": "T4",
      "authorship_tag": "ABX9TyMVwruvp3TG1DX04QkdSb9i",
      "include_colab_link": true
    },
    "kernelspec": {
      "name": "python3",
      "display_name": "Python 3"
    },
    "language_info": {
      "name": "python"
    },
    "accelerator": "GPU"
  },
  "cells": [
    {
      "cell_type": "markdown",
      "metadata": {
        "id": "view-in-github",
        "colab_type": "text"
      },
      "source": [
        "<a href=\"https://colab.research.google.com/github/elhamod/BA865-2024/blob/main/hands-on/First_Pytorch_NN.ipynb\" target=\"_parent\"><img src=\"https://colab.research.google.com/assets/colab-badge.svg\" alt=\"Open In Colab\"/></a>"
      ]
    },
    {
      "cell_type": "markdown",
      "source": [
        "#Welcome to your first PyTorch Neural Net!"
      ],
      "metadata": {
        "id": "W8H546tNarSj"
      }
    },
    {
      "cell_type": "markdown",
      "source": [
        "##Things we will investigate:\n",
        "\n",
        "- How to load and pre-process the data.\n",
        "- How to construct an MLP.\n",
        "- How to train an MLP (Loss and optimization).\n",
        "- How to utilize a GPU.\n",
        "- How the complexity of the model affects its performance.\n",
        "- How to measure the performance of the model.\n",
        "- The effects of hyper-parameters:\n",
        "  - Learning rate.\n",
        "  - Optimizer.\n",
        "  - Batch size.\n",
        "- How to use WandB.\n",
        "- Using SCC.\n"
      ],
      "metadata": {
        "id": "Gt1GCe9Kuzee"
      }
    },
    {
      "cell_type": "markdown",
      "source": [
        "##Import some packages"
      ],
      "metadata": {
        "id": "frEXdeTWNXqt"
      }
    },
    {
      "cell_type": "code",
      "execution_count": null,
      "metadata": {
        "id": "B-8PrSb5Idis"
      },
      "outputs": [],
      "source": [
        "import torch\n",
        "import torch.nn as nn\n",
        "import torch.optim as optim\n",
        "from torchvision import datasets, transforms\n",
        "from torch.utils.data import DataLoader"
      ]
    },
    {
      "cell_type": "code",
      "source": [
        "torch.cuda.is_available()"
      ],
      "metadata": {
        "colab": {
          "base_uri": "https://localhost:8080/"
        },
        "id": "Zd7mgN-abpJB",
        "outputId": "a9cedd54-8fbf-4a31-eb28-cc29e9491bbb"
      },
      "execution_count": null,
      "outputs": [
        {
          "output_type": "execute_result",
          "data": {
            "text/plain": [
              "True"
            ]
          },
          "metadata": {},
          "execution_count": 17
        }
      ]
    },
    {
      "cell_type": "code",
      "source": [
        "# !pip install -U torchmetrics"
      ],
      "metadata": {
        "id": "ITkvFTCHbdOn"
      },
      "execution_count": null,
      "outputs": []
    },
    {
      "cell_type": "code",
      "source": [
        "!pip install wandb -qU\n",
        "import wandb\n",
        "wandb.login()"
      ],
      "metadata": {
        "colab": {
          "base_uri": "https://localhost:8080/"
        },
        "id": "e8unrZajZigs",
        "outputId": "57409ef1-2fe4-4492-953b-e3fd51b1ce85"
      },
      "execution_count": null,
      "outputs": [
        {
          "output_type": "execute_result",
          "data": {
            "text/plain": [
              "True"
            ]
          },
          "metadata": {},
          "execution_count": 19
        }
      ]
    },
    {
      "cell_type": "markdown",
      "source": [
        "Hyper-parameters"
      ],
      "metadata": {
        "id": "dJUP7ISFNbHd"
      }
    },
    {
      "cell_type": "code",
      "source": [],
      "metadata": {
        "id": "fp6onSYaJNjN"
      },
      "execution_count": null,
      "outputs": []
    },
    {
      "cell_type": "markdown",
      "source": [
        "Data"
      ],
      "metadata": {
        "id": "VWFOwqDtNeG9"
      }
    },
    {
      "cell_type": "code",
      "source": [
        "# Transformations\n",
        "transform =\n",
        "\n",
        "# MNIST dataset\n",
        "train_dataset = datasets.MNIST(root='./data', train=True, transform=transform, download=True)\n",
        "test_dataset = dataset.MNIST(root='./data', train=False, transform=transform, download=True)\n",
        "\n",
        "# Data loaders\n",
        "train_loader =\n",
        "test_loader ="
      ],
      "metadata": {
        "id": "wTgFHFDMJTe5"
      },
      "execution_count": null,
      "outputs": []
    },
    {
      "cell_type": "markdown",
      "source": [
        "Model"
      ],
      "metadata": {
        "id": "O43tOiHANfHC"
      }
    },
    {
      "cell_type": "code",
      "source": [
        "# MLP model\n",
        "class MLP(nn.Module):\n",
        "    def __init__(self, input_size, hidden_size, output_size):\n",
        "        super(MLP, self).__init__()\n",
        "\n",
        "\n",
        "    def forward(self, x):\n",
        "\n",
        "\n"
      ],
      "metadata": {
        "id": "dVLVk-DmJVFc"
      },
      "execution_count": null,
      "outputs": []
    },
    {
      "cell_type": "code",
      "source": [
        "model ="
      ],
      "metadata": {
        "id": "eRrS3D6gJVHx"
      },
      "execution_count": null,
      "outputs": []
    },
    {
      "cell_type": "markdown",
      "source": [
        "Loss"
      ],
      "metadata": {
        "id": "RiPIJNAaNirU"
      }
    },
    {
      "cell_type": "code",
      "source": [
        "criterion ="
      ],
      "metadata": {
        "id": "S4LHoaZaJXd1"
      },
      "execution_count": null,
      "outputs": []
    },
    {
      "cell_type": "markdown",
      "source": [
        "Optimizer"
      ],
      "metadata": {
        "id": "PtHuHVcSNjrg"
      }
    },
    {
      "cell_type": "code",
      "source": [
        "optimizer ="
      ],
      "metadata": {
        "id": "HYtLekcnJYgt"
      },
      "execution_count": null,
      "outputs": []
    },
    {
      "cell_type": "markdown",
      "source": [
        "Train"
      ],
      "metadata": {
        "id": "slsVWSc_Nk6N"
      }
    },
    {
      "cell_type": "code",
      "source": [
        "# import torchmetrics\n",
        "\n",
        "\n",
        "train_acc = 0\n",
        "# Training loop\n",
        "for epoch in range(epochs):\n",
        "    for i, (images, labels) in enumerate(train_loader):\n",
        "        # Forward pass\n",
        "\n",
        "        # Backward pass and optimization\n",
        "        optimizer.zero_grad()\n",
        "        loss.backward()\n",
        "        optimizer.step()\n",
        "\n",
        "\n",
        "\n"
      ],
      "metadata": {
        "id": "wNhVx_muJcfy"
      },
      "execution_count": null,
      "outputs": []
    },
    {
      "cell_type": "markdown",
      "source": [
        "Test"
      ],
      "metadata": {
        "id": "TLhvpPZ2Nmep"
      }
    },
    {
      "cell_type": "code",
      "source": [
        "\n"
      ],
      "metadata": {
        "id": "WYLTEnn3NWCh"
      },
      "execution_count": null,
      "outputs": []
    },
    {
      "cell_type": "code",
      "source": [],
      "metadata": {
        "id": "eWlDbw_cacL6"
      },
      "execution_count": null,
      "outputs": []
    }
  ]
}