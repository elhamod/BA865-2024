{
  "nbformat": 4,
  "nbformat_minor": 0,
  "metadata": {
    "colab": {
      "provenance": [],
      "gpuType": "T4",
      "authorship_tag": "ABX9TyNAmvYpjcjX2zQ1eK/mGKaE",
      "include_colab_link": true
    },
    "kernelspec": {
      "name": "python3",
      "display_name": "Python 3"
    },
    "language_info": {
      "name": "python"
    },
    "accelerator": "GPU",
    "widgets": {
      "application/vnd.jupyter.widget-state+json": {
        "d772d96556ac4bfbbc4fcb648d8b843a": {
          "model_module": "@jupyter-widgets/controls",
          "model_name": "VBoxModel",
          "model_module_version": "1.5.0",
          "state": {
            "_dom_classes": [],
            "_model_module": "@jupyter-widgets/controls",
            "_model_module_version": "1.5.0",
            "_model_name": "VBoxModel",
            "_view_count": null,
            "_view_module": "@jupyter-widgets/controls",
            "_view_module_version": "1.5.0",
            "_view_name": "VBoxView",
            "box_style": "",
            "children": [
              "IPY_MODEL_481884df78124b12a0f9b825192f6787",
              "IPY_MODEL_ef4e646d857743009648251380777180"
            ],
            "layout": "IPY_MODEL_45a50ad8e57f432b840d3d3b2dcb6f87"
          }
        },
        "481884df78124b12a0f9b825192f6787": {
          "model_module": "@jupyter-widgets/controls",
          "model_name": "LabelModel",
          "model_module_version": "1.5.0",
          "state": {
            "_dom_classes": [],
            "_model_module": "@jupyter-widgets/controls",
            "_model_module_version": "1.5.0",
            "_model_name": "LabelModel",
            "_view_count": null,
            "_view_module": "@jupyter-widgets/controls",
            "_view_module_version": "1.5.0",
            "_view_name": "LabelView",
            "description": "",
            "description_tooltip": null,
            "layout": "IPY_MODEL_db36bc0106d243fbacc9a7d1f82ffdb1",
            "placeholder": "​",
            "style": "IPY_MODEL_6e13cee812c64873a5c190719477a8d8",
            "value": "0.013 MB of 0.013 MB uploaded\r"
          }
        },
        "ef4e646d857743009648251380777180": {
          "model_module": "@jupyter-widgets/controls",
          "model_name": "FloatProgressModel",
          "model_module_version": "1.5.0",
          "state": {
            "_dom_classes": [],
            "_model_module": "@jupyter-widgets/controls",
            "_model_module_version": "1.5.0",
            "_model_name": "FloatProgressModel",
            "_view_count": null,
            "_view_module": "@jupyter-widgets/controls",
            "_view_module_version": "1.5.0",
            "_view_name": "ProgressView",
            "bar_style": "",
            "description": "",
            "description_tooltip": null,
            "layout": "IPY_MODEL_e445f884a4c7457595ff3224664ef089",
            "max": 1,
            "min": 0,
            "orientation": "horizontal",
            "style": "IPY_MODEL_0ee6c00ba4f14b08a5035aae7a76115b",
            "value": 1
          }
        },
        "45a50ad8e57f432b840d3d3b2dcb6f87": {
          "model_module": "@jupyter-widgets/base",
          "model_name": "LayoutModel",
          "model_module_version": "1.2.0",
          "state": {
            "_model_module": "@jupyter-widgets/base",
            "_model_module_version": "1.2.0",
            "_model_name": "LayoutModel",
            "_view_count": null,
            "_view_module": "@jupyter-widgets/base",
            "_view_module_version": "1.2.0",
            "_view_name": "LayoutView",
            "align_content": null,
            "align_items": null,
            "align_self": null,
            "border": null,
            "bottom": null,
            "display": null,
            "flex": null,
            "flex_flow": null,
            "grid_area": null,
            "grid_auto_columns": null,
            "grid_auto_flow": null,
            "grid_auto_rows": null,
            "grid_column": null,
            "grid_gap": null,
            "grid_row": null,
            "grid_template_areas": null,
            "grid_template_columns": null,
            "grid_template_rows": null,
            "height": null,
            "justify_content": null,
            "justify_items": null,
            "left": null,
            "margin": null,
            "max_height": null,
            "max_width": null,
            "min_height": null,
            "min_width": null,
            "object_fit": null,
            "object_position": null,
            "order": null,
            "overflow": null,
            "overflow_x": null,
            "overflow_y": null,
            "padding": null,
            "right": null,
            "top": null,
            "visibility": null,
            "width": null
          }
        },
        "db36bc0106d243fbacc9a7d1f82ffdb1": {
          "model_module": "@jupyter-widgets/base",
          "model_name": "LayoutModel",
          "model_module_version": "1.2.0",
          "state": {
            "_model_module": "@jupyter-widgets/base",
            "_model_module_version": "1.2.0",
            "_model_name": "LayoutModel",
            "_view_count": null,
            "_view_module": "@jupyter-widgets/base",
            "_view_module_version": "1.2.0",
            "_view_name": "LayoutView",
            "align_content": null,
            "align_items": null,
            "align_self": null,
            "border": null,
            "bottom": null,
            "display": null,
            "flex": null,
            "flex_flow": null,
            "grid_area": null,
            "grid_auto_columns": null,
            "grid_auto_flow": null,
            "grid_auto_rows": null,
            "grid_column": null,
            "grid_gap": null,
            "grid_row": null,
            "grid_template_areas": null,
            "grid_template_columns": null,
            "grid_template_rows": null,
            "height": null,
            "justify_content": null,
            "justify_items": null,
            "left": null,
            "margin": null,
            "max_height": null,
            "max_width": null,
            "min_height": null,
            "min_width": null,
            "object_fit": null,
            "object_position": null,
            "order": null,
            "overflow": null,
            "overflow_x": null,
            "overflow_y": null,
            "padding": null,
            "right": null,
            "top": null,
            "visibility": null,
            "width": null
          }
        },
        "6e13cee812c64873a5c190719477a8d8": {
          "model_module": "@jupyter-widgets/controls",
          "model_name": "DescriptionStyleModel",
          "model_module_version": "1.5.0",
          "state": {
            "_model_module": "@jupyter-widgets/controls",
            "_model_module_version": "1.5.0",
            "_model_name": "DescriptionStyleModel",
            "_view_count": null,
            "_view_module": "@jupyter-widgets/base",
            "_view_module_version": "1.2.0",
            "_view_name": "StyleView",
            "description_width": ""
          }
        },
        "e445f884a4c7457595ff3224664ef089": {
          "model_module": "@jupyter-widgets/base",
          "model_name": "LayoutModel",
          "model_module_version": "1.2.0",
          "state": {
            "_model_module": "@jupyter-widgets/base",
            "_model_module_version": "1.2.0",
            "_model_name": "LayoutModel",
            "_view_count": null,
            "_view_module": "@jupyter-widgets/base",
            "_view_module_version": "1.2.0",
            "_view_name": "LayoutView",
            "align_content": null,
            "align_items": null,
            "align_self": null,
            "border": null,
            "bottom": null,
            "display": null,
            "flex": null,
            "flex_flow": null,
            "grid_area": null,
            "grid_auto_columns": null,
            "grid_auto_flow": null,
            "grid_auto_rows": null,
            "grid_column": null,
            "grid_gap": null,
            "grid_row": null,
            "grid_template_areas": null,
            "grid_template_columns": null,
            "grid_template_rows": null,
            "height": null,
            "justify_content": null,
            "justify_items": null,
            "left": null,
            "margin": null,
            "max_height": null,
            "max_width": null,
            "min_height": null,
            "min_width": null,
            "object_fit": null,
            "object_position": null,
            "order": null,
            "overflow": null,
            "overflow_x": null,
            "overflow_y": null,
            "padding": null,
            "right": null,
            "top": null,
            "visibility": null,
            "width": null
          }
        },
        "0ee6c00ba4f14b08a5035aae7a76115b": {
          "model_module": "@jupyter-widgets/controls",
          "model_name": "ProgressStyleModel",
          "model_module_version": "1.5.0",
          "state": {
            "_model_module": "@jupyter-widgets/controls",
            "_model_module_version": "1.5.0",
            "_model_name": "ProgressStyleModel",
            "_view_count": null,
            "_view_module": "@jupyter-widgets/base",
            "_view_module_version": "1.2.0",
            "_view_name": "StyleView",
            "bar_color": null,
            "description_width": ""
          }
        },
        "ea62a49ef5074ae7b185263731e9b15f": {
          "model_module": "@jupyter-widgets/controls",
          "model_name": "VBoxModel",
          "model_module_version": "1.5.0",
          "state": {
            "_dom_classes": [],
            "_model_module": "@jupyter-widgets/controls",
            "_model_module_version": "1.5.0",
            "_model_name": "VBoxModel",
            "_view_count": null,
            "_view_module": "@jupyter-widgets/controls",
            "_view_module_version": "1.5.0",
            "_view_name": "VBoxView",
            "box_style": "",
            "children": [
              "IPY_MODEL_f9e26001696f471696a861a5eb7c2078",
              "IPY_MODEL_2a0b49179c854208b314243df217aed8"
            ],
            "layout": "IPY_MODEL_2536bd60fb24426584d4b839f7380d38"
          }
        },
        "f9e26001696f471696a861a5eb7c2078": {
          "model_module": "@jupyter-widgets/controls",
          "model_name": "LabelModel",
          "model_module_version": "1.5.0",
          "state": {
            "_dom_classes": [],
            "_model_module": "@jupyter-widgets/controls",
            "_model_module_version": "1.5.0",
            "_model_name": "LabelModel",
            "_view_count": null,
            "_view_module": "@jupyter-widgets/controls",
            "_view_module_version": "1.5.0",
            "_view_name": "LabelView",
            "description": "",
            "description_tooltip": null,
            "layout": "IPY_MODEL_3118df91046742b1ab043a47d2db32e2",
            "placeholder": "​",
            "style": "IPY_MODEL_37f25bfc2dbd4b559f6e5d88df4a5c8f",
            "value": "0.013 MB of 0.013 MB uploaded\r"
          }
        },
        "2a0b49179c854208b314243df217aed8": {
          "model_module": "@jupyter-widgets/controls",
          "model_name": "FloatProgressModel",
          "model_module_version": "1.5.0",
          "state": {
            "_dom_classes": [],
            "_model_module": "@jupyter-widgets/controls",
            "_model_module_version": "1.5.0",
            "_model_name": "FloatProgressModel",
            "_view_count": null,
            "_view_module": "@jupyter-widgets/controls",
            "_view_module_version": "1.5.0",
            "_view_name": "ProgressView",
            "bar_style": "",
            "description": "",
            "description_tooltip": null,
            "layout": "IPY_MODEL_d55e2e2672414822be6817ff78a1208d",
            "max": 1,
            "min": 0,
            "orientation": "horizontal",
            "style": "IPY_MODEL_d2b384d6b6304312b0b2398dcecd018b",
            "value": 1
          }
        },
        "2536bd60fb24426584d4b839f7380d38": {
          "model_module": "@jupyter-widgets/base",
          "model_name": "LayoutModel",
          "model_module_version": "1.2.0",
          "state": {
            "_model_module": "@jupyter-widgets/base",
            "_model_module_version": "1.2.0",
            "_model_name": "LayoutModel",
            "_view_count": null,
            "_view_module": "@jupyter-widgets/base",
            "_view_module_version": "1.2.0",
            "_view_name": "LayoutView",
            "align_content": null,
            "align_items": null,
            "align_self": null,
            "border": null,
            "bottom": null,
            "display": null,
            "flex": null,
            "flex_flow": null,
            "grid_area": null,
            "grid_auto_columns": null,
            "grid_auto_flow": null,
            "grid_auto_rows": null,
            "grid_column": null,
            "grid_gap": null,
            "grid_row": null,
            "grid_template_areas": null,
            "grid_template_columns": null,
            "grid_template_rows": null,
            "height": null,
            "justify_content": null,
            "justify_items": null,
            "left": null,
            "margin": null,
            "max_height": null,
            "max_width": null,
            "min_height": null,
            "min_width": null,
            "object_fit": null,
            "object_position": null,
            "order": null,
            "overflow": null,
            "overflow_x": null,
            "overflow_y": null,
            "padding": null,
            "right": null,
            "top": null,
            "visibility": null,
            "width": null
          }
        },
        "3118df91046742b1ab043a47d2db32e2": {
          "model_module": "@jupyter-widgets/base",
          "model_name": "LayoutModel",
          "model_module_version": "1.2.0",
          "state": {
            "_model_module": "@jupyter-widgets/base",
            "_model_module_version": "1.2.0",
            "_model_name": "LayoutModel",
            "_view_count": null,
            "_view_module": "@jupyter-widgets/base",
            "_view_module_version": "1.2.0",
            "_view_name": "LayoutView",
            "align_content": null,
            "align_items": null,
            "align_self": null,
            "border": null,
            "bottom": null,
            "display": null,
            "flex": null,
            "flex_flow": null,
            "grid_area": null,
            "grid_auto_columns": null,
            "grid_auto_flow": null,
            "grid_auto_rows": null,
            "grid_column": null,
            "grid_gap": null,
            "grid_row": null,
            "grid_template_areas": null,
            "grid_template_columns": null,
            "grid_template_rows": null,
            "height": null,
            "justify_content": null,
            "justify_items": null,
            "left": null,
            "margin": null,
            "max_height": null,
            "max_width": null,
            "min_height": null,
            "min_width": null,
            "object_fit": null,
            "object_position": null,
            "order": null,
            "overflow": null,
            "overflow_x": null,
            "overflow_y": null,
            "padding": null,
            "right": null,
            "top": null,
            "visibility": null,
            "width": null
          }
        },
        "37f25bfc2dbd4b559f6e5d88df4a5c8f": {
          "model_module": "@jupyter-widgets/controls",
          "model_name": "DescriptionStyleModel",
          "model_module_version": "1.5.0",
          "state": {
            "_model_module": "@jupyter-widgets/controls",
            "_model_module_version": "1.5.0",
            "_model_name": "DescriptionStyleModel",
            "_view_count": null,
            "_view_module": "@jupyter-widgets/base",
            "_view_module_version": "1.2.0",
            "_view_name": "StyleView",
            "description_width": ""
          }
        },
        "d55e2e2672414822be6817ff78a1208d": {
          "model_module": "@jupyter-widgets/base",
          "model_name": "LayoutModel",
          "model_module_version": "1.2.0",
          "state": {
            "_model_module": "@jupyter-widgets/base",
            "_model_module_version": "1.2.0",
            "_model_name": "LayoutModel",
            "_view_count": null,
            "_view_module": "@jupyter-widgets/base",
            "_view_module_version": "1.2.0",
            "_view_name": "LayoutView",
            "align_content": null,
            "align_items": null,
            "align_self": null,
            "border": null,
            "bottom": null,
            "display": null,
            "flex": null,
            "flex_flow": null,
            "grid_area": null,
            "grid_auto_columns": null,
            "grid_auto_flow": null,
            "grid_auto_rows": null,
            "grid_column": null,
            "grid_gap": null,
            "grid_row": null,
            "grid_template_areas": null,
            "grid_template_columns": null,
            "grid_template_rows": null,
            "height": null,
            "justify_content": null,
            "justify_items": null,
            "left": null,
            "margin": null,
            "max_height": null,
            "max_width": null,
            "min_height": null,
            "min_width": null,
            "object_fit": null,
            "object_position": null,
            "order": null,
            "overflow": null,
            "overflow_x": null,
            "overflow_y": null,
            "padding": null,
            "right": null,
            "top": null,
            "visibility": null,
            "width": null
          }
        },
        "d2b384d6b6304312b0b2398dcecd018b": {
          "model_module": "@jupyter-widgets/controls",
          "model_name": "ProgressStyleModel",
          "model_module_version": "1.5.0",
          "state": {
            "_model_module": "@jupyter-widgets/controls",
            "_model_module_version": "1.5.0",
            "_model_name": "ProgressStyleModel",
            "_view_count": null,
            "_view_module": "@jupyter-widgets/base",
            "_view_module_version": "1.2.0",
            "_view_name": "StyleView",
            "bar_color": null,
            "description_width": ""
          }
        }
      }
    }
  },
  "cells": [
    {
      "cell_type": "markdown",
      "metadata": {
        "id": "view-in-github",
        "colab_type": "text"
      },
      "source": [
        "<a href=\"https://colab.research.google.com/github/elhamod/BA865-2024/blob/main/hands-on/First_Pytorch_NN.ipynb\" target=\"_parent\"><img src=\"https://colab.research.google.com/assets/colab-badge.svg\" alt=\"Open In Colab\"/></a>"
      ]
    },
    {
      "cell_type": "markdown",
      "source": [
        "#Welcome to your first PyTorch Neural Net!"
      ],
      "metadata": {
        "id": "W8H546tNarSj"
      }
    },
    {
      "cell_type": "markdown",
      "source": [
        "##Things we will investigate:\n",
        "\n",
        "- How to load and pre-process the data.\n",
        "- How to construct an MLP.\n",
        "- How to train an MLP (Loss and optimization).\n",
        "- How to utilize a GPU.\n",
        "- How the complexity of the model affects its performance.\n",
        "- How to measure the performance of the model.\n",
        "- The effects of hyper-parameters:\n",
        "  - Learning rate.\n",
        "  - Optimizer.\n",
        "  - Batch size.\n",
        "- How to use WandB.\n",
        "- Using SCC.\n"
      ],
      "metadata": {
        "id": "Gt1GCe9Kuzee"
      }
    },
    {
      "cell_type": "markdown",
      "source": [
        "Here are some flags that you can turn on and off"
      ],
      "metadata": {
        "id": "fURxa8CNTnp8"
      }
    },
    {
      "cell_type": "code",
      "source": [
        "enable_wandb = True\n",
        "use_gpu = True"
      ],
      "metadata": {
        "id": "QnfvDHZOTk8N"
      },
      "execution_count": 105,
      "outputs": []
    },
    {
      "cell_type": "markdown",
      "source": [
        "##Import some packages"
      ],
      "metadata": {
        "id": "frEXdeTWNXqt"
      }
    },
    {
      "cell_type": "code",
      "execution_count": 106,
      "metadata": {
        "id": "B-8PrSb5Idis"
      },
      "outputs": [],
      "source": [
        "import torch\n",
        "import torch.nn as nn\n",
        "import torch.optim as optim\n",
        "from torchvision import datasets, transforms\n",
        "from torch.utils.data import DataLoader, random_split"
      ]
    },
    {
      "cell_type": "markdown",
      "source": [
        "This helps you check if GPU is available"
      ],
      "metadata": {
        "id": "0BNuG94i373o"
      }
    },
    {
      "cell_type": "code",
      "source": [
        "gpu_available = torch.cuda.is_available()\n",
        "gpu_available"
      ],
      "metadata": {
        "colab": {
          "base_uri": "https://localhost:8080/"
        },
        "id": "Zd7mgN-abpJB",
        "outputId": "113323f3-cec9-4d80-feb4-33cbb2eca00e"
      },
      "execution_count": 107,
      "outputs": [
        {
          "output_type": "execute_result",
          "data": {
            "text/plain": [
              "True"
            ]
          },
          "metadata": {},
          "execution_count": 107
        }
      ]
    },
    {
      "cell_type": "markdown",
      "source": [
        "Some extra fancy but optional packages:\n",
        "\n",
        "- `torchmetrics` for calculating accuracy\n",
        "- `wandb` for logging"
      ],
      "metadata": {
        "id": "9nYYpgwD3_-J"
      }
    },
    {
      "cell_type": "code",
      "source": [
        "if enable_wandb:\n",
        "  !pip install wandb -qU\n",
        "  import wandb\n",
        "  wandb.login()"
      ],
      "metadata": {
        "colab": {
          "base_uri": "https://localhost:8080/"
        },
        "id": "e8unrZajZigs",
        "outputId": "e04d1b91-7a60-4ccb-8ff5-94249f0cef98"
      },
      "execution_count": 108,
      "outputs": [
        {
          "output_type": "stream",
          "name": "stderr",
          "text": [
            "\u001b[34m\u001b[1mwandb\u001b[0m: \u001b[33mWARNING\u001b[0m Calling wandb.login() after wandb.init() has no effect.\n"
          ]
        }
      ]
    },
    {
      "cell_type": "markdown",
      "source": [
        "## Hyper-parameters\n",
        "\n",
        "Define your hyper-parameters here."
      ],
      "metadata": {
        "id": "dJUP7ISFNbHd"
      }
    },
    {
      "cell_type": "code",
      "source": [
        "### Bad model\n",
        "#Hyperparameters\n",
        "\n",
        "experiment_name = \"experiment_bad\"\n",
        "\n",
        "# Data\n",
        "input_size = 28 * 28  # MNIST images are 28x28\n",
        "output_size = 10  # 10 classes for the digits 0-9\n",
        "batch_size = 128\n",
        "\n",
        "# MLP\n",
        "hidden_size = 512\n",
        "\n",
        "#Optimzation\n",
        "learning_rate = 0.01 # too high\n",
        "epochs = 10\n",
        "weight_decay = 0.1 # way too high!\n"
      ],
      "metadata": {
        "id": "fp6onSYaJNjN"
      },
      "execution_count": 109,
      "outputs": []
    },
    {
      "cell_type": "code",
      "source": [
        "### Good model\n",
        "# Hyperparameters\n",
        "\n",
        "# experiment_name = \"experiment_good\"\n",
        "\n",
        "# # Data\n",
        "# input_size = 28 * 28  # MNIST images are 28x28\n",
        "# output_size = 10  # 10 classes for the digits 0-9\n",
        "# batch_size = 128\n",
        "\n",
        "# # MLP\n",
        "# hidden_size = 128\n",
        "\n",
        "# #Optimzation\n",
        "# learning_rate = 0.001\n",
        "# epochs = 10\n",
        "# weight_decay = 0.001\n"
      ],
      "metadata": {
        "id": "7euepcWJX1Uu"
      },
      "execution_count": 110,
      "outputs": []
    },
    {
      "cell_type": "markdown",
      "source": [
        "## Data\n",
        "\n",
        "Load your dataset and create `DataLoaders` that handle the batching and shuffling."
      ],
      "metadata": {
        "id": "VWFOwqDtNeG9"
      }
    },
    {
      "cell_type": "code",
      "source": [
        "# Transformations\n",
        "transform = transforms.Compose([transforms.ToTensor(), transforms.Normalize((0.5,), (0.5,))])\n",
        "\n",
        "# MNIST dataset\n",
        "train_dataset = datasets.MNIST(root='./data', train=True, transform=transform, download=True)\n",
        "# Split the dataset into training and validation sets\n",
        "train_dataset, val_dataset = random_split(train_dataset, [0.8, 0.2])\n",
        "\n",
        "test_dataset = datasets.MNIST(root='./data', train=False, transform=transform, download=True)\n",
        "\n",
        "# Data loaders\n",
        "train_loader = DataLoader(dataset=train_dataset, batch_size=batch_size, shuffle=True)\n",
        "val_loader = DataLoader(dataset=val_dataset, batch_size=batch_size, shuffle=False)\n",
        "test_loader = DataLoader(dataset=test_dataset, batch_size=batch_size, shuffle=False)"
      ],
      "metadata": {
        "id": "wTgFHFDMJTe5"
      },
      "execution_count": 111,
      "outputs": []
    },
    {
      "cell_type": "markdown",
      "source": [
        "## Define and create your model"
      ],
      "metadata": {
        "id": "O43tOiHANfHC"
      }
    },
    {
      "cell_type": "code",
      "source": [
        "# MLP model\n",
        "class MLP(nn.Module):\n",
        "    def __init__(self, input_size, hidden_size, output_size):\n",
        "        super(MLP, self).__init__()\n",
        "        self.input_size = input_size\n",
        "        self.fc1 = nn.Linear(input_size, hidden_size)\n",
        "        self.relu = nn.ReLU()\n",
        "        self.fc2 = nn.Linear(hidden_size, output_size)\n",
        "\n",
        "    # Defines the forward pass.\n",
        "    def forward(self, x):\n",
        "        x = x.view(-1, self.input_size)\n",
        "        x = self.fc1(x)\n",
        "        x = self.relu(x)\n",
        "        x = self.fc2(x)\n",
        "        return x\n",
        "\n",
        "# Could also be written as this:\n",
        "# class MLP(nn.Module):\n",
        "#     def __init__(self, input_size, hidden_size, output_size):\n",
        "#         super(MLP, self).__init__()\n",
        "#         self.model = nn.Sequential(\n",
        "#             nn.Linear(input_size, hidden_size),\n",
        "#             nn.ReLU(),\n",
        "#             nn.Linear(hidden_size, output_size)\n",
        "#         )\n",
        "\n",
        "#     def forward(self, x):\n",
        "#         x = x.view(-1, input_size)\n",
        "#         x = self.model(x)\n",
        "#         return x\n"
      ],
      "metadata": {
        "id": "dVLVk-DmJVFc"
      },
      "execution_count": 112,
      "outputs": []
    },
    {
      "cell_type": "markdown",
      "source": [
        "Adding `.cuda` moves your model to the GPU."
      ],
      "metadata": {
        "id": "R9N6B87Y4pO1"
      }
    },
    {
      "cell_type": "code",
      "source": [
        "model = MLP(input_size, hidden_size, output_size)\n",
        "if gpu_available and use_gpu:\n",
        "  model = model.cuda()"
      ],
      "metadata": {
        "id": "eRrS3D6gJVHx"
      },
      "execution_count": 113,
      "outputs": []
    },
    {
      "cell_type": "markdown",
      "source": [
        "use `torch-summary` for more info on the model"
      ],
      "metadata": {
        "id": "_73Cq5Cf7-wv"
      }
    },
    {
      "cell_type": "code",
      "source": [
        "!pip install torchinfo"
      ],
      "metadata": {
        "id": "HpDl2R-H8GGX",
        "colab": {
          "base_uri": "https://localhost:8080/"
        },
        "outputId": "78897ba4-b15f-491b-f4be-77c6030173c6"
      },
      "execution_count": 114,
      "outputs": [
        {
          "output_type": "stream",
          "name": "stdout",
          "text": [
            "Requirement already satisfied: torchinfo in /usr/local/lib/python3.10/dist-packages (1.8.0)\n"
          ]
        }
      ]
    },
    {
      "cell_type": "code",
      "source": [
        "from torchinfo import summary\n",
        "\n",
        "summary(model, (28, 28))"
      ],
      "metadata": {
        "colab": {
          "base_uri": "https://localhost:8080/"
        },
        "id": "-ZOWbjKT7-4J",
        "outputId": "488d5ac9-5798-4eab-d064-500a18f1889b"
      },
      "execution_count": 115,
      "outputs": [
        {
          "output_type": "execute_result",
          "data": {
            "text/plain": [
              "==========================================================================================\n",
              "Layer (type:depth-idx)                   Output Shape              Param #\n",
              "==========================================================================================\n",
              "MLP                                      [1, 10]                   --\n",
              "├─Linear: 1-1                            [1, 512]                  401,920\n",
              "├─ReLU: 1-2                              [1, 512]                  --\n",
              "├─Linear: 1-3                            [1, 10]                   5,130\n",
              "==========================================================================================\n",
              "Total params: 407,050\n",
              "Trainable params: 407,050\n",
              "Non-trainable params: 0\n",
              "Total mult-adds (M): 0.41\n",
              "==========================================================================================\n",
              "Input size (MB): 0.00\n",
              "Forward/backward pass size (MB): 0.00\n",
              "Params size (MB): 1.63\n",
              "Estimated Total Size (MB): 1.64\n",
              "=========================================================================================="
            ]
          },
          "metadata": {},
          "execution_count": 115
        }
      ]
    },
    {
      "cell_type": "markdown",
      "source": [
        "## Loss\n",
        "\n",
        "For classification, we use cross-entropy."
      ],
      "metadata": {
        "id": "RiPIJNAaNirU"
      }
    },
    {
      "cell_type": "code",
      "source": [
        "criterion = nn.CrossEntropyLoss()"
      ],
      "metadata": {
        "id": "S4LHoaZaJXd1"
      },
      "execution_count": 116,
      "outputs": []
    },
    {
      "cell_type": "markdown",
      "source": [
        "##Optimizer"
      ],
      "metadata": {
        "id": "PtHuHVcSNjrg"
      }
    },
    {
      "cell_type": "code",
      "source": [
        "optimizer = optim.Adam(model.parameters(), lr=learning_rate, weight_decay=weight_decay)"
      ],
      "metadata": {
        "id": "HYtLekcnJYgt"
      },
      "execution_count": 117,
      "outputs": []
    },
    {
      "cell_type": "markdown",
      "source": [
        "## Training!"
      ],
      "metadata": {
        "id": "slsVWSc_Nk6N"
      }
    },
    {
      "cell_type": "code",
      "source": [
        "if enable_wandb:\n",
        "  wandb.init(\n",
        "    # Set the project where this run will be logged\n",
        "    project=\"First PyTorch NN\",\n",
        "    # We pass a run name (otherwise it’ll be randomly assigned, like sunshine-lollypop-10)\n",
        "    name=experiment_name,\n",
        "    # Track hyperparameters and run metadata\n",
        "    config={\n",
        "    \"learning_rate\": learning_rate,\n",
        "    \"epochs\": epochs,\n",
        "    \"batch_size\": batch_size,\n",
        "    \"weight_decay\": weight_decay,\n",
        "    \"notes for me\": \"This is a very lovely experiment. please work!\"\n",
        "    })"
      ],
      "metadata": {
        "colab": {
          "base_uri": "https://localhost:8080/",
          "height": 372,
          "referenced_widgets": [
            "d772d96556ac4bfbbc4fcb648d8b843a",
            "481884df78124b12a0f9b825192f6787",
            "ef4e646d857743009648251380777180",
            "45a50ad8e57f432b840d3d3b2dcb6f87",
            "db36bc0106d243fbacc9a7d1f82ffdb1",
            "6e13cee812c64873a5c190719477a8d8",
            "e445f884a4c7457595ff3224664ef089",
            "0ee6c00ba4f14b08a5035aae7a76115b"
          ]
        },
        "id": "8MrmIuolgDFE",
        "outputId": "2ce7626d-dff4-4779-ed8f-8d6d6acf5a25"
      },
      "execution_count": 118,
      "outputs": [
        {
          "output_type": "display_data",
          "data": {
            "text/plain": [
              "<IPython.core.display.HTML object>"
            ],
            "text/html": [
              "Finishing last run (ID:zv2y21c0) before initializing another..."
            ]
          },
          "metadata": {}
        },
        {
          "output_type": "display_data",
          "data": {
            "text/plain": [
              "VBox(children=(Label(value='0.001 MB of 0.001 MB uploaded\\r'), FloatProgress(value=1.0, max=1.0)))"
            ],
            "application/vnd.jupyter.widget-view+json": {
              "version_major": 2,
              "version_minor": 0,
              "model_id": "d772d96556ac4bfbbc4fcb648d8b843a"
            }
          },
          "metadata": {}
        },
        {
          "output_type": "display_data",
          "data": {
            "text/plain": [
              "<IPython.core.display.HTML object>"
            ],
            "text/html": [
              "<style>\n",
              "    table.wandb td:nth-child(1) { padding: 0 10px; text-align: left ; width: auto;} td:nth-child(2) {text-align: left ; width: 100%}\n",
              "    .wandb-row { display: flex; flex-direction: row; flex-wrap: wrap; justify-content: flex-start; width: 100% }\n",
              "    .wandb-col { display: flex; flex-direction: column; flex-basis: 100%; flex: 1; padding: 10px; }\n",
              "    </style>\n",
              "<div class=\"wandb-row\"><div class=\"wandb-col\"><h3>Run history:</h3><br/><table class=\"wandb\"><tr><td>epoch</td><td>▁▂▃▄▅▆▇█</td></tr><tr><td>loss</td><td>█▁▂▂▂▁▁▁▁▁▁▂▁▁▁▁▂▁▁▁▁▂▁▁▁▁▁▁▂▁▁▁▁▁▁</td></tr><tr><td>train_accuracy</td><td>▅▁▇▆█▆▇▅</td></tr><tr><td>val_accuracy</td><td>▆▁▇▆█▆█▆</td></tr></table><br/></div><div class=\"wandb-col\"><h3>Run summary:</h3><br/><table class=\"wandb\"><tr><td>epoch</td><td>8</td></tr><tr><td>loss</td><td>0.63461</td></tr><tr><td>train_accuracy</td><td>0.84131</td></tr><tr><td>val_accuracy</td><td>0.84425</td></tr></table><br/></div></div>"
            ]
          },
          "metadata": {}
        },
        {
          "output_type": "display_data",
          "data": {
            "text/plain": [
              "<IPython.core.display.HTML object>"
            ],
            "text/html": [
              " View run <strong style=\"color:#cdcd00\">experiment_bad</strong> at: <a href='https://wandb.ai/phylonn/First%20PyTorch%20NN/runs/zv2y21c0/workspace' target=\"_blank\">https://wandb.ai/phylonn/First%20PyTorch%20NN/runs/zv2y21c0/workspace</a><br/>Synced 5 W&B file(s), 0 media file(s), 0 artifact file(s) and 0 other file(s)"
            ]
          },
          "metadata": {}
        },
        {
          "output_type": "display_data",
          "data": {
            "text/plain": [
              "<IPython.core.display.HTML object>"
            ],
            "text/html": [
              "Find logs at: <code>./wandb/run-20240403_192953-zv2y21c0/logs</code>"
            ]
          },
          "metadata": {}
        },
        {
          "output_type": "display_data",
          "data": {
            "text/plain": [
              "<IPython.core.display.HTML object>"
            ],
            "text/html": [
              "Successfully finished last run (ID:zv2y21c0). Initializing new run:<br/>"
            ]
          },
          "metadata": {}
        },
        {
          "output_type": "display_data",
          "data": {
            "text/plain": [
              "<IPython.core.display.HTML object>"
            ],
            "text/html": [
              "Tracking run with wandb version 0.16.5"
            ]
          },
          "metadata": {}
        },
        {
          "output_type": "display_data",
          "data": {
            "text/plain": [
              "<IPython.core.display.HTML object>"
            ],
            "text/html": [
              "Run data is saved locally in <code>/content/wandb/run-20240403_193404-gd71j8ut</code>"
            ]
          },
          "metadata": {}
        },
        {
          "output_type": "display_data",
          "data": {
            "text/plain": [
              "<IPython.core.display.HTML object>"
            ],
            "text/html": [
              "Syncing run <strong><a href='https://wandb.ai/phylonn/First%20PyTorch%20NN/runs/gd71j8ut/workspace' target=\"_blank\">experiment_bad</a></strong> to <a href='https://wandb.ai/phylonn/First%20PyTorch%20NN' target=\"_blank\">Weights & Biases</a> (<a href='https://wandb.me/run' target=\"_blank\">docs</a>)<br/>"
            ]
          },
          "metadata": {}
        },
        {
          "output_type": "display_data",
          "data": {
            "text/plain": [
              "<IPython.core.display.HTML object>"
            ],
            "text/html": [
              " View project at <a href='https://wandb.ai/phylonn/First%20PyTorch%20NN' target=\"_blank\">https://wandb.ai/phylonn/First%20PyTorch%20NN</a>"
            ]
          },
          "metadata": {}
        },
        {
          "output_type": "display_data",
          "data": {
            "text/plain": [
              "<IPython.core.display.HTML object>"
            ],
            "text/html": [
              " View run at <a href='https://wandb.ai/phylonn/First%20PyTorch%20NN/runs/gd71j8ut/workspace' target=\"_blank\">https://wandb.ai/phylonn/First%20PyTorch%20NN/runs/gd71j8ut/workspace</a>"
            ]
          },
          "metadata": {}
        }
      ]
    },
    {
      "cell_type": "markdown",
      "source": [
        "Define some functions to calculate training and test accuracies"
      ],
      "metadata": {
        "id": "hvVft-hIuObz"
      }
    },
    {
      "cell_type": "code",
      "source": [
        "## There is a package called torchmetrics that makes calculating accuracy easier.\n",
        "## Feel free to use it. However, here, I show the logic behind such calculations\n",
        "# !pip install -U torchmetrics\n",
        "# import torchmetrics\n",
        "\n",
        "def get_accuracy(dataloader, model):\n",
        "  acc = 0\n",
        "  # <OR>\n",
        "  # acc = torchmetrics.Accuracy()\n",
        "\n",
        "  with torch.no_grad():\n",
        "      for images, labels in dataloader:\n",
        "          if gpu_available and use_gpu:\n",
        "            images = images.cuda()\n",
        "            labels = labels.cuda()\n",
        "\n",
        "          outputs = model(images) # get predictions\n",
        "\n",
        "          # Update accuracy for this batch\n",
        "          acc = acc + torch.sum(torch.argmax(outputs, axis=1) == labels)\n",
        "          # <OR>\n",
        "          # acc.update(outputs, labels)\n",
        "\n",
        "\n",
        "      # Compute the accuracy\n",
        "      acc = acc/len(dataloader.dataset) # normalizes\n",
        "      # <OR>\n",
        "      # acc = acc.compute()\n",
        "\n",
        "      return acc\n",
        "\n"
      ],
      "metadata": {
        "id": "N-RG6HEnuOga"
      },
      "execution_count": 119,
      "outputs": []
    },
    {
      "cell_type": "code",
      "source": [
        "def get_loss(loader):\n",
        "  with torch.no_grad(): # Anything under torch.no_grad will be calculated with no gradients. Can only be used for testing, not training!\n",
        "\n",
        "    loss = 0\n",
        "    for i, (images, labels) in enumerate(loader): # The batches.\n",
        "          # step1: Move data to cuda. Make sure the model is on cuda too!\n",
        "          if gpu_available and use_gpu:\n",
        "            images = images.cuda()\n",
        "            labels = labels.cuda()\n",
        "\n",
        "          # step2: Forward pass\n",
        "          outputs = model(images)\n",
        "\n",
        "          # step 3: calculate the loss.\n",
        "          loss = loss + criterion(outputs, labels)\n",
        "    return loss/ len(loader.dataset)"
      ],
      "metadata": {
        "id": "EyMtSliNzyrJ"
      },
      "execution_count": 120,
      "outputs": []
    },
    {
      "cell_type": "markdown",
      "source": [
        "Early-stopping class"
      ],
      "metadata": {
        "id": "maJvkRGjy7Qi"
      }
    },
    {
      "cell_type": "code",
      "source": [
        "class EarlyStopper:\n",
        "    def __init__(self, patience=1):\n",
        "        self.patience = patience\n",
        "        self.counter = 0\n",
        "        self.min_validation_loss = float('inf')\n",
        "\n",
        "    def early_stop(self, validation_loss):\n",
        "        # If the new loss is lower than the old loss, reset the counter!\n",
        "        if validation_loss < self.min_validation_loss:\n",
        "            self.min_validation_loss = validation_loss\n",
        "            self.counter = 0\n",
        "            # Keep track of the best model by saving it on the hard drive.\n",
        "            torch.save(model.state_dict(), \"./best_model.pt\")\n",
        "        # otherwise, increment the counter.\n",
        "        elif validation_loss > self.min_validation_loss:\n",
        "            self.counter += 1\n",
        "            # If there has been too many epochs with the loss being high, terminate.\n",
        "            if self.counter >= self.patience:\n",
        "                return True\n",
        "        return False\n",
        ""
      ],
      "metadata": {
        "id": "ObOAcccny7Vk"
      },
      "execution_count": 121,
      "outputs": []
    },
    {
      "cell_type": "markdown",
      "source": [
        "Train!"
      ],
      "metadata": {
        "id": "pOwDP6qQuUMg"
      }
    },
    {
      "cell_type": "code",
      "source": [
        "early_stopper = EarlyStopper(patience=3)\n",
        "\n",
        "# Training loop\n",
        "for epoch in range(epochs): # The epochs.\n",
        "    for i, (images, labels) in enumerate(train_loader): # The batches.\n",
        "        # step 1: Zero out the gradients.\n",
        "        optimizer.zero_grad()\n",
        "\n",
        "        # step 1.1 move data to cuda. Make sure the model is on cuda too!\n",
        "        if gpu_available and use_gpu:\n",
        "          images = images.cuda()\n",
        "          labels = labels.cuda()\n",
        "\n",
        "        # step2: Forward pass\n",
        "        outputs = model(images)\n",
        "\n",
        "        # step 3: calculate the loss.\n",
        "        loss = criterion(outputs, labels)\n",
        "\n",
        "        # step 4: Backward pass\n",
        "        loss.backward()\n",
        "        optimizer.step()\n",
        "\n",
        "        # Print the loss\n",
        "        if i %100 == 0:\n",
        "          print(\"Epoch\", epoch+ 1, \" batch\", i+1, \". Training Loss: \", loss.item())\n",
        "          if enable_wandb:\n",
        "            wandb.log({\"loss\": loss})\n",
        "\n",
        "    # Compute total train accuracy\n",
        "    train_acc = get_accuracy(train_loader, model)\n",
        "    test_acc = get_accuracy(val_loader, model)\n",
        "\n",
        "    print(f'Epoch [{epoch + 1}/{epochs}], Train Accuracy: {train_acc.item():.4f}, Validation Accuracy: {test_acc.item():.4f}')\n",
        "    if enable_wandb:\n",
        "      wandb.log({\"epoch\": epoch + 1, \"train_accuracy\": train_acc.item(), \"val_accuracy\": test_acc.item()})\n",
        "\n",
        "    validation_loss = get_loss(val_loader)\n",
        "    if early_stopper.early_stop(validation_loss):\n",
        "        print(\"Validation loss hasn't dropped. Early stopping!\")\n",
        "        break\n",
        "\n"
      ],
      "metadata": {
        "id": "wNhVx_muJcfy",
        "colab": {
          "base_uri": "https://localhost:8080/"
        },
        "outputId": "e09eb466-11b3-4733-e9e5-9e2233795e32"
      },
      "execution_count": 122,
      "outputs": [
        {
          "output_type": "stream",
          "name": "stdout",
          "text": [
            "Epoch 1  batch 1 . Training Loss:  2.2970809936523438\n",
            "Epoch 1  batch 101 . Training Loss:  0.7984569072723389\n",
            "Epoch 1  batch 201 . Training Loss:  0.7018606066703796\n",
            "Epoch 1  batch 301 . Training Loss:  0.7140898108482361\n",
            "Epoch [1/10], Train Accuracy: 0.8136, Validation Accuracy: 0.8121\n",
            "Epoch 2  batch 1 . Training Loss:  0.7640756964683533\n",
            "Epoch 2  batch 101 . Training Loss:  0.7698489427566528\n",
            "Epoch 2  batch 201 . Training Loss:  0.723720371723175\n",
            "Epoch 2  batch 301 . Training Loss:  0.6865447759628296\n",
            "Epoch [2/10], Train Accuracy: 0.7559, Validation Accuracy: 0.7537\n",
            "Epoch 3  batch 1 . Training Loss:  0.815947949886322\n",
            "Epoch 3  batch 101 . Training Loss:  0.773797333240509\n",
            "Epoch 3  batch 201 . Training Loss:  1.0235610008239746\n",
            "Epoch 3  batch 301 . Training Loss:  9.15829086303711\n",
            "Epoch [3/10], Train Accuracy: 0.7561, Validation Accuracy: 0.7601\n",
            "Epoch 4  batch 1 . Training Loss:  0.9779480695724487\n",
            "Epoch 4  batch 101 . Training Loss:  0.8277636170387268\n",
            "Epoch 4  batch 201 . Training Loss:  0.5678871870040894\n",
            "Epoch 4  batch 301 . Training Loss:  0.575612485408783\n",
            "Epoch [4/10], Train Accuracy: 0.8622, Validation Accuracy: 0.8625\n",
            "Epoch 5  batch 1 . Training Loss:  0.537941038608551\n",
            "Epoch 5  batch 101 . Training Loss:  0.5035130381584167\n",
            "Epoch 5  batch 201 . Training Loss:  0.7062724828720093\n",
            "Epoch 5  batch 301 . Training Loss:  0.6266636252403259\n",
            "Epoch [5/10], Train Accuracy: 0.8641, Validation Accuracy: 0.8647\n",
            "Epoch 6  batch 1 . Training Loss:  0.4936574697494507\n",
            "Epoch 6  batch 101 . Training Loss:  0.7286214828491211\n",
            "Epoch 6  batch 201 . Training Loss:  0.60943603515625\n",
            "Epoch 6  batch 301 . Training Loss:  0.619572639465332\n",
            "Epoch [6/10], Train Accuracy: 0.8447, Validation Accuracy: 0.8479\n",
            "Epoch 7  batch 1 . Training Loss:  0.7229968309402466\n",
            "Epoch 7  batch 101 . Training Loss:  0.7023573517799377\n",
            "Epoch 7  batch 201 . Training Loss:  0.716036319732666\n",
            "Epoch 7  batch 301 . Training Loss:  0.6876846551895142\n",
            "Epoch [7/10], Train Accuracy: 0.8151, Validation Accuracy: 0.8125\n",
            "Validation loss hasn't dropped. Early stopping!\n"
          ]
        }
      ]
    },
    {
      "cell_type": "markdown",
      "source": [
        "Test"
      ],
      "metadata": {
        "id": "7WOyv2ABY_30"
      }
    },
    {
      "cell_type": "code",
      "source": [
        "print(\"last model performance on Test set:\", get_accuracy(test_loader, model))\n",
        "\n",
        "# Once training is done, load the best model (might not be the last model due to early stopping)\n",
        "model.load_state_dict(torch.load(\"./best_model.pt\"))\n",
        "acc = get_accuracy(test_loader, model)\n",
        "print(\"best model performance Test set:\", acc)\n",
        "\n",
        "if enable_wandb:\n",
        "  wandb.summary['Test Accuracy'] = acc.item()"
      ],
      "metadata": {
        "colab": {
          "base_uri": "https://localhost:8080/"
        },
        "id": "SZcL-YL-YcRO",
        "outputId": "7af663bd-3e71-4dca-beaf-9563f9a4ecef"
      },
      "execution_count": 123,
      "outputs": [
        {
          "output_type": "stream",
          "name": "stdout",
          "text": [
            "last model performance on Test set: tensor(0.8191, device='cuda:0')\n",
            "best model performance Test set: tensor(0.8687, device='cuda:0')\n"
          ]
        }
      ]
    },
    {
      "cell_type": "markdown",
      "source": [
        "Test"
      ],
      "metadata": {
        "id": "TLhvpPZ2Nmep"
      }
    },
    {
      "cell_type": "code",
      "source": [
        "if enable_wandb:\n",
        "  wandb.finish()"
      ],
      "metadata": {
        "id": "eWlDbw_cacL6",
        "colab": {
          "base_uri": "https://localhost:8080/",
          "height": 271,
          "referenced_widgets": [
            "ea62a49ef5074ae7b185263731e9b15f",
            "f9e26001696f471696a861a5eb7c2078",
            "2a0b49179c854208b314243df217aed8",
            "2536bd60fb24426584d4b839f7380d38",
            "3118df91046742b1ab043a47d2db32e2",
            "37f25bfc2dbd4b559f6e5d88df4a5c8f",
            "d55e2e2672414822be6817ff78a1208d",
            "d2b384d6b6304312b0b2398dcecd018b"
          ]
        },
        "outputId": "ceffe4f9-0871-41ef-890e-8e09d0a9598a"
      },
      "execution_count": 124,
      "outputs": [
        {
          "output_type": "display_data",
          "data": {
            "text/plain": [
              "VBox(children=(Label(value='0.001 MB of 0.001 MB uploaded\\r'), FloatProgress(value=1.0, max=1.0)))"
            ],
            "application/vnd.jupyter.widget-view+json": {
              "version_major": 2,
              "version_minor": 0,
              "model_id": "ea62a49ef5074ae7b185263731e9b15f"
            }
          },
          "metadata": {}
        },
        {
          "output_type": "display_data",
          "data": {
            "text/plain": [
              "<IPython.core.display.HTML object>"
            ],
            "text/html": [
              "<style>\n",
              "    table.wandb td:nth-child(1) { padding: 0 10px; text-align: left ; width: auto;} td:nth-child(2) {text-align: left ; width: 100%}\n",
              "    .wandb-row { display: flex; flex-direction: row; flex-wrap: wrap; justify-content: flex-start; width: 100% }\n",
              "    .wandb-col { display: flex; flex-direction: column; flex-basis: 100%; flex: 1; padding: 10px; }\n",
              "    </style>\n",
              "<div class=\"wandb-row\"><div class=\"wandb-col\"><h3>Run history:</h3><br/><table class=\"wandb\"><tr><td>epoch</td><td>▁▂▃▅▆▇█</td></tr><tr><td>loss</td><td>▂▁▁▁▁▁▁▁▁▁▁█▁▁▁▁▁▁▁▁▁▁▁▁▁▁▁▁</td></tr><tr><td>train_accuracy</td><td>▅▁▁██▇▅</td></tr><tr><td>val_accuracy</td><td>▅▁▁██▇▅</td></tr></table><br/></div><div class=\"wandb-col\"><h3>Run summary:</h3><br/><table class=\"wandb\"><tr><td>Test Accuracy</td><td>0.8687</td></tr><tr><td>epoch</td><td>7</td></tr><tr><td>loss</td><td>0.68768</td></tr><tr><td>train_accuracy</td><td>0.81506</td></tr><tr><td>val_accuracy</td><td>0.8125</td></tr></table><br/></div></div>"
            ]
          },
          "metadata": {}
        },
        {
          "output_type": "display_data",
          "data": {
            "text/plain": [
              "<IPython.core.display.HTML object>"
            ],
            "text/html": [
              " View run <strong style=\"color:#cdcd00\">experiment_bad</strong> at: <a href='https://wandb.ai/phylonn/First%20PyTorch%20NN/runs/gd71j8ut/workspace' target=\"_blank\">https://wandb.ai/phylonn/First%20PyTorch%20NN/runs/gd71j8ut/workspace</a><br/>Synced 5 W&B file(s), 0 media file(s), 0 artifact file(s) and 0 other file(s)"
            ]
          },
          "metadata": {}
        },
        {
          "output_type": "display_data",
          "data": {
            "text/plain": [
              "<IPython.core.display.HTML object>"
            ],
            "text/html": [
              "Find logs at: <code>./wandb/run-20240403_193404-gd71j8ut/logs</code>"
            ]
          },
          "metadata": {}
        }
      ]
    },
    {
      "cell_type": "markdown",
      "source": [
        "Wandb result (Try it yourself!)\n",
        "\n",
        "![image.png](data:image/png;base64,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)"
      ],
      "metadata": {
        "id": "VWUqfd0aZ8-E"
      }
    },
    {
      "cell_type": "code",
      "source": [],
      "metadata": {
        "id": "yrSodcyVeDwb"
      },
      "execution_count": null,
      "outputs": []
    }
  ]
}