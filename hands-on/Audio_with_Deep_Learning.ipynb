{
  "cells": [
    {
      "cell_type": "markdown",
      "metadata": {
        "id": "view-in-github",
        "colab_type": "text"
      },
      "source": [
        "<a href=\"https://colab.research.google.com/github/elhamod/BA865-2024/blob/main/hands-on/Audio_with_Deep_Learning.ipynb\" target=\"_parent\"><img src=\"https://colab.research.google.com/assets/colab-badge.svg\" alt=\"Open In Colab\"/></a>"
      ]
    },
    {
      "cell_type": "markdown",
      "source": [
        "In this notebook, you will learn how to deal with audio data."
      ],
      "metadata": {
        "id": "_NeFG4VN5scR"
      }
    },
    {
      "cell_type": "code",
      "execution_count": 1,
      "metadata": {
        "id": "wrWNC6CiH7Dd"
      },
      "outputs": [],
      "source": [
        "import os\n",
        "import librosa   #for audio processing\n",
        "import IPython.display as ipd\n",
        "import matplotlib.pyplot as plt\n",
        "import numpy as np\n",
        "import torch\n"
      ]
    },
    {
      "cell_type": "markdown",
      "source": [
        "## Data Downloading"
      ],
      "metadata": {
        "id": "G9RLzr0efzg7"
      }
    },
    {
      "cell_type": "markdown",
      "metadata": {
        "id": "VuKhes1QLe3b"
      },
      "source": [
        "Next, we'll download and unzip the dataset of speech commands from tensorflow: http://download.tensorflow.org/data/speech_commands_v0.01.tar.gz"
      ]
    },
    {
      "cell_type": "markdown",
      "metadata": {
        "id": "4Ve2s44HL6G5"
      },
      "source": [
        "Below we load the data and print the number of examples."
      ]
    },
    {
      "cell_type": "code",
      "execution_count": 2,
      "metadata": {
        "id": "W--i8r_iwMv-"
      },
      "outputs": [],
      "source": [
        "import torch\n",
        "from pathlib import Path\n",
        "\n",
        "def getData(sampling=16000, use_MFCC=True, n_mfcc=12, number_of_samples={'yes':2000, 'no': 2000}, noise=.0, normalize=True):\n",
        "  #download the data\n",
        "  my_file = Path(\"/content/speech_commands/\")\n",
        "  if not my_file.exists():\n",
        "    !wget http://download.tensorflow.org/data/speech_commands_v0.01.tar.gz\n",
        "    !mkdir speech_commands\n",
        "    !tar -C ./speech_commands -xf speech_commands_v0.01.tar.gz\n",
        "\n",
        "  directory = 'speech_commands/'\n",
        "  all_wavs = [] # The inputs\n",
        "  all_labs = [] # The outputs\n",
        "\n",
        "  # create the dataset as arrays\n",
        "  for label in number_of_samples.keys():\n",
        "      wavs = [f for f in os.listdir(directory + label) if f.endswith('.wav')]\n",
        "      for indx, wav in enumerate(wavs):\n",
        "          samples, sample_rate = librosa.load(directory + label + '/' + wav, sr = 16000)\n",
        "          samples = librosa.resample(samples, orig_sr=16000, target_sr=sampling) # Resamples the audio to possibly lower sampling rate: https://librosa.org/doc/main/generated/librosa.resample.html\n",
        "\n",
        "          if noise != 0:\n",
        "            samples = samples+noise*np.random.randn(*samples.shape)\n",
        "            samples = samples/max(samples)\n",
        "\n",
        "          if number_of_samples[label] > indx:\n",
        "            if(len(samples)== sampling): # makes sure all samples have the same length\n",
        "                all_wavs.append(samples)\n",
        "                all_labs.append(label)\n",
        "\n",
        "  # applying MFCC\n",
        "  if use_MFCC:\n",
        "    all_wavs = librosa.feature.mfcc(y=np.array(all_wavs), sr=sampling, n_mfcc=n_mfcc)\n",
        "  else:\n",
        "    all_wavs = np.array(all_wavs)\n",
        "\n",
        "  all_wavs = torch.tensor(all_wavs).float()\n",
        "  if not use_MFCC:\n",
        "    all_wavs = all_wavs.unsqueeze(-1)\n",
        "\n",
        "  # Output encoding\n",
        "  from sklearn.preprocessing import LabelEncoder\n",
        "  le = LabelEncoder()\n",
        "  all_labs_encoded = le.fit_transform(all_labs)\n",
        "  all_labs_encoded = torch.LongTensor(all_labs_encoded)\n",
        "\n",
        "  print(\"Total number of samples:\", len(all_wavs))\n",
        "\n",
        "  return all_wavs, all_labs_encoded"
      ]
    },
    {
      "cell_type": "code",
      "source": [
        "### Some data parameters\n",
        "\n",
        "# Sampling (lower means less crisp audio)\n",
        "sampling = 400 # Sampling rate (e.g., 16000). Smaller (e.g., 400 seems to work better)\n",
        "\n",
        "# MelSpectogram params: convert raw data to frequency domain\n",
        "use_MFCC = False\n",
        "n_mfcc = 12 # input audio data size (higher -> more crisp sound) (e.g. 12)\n",
        "\n",
        "# Other data params\n",
        "number_of_samples = {'yes':2000, 'no': 2000} # We will try to classify between two classes. This defines the number of samples per class.\n",
        "noise = 0. # If not zero, it makes the audio proportionally noisier (range: 0-1)"
      ],
      "metadata": {
        "id": "m95VlOgmhuta"
      },
      "execution_count": 3,
      "outputs": []
    },
    {
      "cell_type": "code",
      "source": [
        "audio_data, audio_label = getData(sampling=sampling, use_MFCC=use_MFCC, n_mfcc=n_mfcc, number_of_samples=number_of_samples, noise=noise)"
      ],
      "metadata": {
        "colab": {
          "base_uri": "https://localhost:8080/"
        },
        "id": "Psegm255h0S4",
        "outputId": "0eae35fe-cd9f-47d0-c42b-e34b850857e1"
      },
      "execution_count": 4,
      "outputs": [
        {
          "output_type": "stream",
          "name": "stdout",
          "text": [
            "--2024-04-23 18:28:09--  http://download.tensorflow.org/data/speech_commands_v0.01.tar.gz\n",
            "Resolving download.tensorflow.org (download.tensorflow.org)... 74.125.196.207, 142.250.98.207, 142.251.162.207, ...\n",
            "Connecting to download.tensorflow.org (download.tensorflow.org)|74.125.196.207|:80... connected.\n",
            "HTTP request sent, awaiting response... 200 OK\n",
            "Length: 1489096277 (1.4G) [application/gzip]\n",
            "Saving to: ‘speech_commands_v0.01.tar.gz’\n",
            "\n",
            "speech_commands_v0. 100%[===================>]   1.39G  95.9MB/s    in 16s     \n",
            "\n",
            "2024-04-23 18:28:25 (89.7 MB/s) - ‘speech_commands_v0.01.tar.gz’ saved [1489096277/1489096277]\n",
            "\n",
            "Total number of samples: 3587\n"
          ]
        }
      ]
    },
    {
      "cell_type": "code",
      "source": [
        "audio_data.shape"
      ],
      "metadata": {
        "colab": {
          "base_uri": "https://localhost:8080/"
        },
        "id": "JgHn5oNWQ98E",
        "outputId": "14cc695f-3083-4fc2-8c8a-38b9fe25ee89"
      },
      "execution_count": 5,
      "outputs": [
        {
          "output_type": "execute_result",
          "data": {
            "text/plain": [
              "torch.Size([3587, 400, 1])"
            ]
          },
          "metadata": {},
          "execution_count": 5
        }
      ]
    },
    {
      "cell_type": "markdown",
      "source": [
        "Playing an example"
      ],
      "metadata": {
        "id": "TwBNZm9sjqHd"
      }
    },
    {
      "cell_type": "code",
      "source": [
        "indx_to_play = 0\n",
        "\n",
        "# Only works if MFCC is not used (i.e., only works with raw audio). It also won't work if the sampling rate is too low (i.e., less than 4000).\n",
        "print(audio_label[indx_to_play].item())\n",
        "ipd.Audio(audio_data[indx_to_play].squeeze(),rate=sampling,autoplay=True)"
      ],
      "metadata": {
        "id": "07nTwEDIkJJX",
        "colab": {
          "base_uri": "https://localhost:8080/",
          "height": 93
        },
        "outputId": "1a687009-2cbf-47f8-a322-6ce4e59ff334"
      },
      "execution_count": 6,
      "outputs": [
        {
          "output_type": "stream",
          "name": "stdout",
          "text": [
            "1\n"
          ]
        },
        {
          "output_type": "execute_result",
          "data": {
            "text/plain": [
              "<IPython.lib.display.Audio object>"
            ],
            "text/html": [
              "\n",
              "                <audio  controls=\"controls\" autoplay=\"autoplay\">\n",
              "                    <source src=\"data:audio/wav;base64,UklGRkQDAABXQVZFZm10IBAAAAABAAEAkAEAACADAAACABAAZGF0YSADAADj/w8ANwA5ANz/kf8XAE8A6/+T/3EA/f/u/0kAo/8wACIAyf8RAL7/GQAAAN//PgDu/9T/HAA+AN//JwDk/+f/+v/i/xQAEwAfAOP/2P+8/6QAuP8TAOf/JgC1/08Asf8fAO7/cgC5/wIAsv8eADYAMgBPANj+WABM//YAcf9zAUz+NAE6/t0Bgv7uAYT+bAGC/s4AJ//UAPv/AwAgAJv+4gEH/t4CUfylBGL6cwZ7+FMIvvZnCoD2vQkD9sgCPwiJ5VYjn/q336wQpwfp3Yw5XNnQ9/bzHh16/oTU91lgu5bbomcx4qjn0f6IDgY1PIw5KNI6Ne1mxVYabW8gzSXAEzEkVrWrUc/3X2ol843xBv9/z/hInGYrs0/Yy1XAdkVAXTGYf9CAedEYTIQKDyxzyevBkLspN22owpqZwFEOS1yRaNPxc/sh4YFAAwV3rN5NiGNTMl7FmgzL931pG3+P0g3UcGfJJKVwUxQoN63x4+Fk/+xCywP9NDzUEOrPYhKjEuT6xOorDO8CRQUz+8H7egCBBIj+iAJUAVj+vP8T/r0BhQEKAoX+CQDr/GwBKgGUASIBYQCQ/TH+CgFgATEAdgFr/jj/aP5hAOUAnQHMAIv+2v7D/kgArgJjAZj+B/9c/l0AMAKRAcn/pf5l/sv/QQCDAdsA3v83/4H/rf8qACEBKgGnAC//J/7p/xgCgAFNAM7+x/7//tz/uAGpAR0A5f5m/kf/pwACAcYA+v/7/kL++/+MAbsBdgBp/jD/3v41//wAkQGnAIX/bv4k/xsAewHFASUAuv6T/XL/fwEbAsIAxv5v/kL/GwAbAVgBxwBh/yH/Q//3/hQBNgIr/y7/Wf/x/jYAJgLFAAH/Xf9S/x4AiQCnAWf+FQDFABz/PgDw/0wAPwBw/+b/UQDW/x8A0wAmAFj/IACn/9T/+gABANX/BgCg/un/3wBZAdL/3f5l/5D/1P+/ABUBVAAD/4j/m/8RAOYABwAOAGz/2f8v/4cA1AAqAHb/0v/X/+P/KgAlAHMAf/80ADMAAAAsAEoAFgBBAG3/HQDq/yYAVwC+/w==\" type=\"audio/wav\" />\n",
              "                    Your browser does not support the audio element.\n",
              "                </audio>\n",
              "              "
            ]
          },
          "metadata": {},
          "execution_count": 6
        }
      ]
    },
    {
      "cell_type": "markdown",
      "source": [
        "## Build the model"
      ],
      "metadata": {
        "id": "UlP7n2lElCku"
      }
    },
    {
      "cell_type": "code",
      "source": [
        "def get_accuracy(dataloader, model):\n",
        "  acc = 0\n",
        "\n",
        "  with torch.no_grad():\n",
        "      for audios, labels in dataloader:\n",
        "          if use_cuda:\n",
        "            audios = audios.cuda()\n",
        "            labels = labels.cuda()\n",
        "\n",
        "          outputs = model(audios)\n",
        "\n",
        "          # Update accuracy for this batch\n",
        "          acc = acc + torch.sum(torch.argmax(outputs, axis=1) == labels)\n",
        "\n",
        "\n",
        "      # Compute the accuracy\n",
        "      acc = acc/len(dataloader.dataset) # normalizes\n",
        "\n",
        "      return acc\n"
      ],
      "metadata": {
        "id": "QfscuLA3gqS6"
      },
      "execution_count": 7,
      "outputs": []
    },
    {
      "cell_type": "code",
      "source": [
        "\n",
        "def get_loss(loader):\n",
        "  with torch.no_grad(): # Anything under torch.no_grad will be calculated with no gradients. Can only be used for testing, not training!\n",
        "\n",
        "    loss = 0\n",
        "    for i, (audios, labels) in enumerate(loader): # The batches.\n",
        "          # step1: Move data to cuda. Make sure the model is on cuda too!\n",
        "          if use_cuda:\n",
        "            audios = audios.cuda()\n",
        "            labels = labels.cuda()\n",
        "\n",
        "          # step2: Forward pass\n",
        "          outputs = model(audios)\n",
        "\n",
        "          # step 3: calculate the loss.\n",
        "          loss = loss + audios.shape[0] * criterion(outputs, labels.view(-1))\n",
        "    return loss/ len(loader.dataset)"
      ],
      "metadata": {
        "id": "SWGM2CTe661x"
      },
      "execution_count": 8,
      "outputs": []
    },
    {
      "cell_type": "code",
      "source": [
        "import torch\n",
        "import torch.nn as nn\n",
        "import torch.nn.functional as F\n",
        "import torch.optim as optim\n",
        "from torch.utils.data import DataLoader, Dataset\n",
        "\n",
        "class CNNClassifier(nn.Module):\n",
        "    def __init__(self, num_classes):\n",
        "        super(CNNClassifier, self).__init__()\n",
        "        self.conv1 = nn.Conv1d(in_channels=1, out_channels=16, kernel_size=10, stride=2, padding=1)\n",
        "        self.bn1 = nn.BatchNorm1d(16)\n",
        "\n",
        "        self.conv2 = nn.Conv1d(in_channels=16, out_channels=32, kernel_size=5, stride=2, padding=1)\n",
        "        self.bn2 = nn.BatchNorm1d(32)\n",
        "\n",
        "        self.conv3 = nn.Conv1d(in_channels=32, out_channels=64, kernel_size=2, stride=2, padding=1)\n",
        "        self.bn3 = nn.BatchNorm1d(64)\n",
        "\n",
        "        linear_in_size = 3200 # will be different for different sequence lengths, which is a drawback of CNNs compared to RNNs.\n",
        "        self.fc2 = nn.Linear(linear_in_size, num_classes)\n",
        "\n",
        "    def forward(self, x):\n",
        "        x = x.transpose(1, 2)\n",
        "        x = F.relu(self.bn1(self.conv1(x)))\n",
        "        x = F.relu(self.bn2(self.conv2(x)))\n",
        "        x = F.relu(self.bn3(self.conv3(x)))\n",
        "        x = torch.flatten(x, 1)  # Flatten the tensor for the fully connected layer\n",
        "        x = self.fc2(x)\n",
        "        return x"
      ],
      "metadata": {
        "id": "oyweDVCSm5Bj"
      },
      "execution_count": 9,
      "outputs": []
    },
    {
      "cell_type": "code",
      "source": [
        "import torch\n",
        "import torch.nn as nn\n",
        "\n",
        "# The following model uses LSTMs: https://pytorch.org/docs/stable/generated/torch.nn.LSTM.html\n",
        "## LSTMs are very similar to vanilla RNNs but with better convergence properties.\n",
        "class LSTM_model(nn.Module):\n",
        "    def __init__(self, input_size, hidden_size, num_layers, output_size, bidirectional=False):\n",
        "        super(LSTM_model, self).__init__()\n",
        "        self.bidirectional = bidirectional\n",
        "        self.hidden_size = hidden_size\n",
        "\n",
        "        self.lstm1 = nn.LSTM(input_size, hidden_size, num_layers, bidirectional=bidirectional, batch_first=True)\n",
        "        self.fc1 = nn.Linear((2 if self.bidirectional else 1)*self.hidden_size, 10)\n",
        "        self.fc2 = nn.Linear(10, output_size)\n",
        "\n",
        "    def forward(self, x):\n",
        "        x, (h, c) = self.lstm1(x)\n",
        "        h = torch.permute(h, (1,0,2)) # Put the batch dimension first.\n",
        "\n",
        "        # take the embedding of the last layer.\n",
        "        if self.bidirectional:\n",
        "          h = h[:, -2:, :].reshape((-1, 2*self.hidden_size)) # if bidirectional, the size is twice as large\n",
        "        else:\n",
        "          h = h[:, -1, :]\n",
        "\n",
        "        x = self.fc1(h)\n",
        "        x = self.fc2(x)\n",
        "        return x\n"
      ],
      "metadata": {
        "id": "PPmOHGi30U93"
      },
      "execution_count": 10,
      "outputs": []
    },
    {
      "cell_type": "markdown",
      "source": [
        "##Training"
      ],
      "metadata": {
        "id": "n4jUJYKIk8u7"
      }
    },
    {
      "cell_type": "markdown",
      "source": [
        "In the next section, you will define your experiment's parameters and model's hyperparameters as flags here. Use these flags in your code so you can switch between experiemnts easily."
      ],
      "metadata": {
        "id": "iUhXt_QMmKkx"
      }
    },
    {
      "cell_type": "code",
      "source": [
        "use_cuda = torch.cuda.is_available()\n",
        "\n",
        "# Data\n",
        "batch_size = 32 #(e.g., 32)\n",
        "\n",
        "# optimizer\n",
        "lr= 1e-3\n",
        "epochs=200\n",
        "\n",
        "# model\n",
        "model_name = \"RNN\" #\"CNN\" # \"RNN\"\n",
        "hidden_size = 50 # hn for the RNN (or LSTM) (e.g., 10)\n",
        "num_layers = 3 # Number of layers for RNN (or LSTM) (e.g. 3)"
      ],
      "metadata": {
        "id": "dpIXwE4dk7ja"
      },
      "execution_count": 11,
      "outputs": []
    },
    {
      "cell_type": "code",
      "source": [
        "audio_data.shape"
      ],
      "metadata": {
        "colab": {
          "base_uri": "https://localhost:8080/"
        },
        "id": "1vxsw0FHfZ2O",
        "outputId": "a65c9d45-bd25-42b9-b6fb-168eb86bcb5e"
      },
      "execution_count": 12,
      "outputs": [
        {
          "output_type": "execute_result",
          "data": {
            "text/plain": [
              "torch.Size([3587, 400, 1])"
            ]
          },
          "metadata": {},
          "execution_count": 12
        }
      ]
    },
    {
      "cell_type": "markdown",
      "source": [
        "### Data Loading"
      ],
      "metadata": {
        "id": "fnJHcf0jldqX"
      }
    },
    {
      "cell_type": "code",
      "source": [
        "from torch.utils.data import DataLoader\n",
        "import torch\n",
        "from torchvision import transforms\n",
        "\n",
        "def getDataLoaders(audio_data, audio_label, batch_size):\n",
        "  # # normalization\n",
        "  audio_data_mean = audio_data.mean(1).unsqueeze(1)\n",
        "  audio_data_std = audio_data.std(1).unsqueeze(1)\n",
        "  audio_data_transformed = (audio_data - audio_data_mean)/ audio_data_std\n",
        "\n",
        "  hist = torch.histogram(audio_data_transformed)\n",
        "\n",
        "  plt.plot(hist.bin_edges[:-1], hist.hist, color=\"r\")\n",
        "\n",
        "\n",
        "  # Load the data loaders\n",
        "  my_dataset = torch.utils.data.TensorDataset(audio_data_transformed, audio_label)\n",
        "  train_set, val_set = torch.utils.data.random_split(my_dataset, [0.8, 0.2])\n",
        "\n",
        "  train_loader = DataLoader(dataset=train_set, batch_size=batch_size,  shuffle=True)\n",
        "  val_loader = DataLoader(dataset=val_set, batch_size=batch_size,  shuffle=False)\n",
        "\n",
        "  return train_loader, train_set, val_loader, val_set"
      ],
      "metadata": {
        "id": "LJw3mv-blhFP"
      },
      "execution_count": 13,
      "outputs": []
    },
    {
      "cell_type": "code",
      "source": [
        "train_loader, train_set, val_loader, val_set = getDataLoaders(audio_data, audio_label, batch_size)"
      ],
      "metadata": {
        "colab": {
          "base_uri": "https://localhost:8080/",
          "height": 430
        },
        "id": "pzRjvKvFhusE",
        "outputId": "c112ffef-ab07-4f5e-d5b9-61686fd232dc"
      },
      "execution_count": 14,
      "outputs": [
        {
          "output_type": "display_data",
          "data": {
            "text/plain": [
              "<Figure size 640x480 with 1 Axes>"
            ],
            "image/png": "[encoded data removed]"
          },
          "metadata": {}
        }
      ]
    },
    {
      "cell_type": "markdown",
      "source": [
        "The data is properly scaled."
      ],
      "metadata": {
        "id": "kS0J1ilcOKCa"
      }
    },
    {
      "cell_type": "markdown",
      "source": [
        "Here is the sample's shape for confirmation."
      ],
      "metadata": {
        "id": "useKDwACOE0H"
      }
    },
    {
      "cell_type": "code",
      "source": [
        "train_set[0][0].shape"
      ],
      "metadata": {
        "colab": {
          "base_uri": "https://localhost:8080/"
        },
        "id": "msPwdpjyQUaT",
        "outputId": "59669d30-f5c3-4efd-e4a1-a0e4b2aa6db3"
      },
      "execution_count": 15,
      "outputs": [
        {
          "output_type": "execute_result",
          "data": {
            "text/plain": [
              "torch.Size([400, 1])"
            ]
          },
          "metadata": {},
          "execution_count": 15
        }
      ]
    },
    {
      "cell_type": "markdown",
      "source": [
        "## Classification"
      ],
      "metadata": {
        "id": "5MEEKaylltRg"
      }
    },
    {
      "cell_type": "code",
      "source": [
        "!pip install torchinfo"
      ],
      "metadata": {
        "id": "uJjkVm7etf9Z",
        "colab": {
          "base_uri": "https://localhost:8080/"
        },
        "outputId": "98f49906-3657-4792-efb0-ad0c3ca1df72"
      },
      "execution_count": 16,
      "outputs": [
        {
          "output_type": "stream",
          "name": "stdout",
          "text": [
            "Collecting torchinfo\n",
            "  Downloading torchinfo-1.8.0-py3-none-any.whl (23 kB)\n",
            "Installing collected packages: torchinfo\n",
            "Successfully installed torchinfo-1.8.0\n"
          ]
        }
      ]
    },
    {
      "cell_type": "code",
      "source": [
        "import torch\n",
        "import torch.nn as nn\n",
        "import torch.nn.functional as F\n",
        "from torchinfo import summary\n",
        "\n",
        "# Create an instance of the RNN classification model\n",
        "input_size = train_set[0][0].shape[-1]\n",
        "num_classes = 2\n",
        "\n",
        "if model_name == \"RNN\":\n",
        "  model = LSTM_model(input_size, hidden_size, num_layers, num_classes)\n",
        "elif model_name == \"CNN\" and use_MFCC==False:\n",
        "  model = CNNClassifier(num_classes)\n",
        "else:\n",
        "  raise \"Model not found\"\n",
        "\n",
        "print(model)\n",
        "print(summary(model, train_set[0][0].unsqueeze(0).shape))\n",
        "\n",
        "\n",
        "if use_cuda:\n",
        "  model = model.cuda()\n",
        "\n",
        "import torch.optim as optim\n",
        "optimizer = optim.Adam(model.parameters(), lr=lr)\n",
        "criterion = nn.CrossEntropyLoss()\n",
        "scheduler = optim.lr_scheduler.ReduceLROnPlateau(optimizer, patience=20, factor=0.9) #(e.g., factor=0.5)\n",
        "\n",
        "best_val_acc = 0\n",
        "for epoch in range(epochs): # The epochs.\n",
        "    for i, (audios, labels) in enumerate(train_loader): # The batches.\n",
        "        # step 1: Zero out the gradients.\n",
        "        optimizer.zero_grad()\n",
        "\n",
        "        # step 1.1 move data to cuda. Make sure the model is on cuda too!\n",
        "        if use_cuda:\n",
        "          audios = audios.cuda()\n",
        "          labels = labels.cuda()\n",
        "\n",
        "\n",
        "        # step2: Forward pass\n",
        "        outputs = model(audios)\n",
        "\n",
        "        # step 3: calculate the loss.\n",
        "        loss = criterion(outputs, labels.view(-1))\n",
        "\n",
        "        # step 4: Backward pass\n",
        "        loss.backward()\n",
        "\n",
        "        # torch.nn.utils.clip_grad_norm_(model.parameters(), max_norm=5.0) # You could add gradient clipping to fight an exploding gradient problem.\n",
        "        optimizer.step()\n",
        "\n",
        "    scheduler.step(get_loss(val_loader))\n",
        "\n",
        "    if epoch %1 == 0:\n",
        "      current_val_acc = get_accuracy(val_loader,model).item()\n",
        "      if current_val_acc > best_val_acc:\n",
        "        best_val_acc = current_val_acc\n",
        "      current_train_acc = get_accuracy(train_loader,model).item()\n",
        "      print(f\"Epoch {epoch + 1} - acc: {current_train_acc:.4f}, best_val_acc: {best_val_acc:.4f}\")\n",
        "\n",
        "\n",
        "\n",
        "\n"
      ],
      "metadata": {
        "colab": {
          "base_uri": "https://localhost:8080/"
        },
        "id": "sGjuLFl0TTYj",
        "outputId": "45315361-57d3-4a34-eaca-529c6b1f1d75"
      },
      "execution_count": 17,
      "outputs": [
        {
          "output_type": "stream",
          "name": "stdout",
          "text": [
            "LSTM_model(\n",
            "  (lstm1): LSTM(1, 50, num_layers=3, batch_first=True)\n",
            "  (fc1): Linear(in_features=50, out_features=10, bias=True)\n",
            "  (fc2): Linear(in_features=10, out_features=2, bias=True)\n",
            ")\n",
            "==========================================================================================\n",
            "Layer (type:depth-idx)                   Output Shape              Param #\n",
            "==========================================================================================\n",
            "LSTM_model                               [1, 2]                    --\n",
            "├─LSTM: 1-1                              [1, 400, 50]              51,400\n",
            "├─Linear: 1-2                            [1, 10]                   510\n",
            "├─Linear: 1-3                            [1, 2]                    22\n",
            "==========================================================================================\n",
            "Total params: 51,932\n",
            "Trainable params: 51,932\n",
            "Non-trainable params: 0\n",
            "Total mult-adds (M): 20.56\n",
            "==========================================================================================\n",
            "Input size (MB): 0.00\n",
            "Forward/backward pass size (MB): 0.16\n",
            "Params size (MB): 0.21\n",
            "Estimated Total Size (MB): 0.37\n",
            "==========================================================================================\n",
            "Epoch 1 - acc: 0.5031, best_val_acc: 0.5286\n",
            "Epoch 2 - acc: 0.5031, best_val_acc: 0.5286\n",
            "Epoch 3 - acc: 0.5031, best_val_acc: 0.5286\n",
            "Epoch 4 - acc: 0.5031, best_val_acc: 0.5286\n",
            "Epoch 5 - acc: 0.5031, best_val_acc: 0.5286\n",
            "Epoch 6 - acc: 0.5031, best_val_acc: 0.5286\n",
            "Epoch 7 - acc: 0.5031, best_val_acc: 0.5286\n",
            "Epoch 8 - acc: 0.5031, best_val_acc: 0.5286\n",
            "Epoch 9 - acc: 0.5031, best_val_acc: 0.5286\n",
            "Epoch 10 - acc: 0.5031, best_val_acc: 0.5286\n",
            "Epoch 11 - acc: 0.5024, best_val_acc: 0.5286\n",
            "Epoch 12 - acc: 0.5031, best_val_acc: 0.5286\n",
            "Epoch 13 - acc: 0.5052, best_val_acc: 0.5286\n",
            "Epoch 14 - acc: 0.5077, best_val_acc: 0.5286\n",
            "Epoch 15 - acc: 0.5031, best_val_acc: 0.5286\n",
            "Epoch 16 - acc: 0.5073, best_val_acc: 0.5286\n",
            "Epoch 17 - acc: 0.5115, best_val_acc: 0.5286\n",
            "Epoch 18 - acc: 0.5213, best_val_acc: 0.5286\n",
            "Epoch 19 - acc: 0.5265, best_val_acc: 0.5286\n",
            "Epoch 20 - acc: 0.5178, best_val_acc: 0.5328\n",
            "Epoch 21 - acc: 0.5181, best_val_acc: 0.5328\n",
            "Epoch 22 - acc: 0.5251, best_val_acc: 0.5328\n",
            "Epoch 23 - acc: 0.5226, best_val_acc: 0.5328\n",
            "Epoch 24 - acc: 0.5185, best_val_acc: 0.5328\n",
            "Epoch 25 - acc: 0.5279, best_val_acc: 0.5328\n",
            "Epoch 26 - acc: 0.5192, best_val_acc: 0.5342\n",
            "Epoch 27 - acc: 0.5321, best_val_acc: 0.5342\n",
            "Epoch 28 - acc: 0.5369, best_val_acc: 0.5342\n",
            "Epoch 29 - acc: 0.5317, best_val_acc: 0.5342\n",
            "Epoch 30 - acc: 0.5380, best_val_acc: 0.5342\n",
            "Epoch 31 - acc: 0.5289, best_val_acc: 0.5342\n",
            "Epoch 32 - acc: 0.5411, best_val_acc: 0.5342\n",
            "Epoch 33 - acc: 0.5404, best_val_acc: 0.5342\n",
            "Epoch 34 - acc: 0.5300, best_val_acc: 0.5342\n",
            "Epoch 35 - acc: 0.5348, best_val_acc: 0.5342\n",
            "Epoch 36 - acc: 0.5300, best_val_acc: 0.5342\n",
            "Epoch 37 - acc: 0.5362, best_val_acc: 0.5342\n",
            "Epoch 38 - acc: 0.5314, best_val_acc: 0.5342\n",
            "Epoch 39 - acc: 0.5352, best_val_acc: 0.5342\n",
            "Epoch 40 - acc: 0.5369, best_val_acc: 0.5342\n",
            "Epoch 41 - acc: 0.5317, best_val_acc: 0.5342\n",
            "Epoch 42 - acc: 0.5352, best_val_acc: 0.5342\n",
            "Epoch 43 - acc: 0.5404, best_val_acc: 0.5342\n",
            "Epoch 44 - acc: 0.5436, best_val_acc: 0.5342\n",
            "Epoch 45 - acc: 0.5376, best_val_acc: 0.5342\n",
            "Epoch 46 - acc: 0.5491, best_val_acc: 0.5342\n",
            "Epoch 47 - acc: 0.5519, best_val_acc: 0.5342\n",
            "Epoch 48 - acc: 0.5432, best_val_acc: 0.5342\n",
            "Epoch 49 - acc: 0.5596, best_val_acc: 0.5342\n",
            "Epoch 50 - acc: 0.5481, best_val_acc: 0.5342\n",
            "Epoch 51 - acc: 0.5578, best_val_acc: 0.5342\n",
            "Epoch 52 - acc: 0.5589, best_val_acc: 0.5342\n",
            "Epoch 53 - acc: 0.5551, best_val_acc: 0.5342\n",
            "Epoch 54 - acc: 0.5585, best_val_acc: 0.5342\n",
            "Epoch 55 - acc: 0.5725, best_val_acc: 0.5342\n",
            "Epoch 56 - acc: 0.5662, best_val_acc: 0.5342\n",
            "Epoch 57 - acc: 0.5784, best_val_acc: 0.5342\n",
            "Epoch 58 - acc: 0.5819, best_val_acc: 0.5342\n",
            "Epoch 59 - acc: 0.5861, best_val_acc: 0.5342\n",
            "Epoch 60 - acc: 0.5746, best_val_acc: 0.5342\n",
            "Epoch 61 - acc: 0.5564, best_val_acc: 0.5342\n",
            "Epoch 62 - acc: 0.5798, best_val_acc: 0.5342\n",
            "Epoch 63 - acc: 0.5934, best_val_acc: 0.5342\n",
            "Epoch 64 - acc: 0.5868, best_val_acc: 0.5342\n",
            "Epoch 65 - acc: 0.5516, best_val_acc: 0.5342\n",
            "Epoch 66 - acc: 0.5801, best_val_acc: 0.5342\n",
            "Epoch 67 - acc: 0.5815, best_val_acc: 0.5342\n",
            "Epoch 68 - acc: 0.5878, best_val_acc: 0.5342\n",
            "Epoch 69 - acc: 0.5906, best_val_acc: 0.5342\n",
            "Epoch 70 - acc: 0.6014, best_val_acc: 0.5342\n",
            "Epoch 71 - acc: 0.6167, best_val_acc: 0.5467\n",
            "Epoch 72 - acc: 0.6084, best_val_acc: 0.5467\n",
            "Epoch 73 - acc: 0.6139, best_val_acc: 0.5523\n",
            "Epoch 74 - acc: 0.5899, best_val_acc: 0.5523\n",
            "Epoch 75 - acc: 0.5882, best_val_acc: 0.5523\n",
            "Epoch 76 - acc: 0.6146, best_val_acc: 0.5523\n",
            "Epoch 77 - acc: 0.5976, best_val_acc: 0.5523\n",
            "Epoch 78 - acc: 0.6160, best_val_acc: 0.5523\n",
            "Epoch 79 - acc: 0.6213, best_val_acc: 0.5523\n",
            "Epoch 80 - acc: 0.6993, best_val_acc: 0.6248\n",
            "Epoch 81 - acc: 0.7268, best_val_acc: 0.6430\n",
            "Epoch 82 - acc: 0.7505, best_val_acc: 0.6932\n",
            "Epoch 83 - acc: 0.7756, best_val_acc: 0.6932\n",
            "Epoch 84 - acc: 0.7920, best_val_acc: 0.6932\n",
            "Epoch 85 - acc: 0.7718, best_val_acc: 0.6946\n",
            "Epoch 86 - acc: 0.8052, best_val_acc: 0.7043\n",
            "Epoch 87 - acc: 0.7962, best_val_acc: 0.7043\n",
            "Epoch 88 - acc: 0.7871, best_val_acc: 0.7043\n",
            "Epoch 89 - acc: 0.8108, best_val_acc: 0.7057\n",
            "Epoch 90 - acc: 0.8150, best_val_acc: 0.7099\n",
            "Epoch 91 - acc: 0.8293, best_val_acc: 0.7099\n",
            "Epoch 92 - acc: 0.8195, best_val_acc: 0.7099\n",
            "Epoch 93 - acc: 0.8164, best_val_acc: 0.7099\n",
            "Epoch 94 - acc: 0.8359, best_val_acc: 0.7127\n",
            "Epoch 95 - acc: 0.8188, best_val_acc: 0.7127\n",
            "Epoch 96 - acc: 0.7704, best_val_acc: 0.7127\n",
            "Epoch 97 - acc: 0.8254, best_val_acc: 0.7127\n",
            "Epoch 98 - acc: 0.8272, best_val_acc: 0.7127\n",
            "Epoch 99 - acc: 0.8394, best_val_acc: 0.7127\n",
            "Epoch 100 - acc: 0.8171, best_val_acc: 0.7127\n",
            "Epoch 101 - acc: 0.8059, best_val_acc: 0.7127\n",
            "Epoch 102 - acc: 0.8408, best_val_acc: 0.7127\n",
            "Epoch 103 - acc: 0.8429, best_val_acc: 0.7127\n",
            "Epoch 104 - acc: 0.8449, best_val_acc: 0.7127\n",
            "Epoch 105 - acc: 0.8481, best_val_acc: 0.7127\n",
            "Epoch 106 - acc: 0.8456, best_val_acc: 0.7127\n",
            "Epoch 107 - acc: 0.8540, best_val_acc: 0.7127\n",
            "Epoch 108 - acc: 0.8575, best_val_acc: 0.7127\n",
            "Epoch 109 - acc: 0.8659, best_val_acc: 0.7127\n",
            "Epoch 110 - acc: 0.8467, best_val_acc: 0.7127\n",
            "Epoch 111 - acc: 0.8833, best_val_acc: 0.7127\n",
            "Epoch 112 - acc: 0.8610, best_val_acc: 0.7127\n",
            "Epoch 113 - acc: 0.8425, best_val_acc: 0.7169\n",
            "Epoch 114 - acc: 0.8808, best_val_acc: 0.7169\n",
            "Epoch 115 - acc: 0.8969, best_val_acc: 0.7169\n",
            "Epoch 116 - acc: 0.8951, best_val_acc: 0.7169\n",
            "Epoch 117 - acc: 0.8934, best_val_acc: 0.7169\n",
            "Epoch 118 - acc: 0.9014, best_val_acc: 0.7169\n",
            "Epoch 119 - acc: 0.8927, best_val_acc: 0.7169\n",
            "Epoch 120 - acc: 0.8895, best_val_acc: 0.7169\n",
            "Epoch 121 - acc: 0.8711, best_val_acc: 0.7169\n",
            "Epoch 122 - acc: 0.9007, best_val_acc: 0.7169\n",
            "Epoch 123 - acc: 0.8997, best_val_acc: 0.7169\n",
            "Epoch 124 - acc: 0.9150, best_val_acc: 0.7169\n",
            "Epoch 125 - acc: 0.9202, best_val_acc: 0.7169\n",
            "Epoch 126 - acc: 0.9209, best_val_acc: 0.7169\n",
            "Epoch 127 - acc: 0.9153, best_val_acc: 0.7169\n",
            "Epoch 128 - acc: 0.9073, best_val_acc: 0.7169\n",
            "Epoch 129 - acc: 0.8871, best_val_acc: 0.7169\n",
            "Epoch 130 - acc: 0.9226, best_val_acc: 0.7169\n",
            "Epoch 131 - acc: 0.9045, best_val_acc: 0.7169\n",
            "Epoch 132 - acc: 0.9300, best_val_acc: 0.7169\n",
            "Epoch 133 - acc: 0.9310, best_val_acc: 0.7169\n",
            "Epoch 134 - acc: 0.9373, best_val_acc: 0.7169\n",
            "Epoch 135 - acc: 0.9488, best_val_acc: 0.7169\n",
            "Epoch 136 - acc: 0.9456, best_val_acc: 0.7169\n",
            "Epoch 137 - acc: 0.9477, best_val_acc: 0.7169\n",
            "Epoch 138 - acc: 0.9390, best_val_acc: 0.7169\n",
            "Epoch 139 - acc: 0.9544, best_val_acc: 0.7169\n",
            "Epoch 140 - acc: 0.9547, best_val_acc: 0.7169\n",
            "Epoch 141 - acc: 0.9564, best_val_acc: 0.7169\n",
            "Epoch 142 - acc: 0.9341, best_val_acc: 0.7169\n",
            "Epoch 143 - acc: 0.9415, best_val_acc: 0.7169\n",
            "Epoch 144 - acc: 0.9603, best_val_acc: 0.7169\n",
            "Epoch 145 - acc: 0.9624, best_val_acc: 0.7169\n",
            "Epoch 146 - acc: 0.9554, best_val_acc: 0.7169\n",
            "Epoch 147 - acc: 0.9199, best_val_acc: 0.7169\n",
            "Epoch 148 - acc: 0.9624, best_val_acc: 0.7169\n",
            "Epoch 149 - acc: 0.9272, best_val_acc: 0.7169\n",
            "Epoch 150 - acc: 0.9484, best_val_acc: 0.7169\n",
            "Epoch 151 - acc: 0.9488, best_val_acc: 0.7169\n",
            "Epoch 152 - acc: 0.9620, best_val_acc: 0.7169\n",
            "Epoch 153 - acc: 0.8889, best_val_acc: 0.7169\n",
            "Epoch 154 - acc: 0.9564, best_val_acc: 0.7169\n",
            "Epoch 155 - acc: 0.9557, best_val_acc: 0.7169\n",
            "Epoch 156 - acc: 0.9728, best_val_acc: 0.7169\n",
            "Epoch 157 - acc: 0.9805, best_val_acc: 0.7169\n",
            "Epoch 158 - acc: 0.9808, best_val_acc: 0.7169\n",
            "Epoch 159 - acc: 0.9746, best_val_acc: 0.7169\n",
            "Epoch 160 - acc: 0.9714, best_val_acc: 0.7169\n",
            "Epoch 161 - acc: 0.9324, best_val_acc: 0.7169\n",
            "Epoch 162 - acc: 0.9725, best_val_acc: 0.7169\n",
            "Epoch 163 - acc: 0.9484, best_val_acc: 0.7169\n",
            "Epoch 164 - acc: 0.9784, best_val_acc: 0.7169\n",
            "Epoch 165 - acc: 0.9742, best_val_acc: 0.7169\n",
            "Epoch 166 - acc: 0.9794, best_val_acc: 0.7169\n",
            "Epoch 167 - acc: 0.9791, best_val_acc: 0.7169\n",
            "Epoch 168 - acc: 0.9843, best_val_acc: 0.7169\n",
            "Epoch 169 - acc: 0.9871, best_val_acc: 0.7169\n",
            "Epoch 170 - acc: 0.9864, best_val_acc: 0.7169\n",
            "Epoch 171 - acc: 0.9672, best_val_acc: 0.7169\n",
            "Epoch 172 - acc: 0.9857, best_val_acc: 0.7169\n",
            "Epoch 173 - acc: 0.9850, best_val_acc: 0.7169\n",
            "Epoch 174 - acc: 0.9826, best_val_acc: 0.7169\n",
            "Epoch 175 - acc: 0.9721, best_val_acc: 0.7169\n",
            "Epoch 176 - acc: 0.9672, best_val_acc: 0.7169\n",
            "Epoch 177 - acc: 0.9780, best_val_acc: 0.7169\n",
            "Epoch 178 - acc: 0.9875, best_val_acc: 0.7169\n",
            "Epoch 179 - acc: 0.9491, best_val_acc: 0.7169\n",
            "Epoch 180 - acc: 0.9686, best_val_acc: 0.7169\n",
            "Epoch 181 - acc: 0.9655, best_val_acc: 0.7169\n",
            "Epoch 182 - acc: 0.9868, best_val_acc: 0.7169\n",
            "Epoch 183 - acc: 0.9080, best_val_acc: 0.7169\n",
            "Epoch 184 - acc: 0.9645, best_val_acc: 0.7169\n",
            "Epoch 185 - acc: 0.9735, best_val_acc: 0.7169\n",
            "Epoch 186 - acc: 0.9721, best_val_acc: 0.7169\n",
            "Epoch 187 - acc: 0.9878, best_val_acc: 0.7169\n",
            "Epoch 188 - acc: 0.9854, best_val_acc: 0.7169\n",
            "Epoch 189 - acc: 0.9878, best_val_acc: 0.7169\n",
            "Epoch 190 - acc: 0.9895, best_val_acc: 0.7169\n",
            "Epoch 191 - acc: 0.9885, best_val_acc: 0.7169\n",
            "Epoch 192 - acc: 0.9899, best_val_acc: 0.7169\n",
            "Epoch 193 - acc: 0.9913, best_val_acc: 0.7169\n",
            "Epoch 194 - acc: 0.9906, best_val_acc: 0.7169\n",
            "Epoch 195 - acc: 0.9916, best_val_acc: 0.7169\n",
            "Epoch 196 - acc: 0.9798, best_val_acc: 0.7169\n",
            "Epoch 197 - acc: 0.9606, best_val_acc: 0.7169\n",
            "Epoch 198 - acc: 0.9868, best_val_acc: 0.7169\n",
            "Epoch 199 - acc: 0.9892, best_val_acc: 0.7169\n",
            "Epoch 200 - acc: 0.9920, best_val_acc: 0.7169\n"
          ]
        }
      ]
    },
    {
      "cell_type": "code",
      "source": [
        "import torch\n",
        "import numpy as np\n",
        "from sklearn.metrics import confusion_matrix, ConfusionMatrixDisplay\n",
        "import matplotlib.pyplot as plt\n",
        "\n",
        "model.eval()  # Set the model to evaluation mode\n",
        "\n",
        "all_preds = []\n",
        "all_labels = []\n",
        "\n",
        "with torch.no_grad():\n",
        "    for inputs, labels in val_loader:\n",
        "        inputs = inputs.cuda()\n",
        "        labels = labels.cuda()\n",
        "        outputs = model(inputs)\n",
        "        _, preds = torch.max(outputs, 1)  # Get predicted class labels\n",
        "        all_preds.extend(preds.cpu().numpy())\n",
        "        all_labels.extend(labels.cpu().numpy())\n",
        "\n",
        "# Compute the confusion matrix\n",
        "cm = confusion_matrix(all_labels, all_preds)\n",
        "\n",
        "# Plot the confusion matrix\n",
        "disp = ConfusionMatrixDisplay(confusion_matrix=cm)\n",
        "disp.plot(cmap=plt.cm.Blues, values_format=\".0f\")\n",
        "plt.title(\"Confusion Matrix\")\n",
        "plt.show()\n"
      ],
      "metadata": {
        "id": "VDI8NU4Xr2oa",
        "colab": {
          "base_uri": "https://localhost:8080/",
          "height": 472
        },
        "outputId": "efd44672-5430-4319-d93c-fb135963ce41"
      },
      "execution_count": 18,
      "outputs": [
        {
          "output_type": "display_data",
          "data": {
            "text/plain": [
              "<Figure size 640x480 with 2 Axes>"
            ],
            "image/png": "[encoded data removed]"
          },
          "metadata": {}
        }
      ]
    },
    {
      "cell_type": "markdown",
      "source": [
        "**Additional Questions:**\n",
        "\n",
        "- Can you add an RNN/LSTM model that works on MFCC features?\n",
        "- Can you add a CNN model that works on MFCC features?"
      ],
      "metadata": {
        "id": "vh5dbfg2NNF5"
      }
    }
  ],
  "metadata": {
    "accelerator": "GPU",
    "colab": {
      "provenance": [],
      "include_colab_link": true
    },
    "kernelspec": {
      "display_name": "Python 3",
      "language": "python",
      "name": "python3"
    },
    "language_info": {
      "codemirror_mode": {
        "name": "ipython",
        "version": 3
      },
      "file_extension": ".py",
      "mimetype": "text/x-python",
      "name": "python",
      "nbconvert_exporter": "python",
      "pygments_lexer": "ipython3",
      "version": "3.6.8"
    }
  },
  "nbformat": 4,
  "nbformat_minor": 0
}