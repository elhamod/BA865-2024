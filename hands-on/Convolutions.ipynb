{
  "nbformat": 4,
  "nbformat_minor": 0,
  "metadata": {
    "colab": {
      "provenance": [],
      "authorship_tag": "ABX9TyNEO3aR9e4EzHumfSvkfvlf",
      "include_colab_link": true
    },
    "kernelspec": {
      "name": "python3",
      "display_name": "Python 3"
    },
    "language_info": {
      "name": "python"
    }
  },
  "cells": [
    {
      "cell_type": "markdown",
      "metadata": {
        "id": "view-in-github",
        "colab_type": "text"
      },
      "source": [
        "<a href=\"https://colab.research.google.com/github/elhamod/BA865-2024/blob/main/hands-on/Convolutions.ipynb\" target=\"_parent\"><img src=\"https://colab.research.google.com/assets/colab-badge.svg\" alt=\"Open In Colab\"/></a>"
      ]
    },
    {
      "cell_type": "markdown",
      "source": [
        "Let's load an image to play with it"
      ],
      "metadata": {
        "id": "cNEl0cXkLW1u"
      }
    },
    {
      "cell_type": "code",
      "source": [
        "import torch\n",
        "from PIL import Image\n",
        "import numpy as np\n",
        "from scipy.datasets import face\n",
        "import matplotlib.pyplot as plt\n",
        "\n",
        "# Load and preprocess the image\n",
        "\n",
        "# image = Image.open('path_to_your_image.jpg')\n",
        "# image = image.convert('L')  # Convert to grayscale\n",
        "# image = np.array(image) # convert to numpy array\n",
        "\n",
        "image = face(gray=True)\n",
        "image = image / 255.0  # Normalize to [0, 1]\n",
        "image_tensor = torch.tensor(image, dtype=torch.float32).unsqueeze(0).unsqueeze(0)  # Add batch and channel dimensions\n",
        "\n",
        "\n",
        "plt.figure(figsize=(34, 16))\n",
        "plt.subplot(2,2, 1)\n",
        "plt.imshow(image, cmap='gray')\n",
        "plt.title('Original image')"
      ],
      "metadata": {
        "id": "u7nbdTHULZUf"
      },
      "execution_count": null,
      "outputs": []
    },
    {
      "cell_type": "markdown",
      "source": [
        "Let's create a kernel"
      ],
      "metadata": {
        "id": "XZnds9W3Mh55"
      }
    },
    {
      "cell_type": "markdown",
      "source": [
        "For more info on pytorch convolutions: https://pytorch.org/docs/stable/generated/torch.nn.functional.conv2d.html"
      ],
      "metadata": {
        "id": "ghWw5RHIRE0f"
      }
    },
    {
      "cell_type": "code",
      "source": [
        "# Define the kernels for edge detection\n",
        "vertical_kernel = torch.tensor([[-1, 0, 1],\n",
        "                                [-2, 0, 2],\n",
        "                                [-1, 0, 1]], dtype=torch.float32).unsqueeze(0).unsqueeze(0)\n",
        "\n",
        "\n",
        "import torch.nn.functional as F\n",
        "vertical_features = F.conv2d(image_tensor, vertical_kernel, padding=1)"
      ],
      "metadata": {
        "id": "M2Yymo6vMh-w"
      },
      "execution_count": null,
      "outputs": []
    },
    {
      "cell_type": "code",
      "source": [
        "vertical_kernel.shape"
      ],
      "metadata": {
        "id": "jaI9Qm4jNwGP"
      },
      "execution_count": null,
      "outputs": []
    },
    {
      "cell_type": "code",
      "source": [
        "# Visualize the kernels and the output features\n",
        "plt.figure(figsize=(34, 16))\n",
        "plt.subplot(2,2, 1)\n",
        "plt.imshow(np.abs(vertical_features.squeeze().detach().numpy()), cmap='gray')\n",
        "plt.title('Vertical Features')"
      ],
      "metadata": {
        "id": "UUr0D806M1di"
      },
      "execution_count": null,
      "outputs": []
    },
    {
      "cell_type": "markdown",
      "source": [
        "What about horizontal lines?"
      ],
      "metadata": {
        "id": "UllE0ljlOmZu"
      }
    },
    {
      "cell_type": "code",
      "source": [
        "horizontal_kernel = torch.tensor([[-1, -2, -1],\n",
        "                                [0, 0, 0],\n",
        "                                [1, 2, 1]], dtype=torch.float32).unsqueeze(0).unsqueeze(0)\n",
        "\n",
        "horizontal_features = F.conv2d(image_tensor, horizontal_kernel, padding=1)"
      ],
      "metadata": {
        "id": "FJkmK1eCOpP5"
      },
      "execution_count": null,
      "outputs": []
    },
    {
      "cell_type": "code",
      "source": [
        "# Visualize the kernels and the output features\n",
        "plt.figure(figsize=(34, 16))\n",
        "plt.subplot(2,2, 1)\n",
        "plt.imshow(np.abs(horizontal_features.squeeze().detach().numpy()), cmap='gray')\n",
        "plt.title('Horizontal Features')"
      ],
      "metadata": {
        "id": "H_GrMoZ4Oqca"
      },
      "execution_count": null,
      "outputs": []
    },
    {
      "cell_type": "markdown",
      "source": [
        "Show all together"
      ],
      "metadata": {
        "id": "3vI3Gz89QLjR"
      }
    },
    {
      "cell_type": "code",
      "source": [
        "plt.figure(figsize=(34, 16))\n",
        "plt.subplot(2,2, 1)\n",
        "plt.imshow(image, cmap='gray')\n",
        "plt.title('Vertical Features')\n",
        "plt.subplot(2,2, 3)\n",
        "plt.imshow(np.abs(vertical_features.squeeze().detach().numpy()), cmap='gray')\n",
        "plt.title('Vertical Features')\n",
        "plt.subplot(2,2, 4)\n",
        "plt.imshow(np.abs(horizontal_features.squeeze().detach().numpy()), cmap='gray')\n",
        "plt.title('Vertical Features')"
      ],
      "metadata": {
        "id": "Dp7g6kIFQK-E"
      },
      "execution_count": null,
      "outputs": []
    }
  ]
}